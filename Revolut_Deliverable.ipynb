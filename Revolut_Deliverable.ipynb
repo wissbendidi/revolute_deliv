{
 "cells": [
  {
   "cell_type": "markdown",
   "metadata": {
    "colab_type": "text",
    "id": "oBSV8zpSqjrk"
   },
   "source": [
    "# Churn Reduction for Revolut Clients"
   ]
  },
  {
   "cell_type": "markdown",
   "metadata": {
    "colab_type": "text",
    "id": "RPyIq9Meq6sZ"
   },
   "source": [
    "The goal of this task is to understand the customers of Revolut, and aim to reduce the churn of users.\n",
    "\n",
    "We consider that an unengaged user is a churned user. Thus to achieve our goal, we need to define metrics that enable us to classify engaged and unengaged users."
   ]
  },
  {
   "cell_type": "markdown",
   "metadata": {
    "colab_type": "text",
    "id": "ibXwDpIjYXyT"
   },
   "source": [
    "### Project plan :"
   ]
  },
  {
   "cell_type": "markdown",
   "metadata": {
    "colab_type": "text",
    "id": "LuitQavRYmsk"
   },
   "source": [
    "*   [Part 2 : Target metric for engagement](#2)\n",
    "  * [Initial understanding of Data](#I)\n",
    "  * [Data preparation](#II)\n",
    "  * [Data analysis](#III)\n",
    "  * [User engagement metric](#IV)\n",
    "  * [Engagement Analysis](#V)\n",
    "*   [Part 3 : Classification model](#3)\n",
    "  * [Data preparation](#data)\n",
    "  * [Classification model](#ml)\n",
    "     * [Logistic regression](#a)\n",
    "     * [Support vector machines](#b)\n",
    "     * [K-nearest neighbors](#c)\n",
    "     * [Random forest](#d)\n",
    "     * [Final model choice](#e)\n",
    "*   [Part 4 : Churn reduction](#4)"
   ]
  },
  {
   "cell_type": "markdown",
   "metadata": {
    "colab_type": "text",
    "id": "QOfovuqNrvjx"
   },
   "source": [
    "\n",
    "\n",
    "---\n",
    "#### <a name=\"2\">**Part 2 :** *Define a target metric to measure engagement*</a>\n",
    "\n"
   ]
  },
  {
   "cell_type": "markdown",
   "metadata": {
    "colab_type": "text",
    "id": "cb9vy_6Ksfil"
   },
   "source": [
    "We can push forward a hypothesis of defining engagement by classifying users through their engagement after receiving a notification.\n",
    "\n",
    "We have observed that the number of transactions made by users in the 7 days after receiving a notification is different compared to the number of transactions made before receiving the notification.\n",
    "\n",
    "We define engaged users in our hypothesis as users who made on average more transactions(at least by one) in the seven days after receiving a notification than the transactions made in the seven days before receiving a notification.\n",
    "\n",
    "Unengaged users are then users who made on average same or less transactions in the seven days after receiving a notification than in the seven days before it.\n",
    "\n",
    "We believe it is an accurate description of engaged and unengaged users, as in this case, the engaged users would be the ones that possibly react positively to notifications, and got an increasing engagement with time, opposite to unengaged and churned user that are slowly making less transactions with time, even after receiving notifications.\n",
    "\n",
    "We will aim to confirm our hypothesis through an exploratory data analysis and study of our available data."
   ]
  },
  {
   "cell_type": "markdown",
   "metadata": {
    "colab_type": "text",
    "id": "dFQtZP7usfl3"
   },
   "source": [
    "##### <a name=\"I\">**I - Initial Understanding of Data**</a>\n",
    "An exploration of the datasets used,  and their types of variables"
   ]
  },
  {
   "cell_type": "markdown",
   "metadata": {
    "colab_type": "text",
    "id": "5WRIkeJ3sfob"
   },
   "source": [
    "We will start by importing the libraries we'll be using to manipulate data and for computing"
   ]
  },
  {
   "cell_type": "code",
   "execution_count": null,
   "metadata": {
    "colab": {},
    "colab_type": "code",
    "id": "vkzkqNYDJvv8"
   },
   "outputs": [],
   "source": [
    "# Importing libraries\n",
    "import pandas as pd \n",
    "import numpy as np"
   ]
  },
  {
   "cell_type": "markdown",
   "metadata": {
    "colab_type": "text",
    "id": "TRu74zJJsfqy"
   },
   "source": [
    "We will be then reading the data we'll be using, of transactions made by the users, notifications sent to users, information about those users and the brands of the phones of theirs"
   ]
  },
  {
   "cell_type": "code",
   "execution_count": null,
   "metadata": {
    "colab": {},
    "colab_type": "code",
    "id": "OJGg0bKbLfpq"
   },
   "outputs": [],
   "source": [
    "# Reading user data\n",
    "user_data = pd.read_csv(\"data/rev-users.csv\") \n",
    "\n",
    "# Reading devices data\n",
    "devices_data = pd.read_csv(\"data/rev-devices.csv\") \n",
    "\n",
    "# Reading notifications data\n",
    "notif_data = pd.read_csv(\"data/rev-notifications.csv\") \n",
    "\n",
    "# Reading transaction data\n",
    "transaction_data = pd.read_csv(\"data/rev-transactions.csv\") "
   ]
  },
  {
   "cell_type": "markdown",
   "metadata": {
    "colab_type": "text",
    "id": "KoVwOtIZsftY"
   },
   "source": [
    "A simple exploration of the all the data shows a lot of information about it. We would begin by exploring the user dataset : "
   ]
  },
  {
   "cell_type": "code",
   "execution_count": null,
   "metadata": {
    "colab": {
     "base_uri": "https://localhost:8080/",
     "height": 52
    },
    "colab_type": "code",
    "id": "aRvY8LQVnPG2",
    "outputId": "b89e102d-17b4-4944-f943-67936438b85a"
   },
   "outputs": [
    {
     "name": "stdout",
     "output_type": "stream",
     "text": [
      "Number of users : 19430 user\n",
      "Each user defined by 12 variable\n"
     ]
    }
   ],
   "source": [
    "print(\"Number of users : {:1d} user\\nEach user defined by {:1d} variable\".format(user_data.shape[0],user_data.shape[1]))"
   ]
  },
  {
   "cell_type": "code",
   "execution_count": null,
   "metadata": {
    "colab": {
     "base_uri": "https://localhost:8080/",
     "height": 313
    },
    "colab_type": "code",
    "id": "yi-XVj32PRsl",
    "outputId": "4301271e-a2bb-4d8f-c2b4-e63e44467442"
   },
   "outputs": [
    {
     "data": {
      "text/html": [
       "<div>\n",
       "<style scoped>\n",
       "    .dataframe tbody tr th:only-of-type {\n",
       "        vertical-align: middle;\n",
       "    }\n",
       "\n",
       "    .dataframe tbody tr th {\n",
       "        vertical-align: top;\n",
       "    }\n",
       "\n",
       "    .dataframe thead th {\n",
       "        text-align: right;\n",
       "    }\n",
       "</style>\n",
       "<table border=\"1\" class=\"dataframe\">\n",
       "  <thead>\n",
       "    <tr style=\"text-align: right;\">\n",
       "      <th></th>\n",
       "      <th>user_id</th>\n",
       "      <th>birth_year</th>\n",
       "      <th>country</th>\n",
       "      <th>city</th>\n",
       "      <th>created_date</th>\n",
       "      <th>user_settings_crypto_unlocked</th>\n",
       "      <th>plan</th>\n",
       "      <th>attributes_notifications_marketing_push</th>\n",
       "      <th>attributes_notifications_marketing_email</th>\n",
       "      <th>num_contacts</th>\n",
       "      <th>num_referrals</th>\n",
       "      <th>num_successful_referrals</th>\n",
       "    </tr>\n",
       "  </thead>\n",
       "  <tbody>\n",
       "    <tr>\n",
       "      <th>0</th>\n",
       "      <td>user_0</td>\n",
       "      <td>1989</td>\n",
       "      <td>PL</td>\n",
       "      <td>Gdansk</td>\n",
       "      <td>2018-01-13 05:15:15.599466</td>\n",
       "      <td>1</td>\n",
       "      <td>STANDARD</td>\n",
       "      <td>1.0</td>\n",
       "      <td>1.0</td>\n",
       "      <td>3</td>\n",
       "      <td>0</td>\n",
       "      <td>0</td>\n",
       "    </tr>\n",
       "    <tr>\n",
       "      <th>1</th>\n",
       "      <td>user_1</td>\n",
       "      <td>1975</td>\n",
       "      <td>GB</td>\n",
       "      <td>London</td>\n",
       "      <td>2018-01-29 03:38:46.676876</td>\n",
       "      <td>0</td>\n",
       "      <td>STANDARD</td>\n",
       "      <td>NaN</td>\n",
       "      <td>NaN</td>\n",
       "      <td>21</td>\n",
       "      <td>0</td>\n",
       "      <td>0</td>\n",
       "    </tr>\n",
       "    <tr>\n",
       "      <th>2</th>\n",
       "      <td>user_2</td>\n",
       "      <td>1987</td>\n",
       "      <td>PL</td>\n",
       "      <td>Poznań</td>\n",
       "      <td>2018-01-18 19:17:31.229096</td>\n",
       "      <td>0</td>\n",
       "      <td>STANDARD</td>\n",
       "      <td>0.0</td>\n",
       "      <td>0.0</td>\n",
       "      <td>21</td>\n",
       "      <td>0</td>\n",
       "      <td>0</td>\n",
       "    </tr>\n",
       "    <tr>\n",
       "      <th>3</th>\n",
       "      <td>user_3</td>\n",
       "      <td>1994</td>\n",
       "      <td>FR</td>\n",
       "      <td>Paris</td>\n",
       "      <td>2018-01-15 18:47:56.723104</td>\n",
       "      <td>0</td>\n",
       "      <td>STANDARD</td>\n",
       "      <td>1.0</td>\n",
       "      <td>0.0</td>\n",
       "      <td>0</td>\n",
       "      <td>0</td>\n",
       "      <td>0</td>\n",
       "    </tr>\n",
       "    <tr>\n",
       "      <th>4</th>\n",
       "      <td>user_4</td>\n",
       "      <td>1985</td>\n",
       "      <td>GB</td>\n",
       "      <td>Beckenham</td>\n",
       "      <td>2018-01-11 00:36:46.673673</td>\n",
       "      <td>0</td>\n",
       "      <td>STANDARD</td>\n",
       "      <td>NaN</td>\n",
       "      <td>NaN</td>\n",
       "      <td>2</td>\n",
       "      <td>0</td>\n",
       "      <td>0</td>\n",
       "    </tr>\n",
       "  </tbody>\n",
       "</table>\n",
       "</div>"
      ],
      "text/plain": [
       "  user_id  birth_year  ... num_referrals num_successful_referrals\n",
       "0  user_0        1989  ...             0                        0\n",
       "1  user_1        1975  ...             0                        0\n",
       "2  user_2        1987  ...             0                        0\n",
       "3  user_3        1994  ...             0                        0\n",
       "4  user_4        1985  ...             0                        0\n",
       "\n",
       "[5 rows x 12 columns]"
      ]
     },
     "execution_count": 4,
     "metadata": {
      "tags": []
     },
     "output_type": "execute_result"
    }
   ],
   "source": [
    "user_data.head()"
   ]
  },
  {
   "cell_type": "markdown",
   "metadata": {
    "colab_type": "text",
    "id": "_FPCQC5psfwN"
   },
   "source": [
    "\n",
    "We can see above the first five observations of our user data. The following are the variables we got about users : \n",
    "*   **user_id** : being the unique id of a Revolut user.\n",
    "*   **birth_year** : the birth year of the user.\n",
    "*   **country** : corresponding to the country of the user.\n",
    "*   **city** : the city of residence of the user.\n",
    "*   **created_date** : corresponding to the date when the user joined Revolut.\n",
    "*   **user_settings_crypto_unlocked** : A value indicating if the user has activated crypto.\n",
    "*   **plan** : A string indicating the plan the user chose for using the account.\n",
    "*   **attributes_notifications_marketing_push** :  float indicating if the user has accepted to receive \n",
    "marketing push notifications.\n",
    "*   **attributes_notifications_marketing_email** : float indicating if the user has accepted to receive \n",
    "marketing email notifications.\n",
    "*   **num_contacts** : an integer showing the number of contacts the user got, that are also on Revolut.\n",
    "*   **num_referrals** : The number of referred users by this same user.\n",
    "*   **num_successful_referrals** : The numbers of referred users by this user that were successfully referred and became users.\n",
    "\n",
    "We can have more details about each numerical variable :\n",
    "\n",
    "\n",
    "\n",
    "\n"
   ]
  },
  {
   "cell_type": "code",
   "execution_count": null,
   "metadata": {
    "colab": {
     "base_uri": "https://localhost:8080/",
     "height": 320
    },
    "colab_type": "code",
    "id": "ZwJ_l5NphLA3",
    "outputId": "c82b0ac0-e798-492a-b584-b114b7ef7763"
   },
   "outputs": [
    {
     "data": {
      "text/html": [
       "<div>\n",
       "<style scoped>\n",
       "    .dataframe tbody tr th:only-of-type {\n",
       "        vertical-align: middle;\n",
       "    }\n",
       "\n",
       "    .dataframe tbody tr th {\n",
       "        vertical-align: top;\n",
       "    }\n",
       "\n",
       "    .dataframe thead th {\n",
       "        text-align: right;\n",
       "    }\n",
       "</style>\n",
       "<table border=\"1\" class=\"dataframe\">\n",
       "  <thead>\n",
       "    <tr style=\"text-align: right;\">\n",
       "      <th></th>\n",
       "      <th>birth_year</th>\n",
       "      <th>user_settings_crypto_unlocked</th>\n",
       "      <th>attributes_notifications_marketing_push</th>\n",
       "      <th>attributes_notifications_marketing_email</th>\n",
       "      <th>num_contacts</th>\n",
       "      <th>num_referrals</th>\n",
       "      <th>num_successful_referrals</th>\n",
       "    </tr>\n",
       "  </thead>\n",
       "  <tbody>\n",
       "    <tr>\n",
       "      <th>count</th>\n",
       "      <td>19430.000000</td>\n",
       "      <td>19430.000000</td>\n",
       "      <td>12820.000000</td>\n",
       "      <td>12820.000000</td>\n",
       "      <td>19430.000000</td>\n",
       "      <td>19430.0</td>\n",
       "      <td>19430.0</td>\n",
       "    </tr>\n",
       "    <tr>\n",
       "      <th>mean</th>\n",
       "      <td>1983.648636</td>\n",
       "      <td>0.181009</td>\n",
       "      <td>0.947582</td>\n",
       "      <td>0.895944</td>\n",
       "      <td>17.887699</td>\n",
       "      <td>0.0</td>\n",
       "      <td>0.0</td>\n",
       "    </tr>\n",
       "    <tr>\n",
       "      <th>std</th>\n",
       "      <td>11.368871</td>\n",
       "      <td>0.385035</td>\n",
       "      <td>0.222877</td>\n",
       "      <td>0.305345</td>\n",
       "      <td>46.506438</td>\n",
       "      <td>0.0</td>\n",
       "      <td>0.0</td>\n",
       "    </tr>\n",
       "    <tr>\n",
       "      <th>min</th>\n",
       "      <td>1929.000000</td>\n",
       "      <td>0.000000</td>\n",
       "      <td>0.000000</td>\n",
       "      <td>0.000000</td>\n",
       "      <td>0.000000</td>\n",
       "      <td>0.0</td>\n",
       "      <td>0.0</td>\n",
       "    </tr>\n",
       "    <tr>\n",
       "      <th>25%</th>\n",
       "      <td>1978.000000</td>\n",
       "      <td>0.000000</td>\n",
       "      <td>1.000000</td>\n",
       "      <td>1.000000</td>\n",
       "      <td>0.000000</td>\n",
       "      <td>0.0</td>\n",
       "      <td>0.0</td>\n",
       "    </tr>\n",
       "    <tr>\n",
       "      <th>50%</th>\n",
       "      <td>1986.000000</td>\n",
       "      <td>0.000000</td>\n",
       "      <td>1.000000</td>\n",
       "      <td>1.000000</td>\n",
       "      <td>5.000000</td>\n",
       "      <td>0.0</td>\n",
       "      <td>0.0</td>\n",
       "    </tr>\n",
       "    <tr>\n",
       "      <th>75%</th>\n",
       "      <td>1992.000000</td>\n",
       "      <td>0.000000</td>\n",
       "      <td>1.000000</td>\n",
       "      <td>1.000000</td>\n",
       "      <td>19.000000</td>\n",
       "      <td>0.0</td>\n",
       "      <td>0.0</td>\n",
       "    </tr>\n",
       "    <tr>\n",
       "      <th>max</th>\n",
       "      <td>2001.000000</td>\n",
       "      <td>1.000000</td>\n",
       "      <td>1.000000</td>\n",
       "      <td>1.000000</td>\n",
       "      <td>2918.000000</td>\n",
       "      <td>0.0</td>\n",
       "      <td>0.0</td>\n",
       "    </tr>\n",
       "  </tbody>\n",
       "</table>\n",
       "</div>"
      ],
      "text/plain": [
       "         birth_year  ...  num_successful_referrals\n",
       "count  19430.000000  ...                   19430.0\n",
       "mean    1983.648636  ...                       0.0\n",
       "std       11.368871  ...                       0.0\n",
       "min     1929.000000  ...                       0.0\n",
       "25%     1978.000000  ...                       0.0\n",
       "50%     1986.000000  ...                       0.0\n",
       "75%     1992.000000  ...                       0.0\n",
       "max     2001.000000  ...                       0.0\n",
       "\n",
       "[8 rows x 7 columns]"
      ]
     },
     "execution_count": 5,
     "metadata": {
      "tags": []
     },
     "output_type": "execute_result"
    }
   ],
   "source": [
    "user_data.describe()"
   ]
  },
  {
   "cell_type": "markdown",
   "metadata": {
    "colab_type": "text",
    "id": "H9gLNb7klRA3"
   },
   "source": [
    "*   **birth_year** got values between a minimum of 1929 and a maximum of 2001. The ages of the users are between 19 years and 91 years, with the mean of age being 37 years ( a birth year of 1983).\n",
    "*   **num_contacts** got values from users having zero contacts, to a maximum of 2918 contact on Revolut. The mean of number of contacts is 17, which means that most of the users got a very low number of contacts on Revolut.\n",
    "*   **num_referrals** and **num_successful_referrals** appear to keep a value of zero throughout the dataset. This means that all users didn't refer a single person. \n",
    "We can see below a distribution of the frequency of the ages of the users :"
   ]
  },
  {
   "cell_type": "code",
   "execution_count": null,
   "metadata": {
    "colab": {
     "base_uri": "https://localhost:8080/",
     "height": 337
    },
    "colab_type": "code",
    "id": "MGYaktnRk-Y7",
    "outputId": "1b597bff-fd90-4d02-c4b6-01a8594999ff"
   },
   "outputs": [
    {
     "data": {
      "text/plain": [
       "<matplotlib.axes._subplots.AxesSubplot at 0x7f98e4e1bf60>"
      ]
     },
     "execution_count": 6,
     "metadata": {
      "tags": []
     },
     "output_type": "execute_result"
    },
    {
     "data": {
      "image/png": "[encoded data removed]",
      "text/plain": [
       "<Figure size 720x360 with 1 Axes>"
      ]
     },
     "metadata": {
      "tags": []
     },
     "output_type": "display_data"
    }
   ],
   "source": [
    "# Plotting a histogram of the frequency of user ages, after computing the current age of each user\n",
    "(2020 - user_data['birth_year']).plot(kind='hist',grid=True,figsize=(10,5))"
   ]
  },
  {
   "cell_type": "markdown",
   "metadata": {
    "colab_type": "text",
    "id": "qEO09NPGsfzJ"
   },
   "source": [
    "Users appear to be the most frequent between 19 and 41 years, and then slowly going down in frequency.\n",
    "\n",
    "We will below make a count of occurences of the categorical variables in our dataset. We will begin by whether users have activated crypto on their account."
   ]
  },
  {
   "cell_type": "code",
   "execution_count": null,
   "metadata": {
    "colab": {
     "base_uri": "https://localhost:8080/",
     "height": 69
    },
    "colab_type": "code",
    "id": "34LtB2VfxZZl",
    "outputId": "a7a38b1d-bf19-4136-9fe9-62176e968861"
   },
   "outputs": [
    {
     "data": {
      "text/plain": [
       "0    15913\n",
       "1     3517\n",
       "Name: user_settings_crypto_unlocked, dtype: int64"
      ]
     },
     "execution_count": 7,
     "metadata": {
      "tags": []
     },
     "output_type": "execute_result"
    }
   ],
   "source": [
    "# Counting the occurence of each value in the crypto variable \n",
    "user_data['user_settings_crypto_unlocked'].value_counts()"
   ]
  },
  {
   "cell_type": "markdown",
   "metadata": {
    "colab_type": "text",
    "id": "bdnqEsAT5mWC"
   },
   "source": [
    "We observe that the majority of users (15913 user) didn't activate crypto on their account, with only a group (3517 user) activating it.\n",
    "\n",
    "Below is a study of occurences in the country variables :"
   ]
  },
  {
   "cell_type": "code",
   "execution_count": null,
   "metadata": {
    "colab": {
     "base_uri": "https://localhost:8080/",
     "height": 746
    },
    "colab_type": "code",
    "id": "JVqV1AIY6jUo",
    "outputId": "c0e86490-9d50-4d44-a49e-04c88fa14ca6"
   },
   "outputs": [
    {
     "data": {
      "text/plain": [
       "GB    6315\n",
       "PL    2306\n",
       "FR    2110\n",
       "IE    1214\n",
       "RO    1096\n",
       "ES     991\n",
       "LT     646\n",
       "PT     604\n",
       "MT     548\n",
       "DE     446\n",
       "CH     443\n",
       "CZ     355\n",
       "IT     311\n",
       "GR     218\n",
       "CY     191\n",
       "NL     174\n",
       "LV     171\n",
       "HU     157\n",
       "BE     143\n",
       "SE     141\n",
       "DK     101\n",
       "BG      94\n",
       "NO      87\n",
       "SI      87\n",
       "SK      79\n",
       "AT      78\n",
       "HR      63\n",
       "JE      55\n",
       "GI      44\n",
       "FI      38\n",
       "EE      35\n",
       "LU      24\n",
       "GG      15\n",
       "IM      11\n",
       "GP      10\n",
       "RE       7\n",
       "IS       7\n",
       "AU       6\n",
       "MQ       4\n",
       "LI       4\n",
       "GF       1\n",
       "Name: country, dtype: int64"
      ]
     },
     "execution_count": 8,
     "metadata": {
      "tags": []
     },
     "output_type": "execute_result"
    }
   ],
   "source": [
    "# counting the occurences of each country in the user database \n",
    "user_data['country'].value_counts()"
   ]
  },
  {
   "cell_type": "markdown",
   "metadata": {
    "colab_type": "text",
    "id": "Ow9Ymu44_jRt"
   },
   "source": [
    "We can thus find that while some countries have very numerous observations, a few others got extremely few observations.\n",
    "\n",
    "We can have more details about the data below :\n"
   ]
  },
  {
   "cell_type": "code",
   "execution_count": null,
   "metadata": {
    "colab": {
     "base_uri": "https://localhost:8080/",
     "height": 312
    },
    "colab_type": "code",
    "id": "EbNHLhhE60xD",
    "outputId": "87d9386f-19ba-4c59-903f-a11310ffcc07"
   },
   "outputs": [
    {
     "name": "stdout",
     "output_type": "stream",
     "text": [
      "<class 'pandas.core.frame.DataFrame'>\n",
      "RangeIndex: 19430 entries, 0 to 19429\n",
      "Data columns (total 12 columns):\n",
      "user_id                                     19430 non-null object\n",
      "birth_year                                  19430 non-null int64\n",
      "country                                     19430 non-null object\n",
      "city                                        19430 non-null object\n",
      "created_date                                19430 non-null object\n",
      "user_settings_crypto_unlocked               19430 non-null int64\n",
      "plan                                        19430 non-null object\n",
      "attributes_notifications_marketing_push     12820 non-null float64\n",
      "attributes_notifications_marketing_email    12820 non-null float64\n",
      "num_contacts                                19430 non-null int64\n",
      "num_referrals                               19430 non-null int64\n",
      "num_successful_referrals                    19430 non-null int64\n",
      "dtypes: float64(2), int64(5), object(5)\n",
      "memory usage: 1.8+ MB\n"
     ]
    }
   ],
   "source": [
    "user_data.info()"
   ]
  },
  {
   "cell_type": "markdown",
   "metadata": {
    "colab_type": "text",
    "id": "au5VXPqNEw72"
   },
   "source": [
    "It appears that **attributes_notifications_marketing_push** and **attributes_notifications_marketing_email** got many missing values.\n",
    "\n",
    "We will now explore the devices dataset :"
   ]
  },
  {
   "cell_type": "code",
   "execution_count": null,
   "metadata": {
    "colab": {
     "base_uri": "https://localhost:8080/",
     "height": 52
    },
    "colab_type": "code",
    "id": "4wM3GGVgEuc3",
    "outputId": "68bd509b-9d54-4f23-aea6-4ba79a15e786"
   },
   "outputs": [
    {
     "name": "stdout",
     "output_type": "stream",
     "text": [
      "Number of devices : 19430 device\n",
      "Each device defined by 2 variable\n"
     ]
    }
   ],
   "source": [
    "print(\"Number of devices : {:1d} device\\nEach device defined by {:1d} variable\".format(devices_data.shape[0],devices_data.shape[1]))"
   ]
  },
  {
   "cell_type": "code",
   "execution_count": null,
   "metadata": {
    "colab": {
     "base_uri": "https://localhost:8080/",
     "height": 206
    },
    "colab_type": "code",
    "id": "hYvspuUFFgTD",
    "outputId": "2f6496f4-3d26-476b-da6b-7b2fccae9def"
   },
   "outputs": [
    {
     "data": {
      "text/html": [
       "<div>\n",
       "<style scoped>\n",
       "    .dataframe tbody tr th:only-of-type {\n",
       "        vertical-align: middle;\n",
       "    }\n",
       "\n",
       "    .dataframe tbody tr th {\n",
       "        vertical-align: top;\n",
       "    }\n",
       "\n",
       "    .dataframe thead th {\n",
       "        text-align: right;\n",
       "    }\n",
       "</style>\n",
       "<table border=\"1\" class=\"dataframe\">\n",
       "  <thead>\n",
       "    <tr style=\"text-align: right;\">\n",
       "      <th></th>\n",
       "      <th>brand</th>\n",
       "      <th>user_id</th>\n",
       "    </tr>\n",
       "  </thead>\n",
       "  <tbody>\n",
       "    <tr>\n",
       "      <th>0</th>\n",
       "      <td>Android</td>\n",
       "      <td>user_3257</td>\n",
       "    </tr>\n",
       "    <tr>\n",
       "      <th>1</th>\n",
       "      <td>Apple</td>\n",
       "      <td>user_6809</td>\n",
       "    </tr>\n",
       "    <tr>\n",
       "      <th>2</th>\n",
       "      <td>Android</td>\n",
       "      <td>user_9144</td>\n",
       "    </tr>\n",
       "    <tr>\n",
       "      <th>3</th>\n",
       "      <td>Apple</td>\n",
       "      <td>user_3636</td>\n",
       "    </tr>\n",
       "    <tr>\n",
       "      <th>4</th>\n",
       "      <td>Android</td>\n",
       "      <td>user_5970</td>\n",
       "    </tr>\n",
       "  </tbody>\n",
       "</table>\n",
       "</div>"
      ],
      "text/plain": [
       "     brand    user_id\n",
       "0  Android  user_3257\n",
       "1    Apple  user_6809\n",
       "2  Android  user_9144\n",
       "3    Apple  user_3636\n",
       "4  Android  user_5970"
      ]
     },
     "execution_count": 11,
     "metadata": {
      "tags": []
     },
     "output_type": "execute_result"
    }
   ],
   "source": [
    "devices_data.head()"
   ]
  },
  {
   "cell_type": "markdown",
   "metadata": {
    "colab_type": "text",
    "id": "QXfgaHfJFlXe"
   },
   "source": [
    "- **brand** : string corresponding to the phone brand.\n",
    "- **user_id** : string uniquely identifying the user.\n",
    "\n",
    "A quick study of the occurences in the brand shows the following :"
   ]
  },
  {
   "cell_type": "code",
   "execution_count": null,
   "metadata": {
    "colab": {
     "base_uri": "https://localhost:8080/",
     "height": 86
    },
    "colab_type": "code",
    "id": "PUtQvrW_FkE3",
    "outputId": "07dc4cc7-6649-48e6-b7b2-bf7e17f8e082"
   },
   "outputs": [
    {
     "data": {
      "text/plain": [
       "Android    9714\n",
       "Apple      9673\n",
       "Unknown      43\n",
       "Name: brand, dtype: int64"
      ]
     },
     "execution_count": 12,
     "metadata": {
      "tags": []
     },
     "output_type": "execute_result"
    }
   ],
   "source": [
    "# count of occurences of values of the device brands\n",
    "devices_data['brand'].value_counts()"
   ]
  },
  {
   "cell_type": "markdown",
   "metadata": {
    "colab_type": "text",
    "id": "-X9roUhmGjQI"
   },
   "source": [
    "We have 'Android' and 'Apple' as brands, with a few having an 'Unknown' brand.\n",
    "\n",
    "We will now explore the notifications data as follow :"
   ]
  },
  {
   "cell_type": "code",
   "execution_count": null,
   "metadata": {
    "colab": {
     "base_uri": "https://localhost:8080/",
     "height": 52
    },
    "colab_type": "code",
    "id": "bY7a-qajGTJF",
    "outputId": "1e49f228-bad3-457b-d955-d7de320d34fd"
   },
   "outputs": [
    {
     "name": "stdout",
     "output_type": "stream",
     "text": [
      "Number of notifications : 121813 notification\n",
      "Each notification defined by 5 variable\n"
     ]
    }
   ],
   "source": [
    "print(\"Number of notifications : {:1d} notification\\nEach notification defined by {:1d} variable\".format(notif_data.shape[0],notif_data.shape[1]))"
   ]
  },
  {
   "cell_type": "code",
   "execution_count": null,
   "metadata": {
    "colab": {
     "base_uri": "https://localhost:8080/",
     "height": 206
    },
    "colab_type": "code",
    "id": "PKruPro4Jdiq",
    "outputId": "e6de28ae-d136-44e2-b437-386c342a2779"
   },
   "outputs": [
    {
     "data": {
      "text/html": [
       "<div>\n",
       "<style scoped>\n",
       "    .dataframe tbody tr th:only-of-type {\n",
       "        vertical-align: middle;\n",
       "    }\n",
       "\n",
       "    .dataframe tbody tr th {\n",
       "        vertical-align: top;\n",
       "    }\n",
       "\n",
       "    .dataframe thead th {\n",
       "        text-align: right;\n",
       "    }\n",
       "</style>\n",
       "<table border=\"1\" class=\"dataframe\">\n",
       "  <thead>\n",
       "    <tr style=\"text-align: right;\">\n",
       "      <th></th>\n",
       "      <th>reason</th>\n",
       "      <th>channel</th>\n",
       "      <th>status</th>\n",
       "      <th>user_id</th>\n",
       "      <th>created_date</th>\n",
       "    </tr>\n",
       "  </thead>\n",
       "  <tbody>\n",
       "    <tr>\n",
       "      <th>0</th>\n",
       "      <td>REENGAGEMENT_ACTIVE_FUNDS</td>\n",
       "      <td>PUSH</td>\n",
       "      <td>SENT</td>\n",
       "      <td>user_7086</td>\n",
       "      <td>2018-12-02 17:58:33.320645</td>\n",
       "    </tr>\n",
       "    <tr>\n",
       "      <th>1</th>\n",
       "      <td>REENGAGEMENT_ACTIVE_FUNDS</td>\n",
       "      <td>PUSH</td>\n",
       "      <td>SENT</td>\n",
       "      <td>user_6598</td>\n",
       "      <td>2018-12-01 23:09:37.367127</td>\n",
       "    </tr>\n",
       "    <tr>\n",
       "      <th>2</th>\n",
       "      <td>REENGAGEMENT_ACTIVE_FUNDS</td>\n",
       "      <td>PUSH</td>\n",
       "      <td>SENT</td>\n",
       "      <td>user_4151</td>\n",
       "      <td>2018-12-04 02:57:56.425660</td>\n",
       "    </tr>\n",
       "    <tr>\n",
       "      <th>3</th>\n",
       "      <td>REENGAGEMENT_ACTIVE_FUNDS</td>\n",
       "      <td>PUSH</td>\n",
       "      <td>SENT</td>\n",
       "      <td>user_1408</td>\n",
       "      <td>2018-12-11 02:04:46.284683</td>\n",
       "    </tr>\n",
       "    <tr>\n",
       "      <th>4</th>\n",
       "      <td>REENGAGEMENT_ACTIVE_FUNDS</td>\n",
       "      <td>PUSH</td>\n",
       "      <td>SENT</td>\n",
       "      <td>user_6292</td>\n",
       "      <td>2018-12-14 17:09:58.900808</td>\n",
       "    </tr>\n",
       "  </tbody>\n",
       "</table>\n",
       "</div>"
      ],
      "text/plain": [
       "                      reason channel  ...    user_id                created_date\n",
       "0  REENGAGEMENT_ACTIVE_FUNDS    PUSH  ...  user_7086  2018-12-02 17:58:33.320645\n",
       "1  REENGAGEMENT_ACTIVE_FUNDS    PUSH  ...  user_6598  2018-12-01 23:09:37.367127\n",
       "2  REENGAGEMENT_ACTIVE_FUNDS    PUSH  ...  user_4151  2018-12-04 02:57:56.425660\n",
       "3  REENGAGEMENT_ACTIVE_FUNDS    PUSH  ...  user_1408  2018-12-11 02:04:46.284683\n",
       "4  REENGAGEMENT_ACTIVE_FUNDS    PUSH  ...  user_6292  2018-12-14 17:09:58.900808\n",
       "\n",
       "[5 rows x 5 columns]"
      ]
     },
     "execution_count": 14,
     "metadata": {
      "tags": []
     },
     "output_type": "execute_result"
    }
   ],
   "source": [
    "notif_data.head()"
   ]
  },
  {
   "cell_type": "markdown",
   "metadata": {
    "colab_type": "text",
    "id": "tax3TD-1KNJS"
   },
   "source": [
    "The view above of the five first observations shows that each notification is defined by five variables :\n",
    "\n",
    "- **reason** : A string indicating the reason for which the notification was sent.\n",
    "- **channel** : A string indicating the way the user has been notified of the notification.\n",
    "- **status** : A string indicating whether the notification was successfully sent or failed.\n",
    "- **user_id** : a unique id defining each user.\n",
    "- **created_date** : The creation date and time of the notification.\n",
    "\n",
    "Below are the list of reasons a user could receive a notification :"
   ]
  },
  {
   "cell_type": "code",
   "execution_count": null,
   "metadata": {
    "colab": {
     "base_uri": "https://localhost:8080/",
     "height": 173
    },
    "colab_type": "code",
    "id": "cHDqSEZ_Ji8s",
    "outputId": "ac4e752e-39a8-4611-d0ce-297f629afe1c"
   },
   "outputs": [
    {
     "data": {
      "text/plain": [
       "array(['REENGAGEMENT_ACTIVE_FUNDS', 'PUMPKIN_PAYMENT_NOTIFICATION',\n",
       "       'NO_INITIAL_CARD_USE', 'ENGAGEMENT_SPLIT_BILL_RESTAURANT',\n",
       "       'METAL_RESERVE_PLAN', 'ONBOARDING_TIPS_ACTIVATED_USERS',\n",
       "       'MADE_MONEY_REQUEST_NOT_SPLIT_BILL',\n",
       "       'PREMIUM_ENGAGEMENT_INACTIVE_CARD', 'NO_INITIAL_CARD_ORDER',\n",
       "       'PREMIUM_ENGAGEMENT_FEES_SAVED', 'FIFTH_PAYMENT_PROMO',\n",
       "       'WELCOME_HOME', 'NO_INITIAL_FREE_PROMOPAGE_CARD_ORDER',\n",
       "       'LOST_CARD_ORDER', 'BLACK_FRIDAY', 'METAL_GAME_START',\n",
       "       'JOINING_ANNIVERSARY'], dtype=object)"
      ]
     },
     "execution_count": 15,
     "metadata": {
      "tags": []
     },
     "output_type": "execute_result"
    }
   ],
   "source": [
    "notif_data['reason'].unique()"
   ]
  },
  {
   "cell_type": "markdown",
   "metadata": {
    "colab_type": "text",
    "id": "aQXkwI3CIfDg"
   },
   "source": [
    "Below the distribution of the different status of a notification in our dataset :"
   ]
  },
  {
   "cell_type": "code",
   "execution_count": null,
   "metadata": {
    "colab": {
     "base_uri": "https://localhost:8080/",
     "height": 69
    },
    "colab_type": "code",
    "id": "_bdfihlaGNp9",
    "outputId": "3d821aee-3b5d-4722-8fd8-3668b40bf68a"
   },
   "outputs": [
    {
     "data": {
      "text/plain": [
       "SENT      89477\n",
       "FAILED    32336\n",
       "Name: status, dtype: int64"
      ]
     },
     "execution_count": 16,
     "metadata": {
      "tags": []
     },
     "output_type": "execute_result"
    }
   ],
   "source": [
    "notif_data['status'].value_counts()"
   ]
  },
  {
   "cell_type": "markdown",
   "metadata": {
    "colab_type": "text",
    "id": "2Z4MERP8JGuf"
   },
   "source": [
    "\n",
    "32.336 notification have failed reaching the users, while 89.477 have reached users successfully.\n",
    "\n",
    "We then make an exploration of the transaction dataset : \n",
    "\n"
   ]
  },
  {
   "cell_type": "code",
   "execution_count": null,
   "metadata": {
    "colab": {
     "base_uri": "https://localhost:8080/",
     "height": 52
    },
    "colab_type": "code",
    "id": "iJgHh3BTJpj2",
    "outputId": "3c48366a-9399-49e9-9f40-9b065966a162"
   },
   "outputs": [
    {
     "name": "stdout",
     "output_type": "stream",
     "text": [
      "Number of transactions : 2740075 transaction\n",
      "Each transaction defined by 12 variable\n"
     ]
    }
   ],
   "source": [
    "print(\"Number of transactions : {:1d} transaction\\nEach transaction defined by {:1d} variable\".format(transaction_data.shape[0],transaction_data.shape[1]))"
   ]
  },
  {
   "cell_type": "code",
   "execution_count": null,
   "metadata": {
    "colab": {
     "base_uri": "https://localhost:8080/",
     "height": 313
    },
    "colab_type": "code",
    "id": "mUJ_yzcqJF8b",
    "outputId": "7658bc8c-45b5-4220-e0b4-7b886e2efffd"
   },
   "outputs": [
    {
     "data": {
      "text/html": [
       "<div>\n",
       "<style scoped>\n",
       "    .dataframe tbody tr th:only-of-type {\n",
       "        vertical-align: middle;\n",
       "    }\n",
       "\n",
       "    .dataframe tbody tr th {\n",
       "        vertical-align: top;\n",
       "    }\n",
       "\n",
       "    .dataframe thead th {\n",
       "        text-align: right;\n",
       "    }\n",
       "</style>\n",
       "<table border=\"1\" class=\"dataframe\">\n",
       "  <thead>\n",
       "    <tr style=\"text-align: right;\">\n",
       "      <th></th>\n",
       "      <th>transaction_id</th>\n",
       "      <th>transactions_type</th>\n",
       "      <th>transactions_currency</th>\n",
       "      <th>amount_usd</th>\n",
       "      <th>transactions_state</th>\n",
       "      <th>ea_cardholderpresence</th>\n",
       "      <th>ea_merchant_mcc</th>\n",
       "      <th>ea_merchant_city</th>\n",
       "      <th>ea_merchant_country</th>\n",
       "      <th>direction</th>\n",
       "      <th>user_id</th>\n",
       "      <th>created_date</th>\n",
       "    </tr>\n",
       "  </thead>\n",
       "  <tbody>\n",
       "    <tr>\n",
       "      <th>0</th>\n",
       "      <td>transaction_0</td>\n",
       "      <td>TRANSFER</td>\n",
       "      <td>AED</td>\n",
       "      <td>4.55</td>\n",
       "      <td>COMPLETED</td>\n",
       "      <td>NaN</td>\n",
       "      <td>NaN</td>\n",
       "      <td>NaN</td>\n",
       "      <td>NaN</td>\n",
       "      <td>OUTBOUND</td>\n",
       "      <td>user_898</td>\n",
       "      <td>2018-04-03 03:34:21.784487</td>\n",
       "    </tr>\n",
       "    <tr>\n",
       "      <th>1</th>\n",
       "      <td>transaction_1</td>\n",
       "      <td>CARD_PAYMENT</td>\n",
       "      <td>AED</td>\n",
       "      <td>15.50</td>\n",
       "      <td>COMPLETED</td>\n",
       "      <td>FALSE</td>\n",
       "      <td>4111.0</td>\n",
       "      <td>Dubai</td>\n",
       "      <td>ARE</td>\n",
       "      <td>OUTBOUND</td>\n",
       "      <td>user_1652</td>\n",
       "      <td>2019-03-19 06:15:59.537032</td>\n",
       "    </tr>\n",
       "    <tr>\n",
       "      <th>2</th>\n",
       "      <td>transaction_2</td>\n",
       "      <td>CARD_PAYMENT</td>\n",
       "      <td>AED</td>\n",
       "      <td>43.40</td>\n",
       "      <td>COMPLETED</td>\n",
       "      <td>FALSE</td>\n",
       "      <td>5814.0</td>\n",
       "      <td>Dubai</td>\n",
       "      <td>ARE</td>\n",
       "      <td>OUTBOUND</td>\n",
       "      <td>user_1652</td>\n",
       "      <td>2019-03-18 18:53:41.323032</td>\n",
       "    </tr>\n",
       "    <tr>\n",
       "      <th>3</th>\n",
       "      <td>transaction_3</td>\n",
       "      <td>TRANSFER</td>\n",
       "      <td>AED</td>\n",
       "      <td>10043.01</td>\n",
       "      <td>COMPLETED</td>\n",
       "      <td>NaN</td>\n",
       "      <td>NaN</td>\n",
       "      <td>NaN</td>\n",
       "      <td>NaN</td>\n",
       "      <td>OUTBOUND</td>\n",
       "      <td>user_1652</td>\n",
       "      <td>2019-03-22 14:20:01.513032</td>\n",
       "    </tr>\n",
       "    <tr>\n",
       "      <th>4</th>\n",
       "      <td>transaction_4</td>\n",
       "      <td>CARD_PAYMENT</td>\n",
       "      <td>AED</td>\n",
       "      <td>43.81</td>\n",
       "      <td>COMPLETED</td>\n",
       "      <td>FALSE</td>\n",
       "      <td>5651.0</td>\n",
       "      <td>Abu Dhabi</td>\n",
       "      <td>ARE</td>\n",
       "      <td>OUTBOUND</td>\n",
       "      <td>user_5509</td>\n",
       "      <td>2019-03-22 05:42:50.316652</td>\n",
       "    </tr>\n",
       "  </tbody>\n",
       "</table>\n",
       "</div>"
      ],
      "text/plain": [
       "  transaction_id transactions_type  ...    user_id                created_date\n",
       "0  transaction_0          TRANSFER  ...   user_898  2018-04-03 03:34:21.784487\n",
       "1  transaction_1      CARD_PAYMENT  ...  user_1652  2019-03-19 06:15:59.537032\n",
       "2  transaction_2      CARD_PAYMENT  ...  user_1652  2019-03-18 18:53:41.323032\n",
       "3  transaction_3          TRANSFER  ...  user_1652  2019-03-22 14:20:01.513032\n",
       "4  transaction_4      CARD_PAYMENT  ...  user_5509  2019-03-22 05:42:50.316652\n",
       "\n",
       "[5 rows x 12 columns]"
      ]
     },
     "execution_count": 18,
     "metadata": {
      "tags": []
     },
     "output_type": "execute_result"
    }
   ],
   "source": [
    "transaction_data.head()"
   ]
  },
  {
   "cell_type": "markdown",
   "metadata": {
    "colab_type": "text",
    "id": "MjK5CAnXJf9u"
   },
   "source": [
    "Above are the first five observations of the transaction dataset. They are defined by the following variables : \n",
    "-  **transaction_id** : a string uniquely identifying the transaction.\n",
    "-  **transactions_type** : string indicating the type of the transaction.\n",
    "-  **transactions_currency** : string indicating the currency of the transaction.\n",
    "-  **amount_usd** : float corresponding to the transaction amount in USD.\n",
    "-  **transactions_state** : the state of the transaction, whether successful, reverted or declined.\n",
    "-  **ea_cardholderpresence** : string indicating if the card holder was present when the transaction happened.\n",
    "-  **ea_merchant_mcc** : float corresponding to the Merchant Category Code.\n",
    "-  **ea_merchant_city** : string corresponding to the merchant’s city.\n",
    "-  **ea_merchant_country** : string corresponding to the merchant’s country.\n",
    "-  **direction** : String indicating whether the money went into or out of the account.\n",
    "-  **created_date** : datetime of the transaction.\n",
    "-  **user_id** : unique id of the user making the transaction.\n",
    "\n",
    "A count of the missing values in this dataset : \n",
    "\n"
   ]
  },
  {
   "cell_type": "code",
   "execution_count": null,
   "metadata": {
    "colab": {
     "base_uri": "https://localhost:8080/",
     "height": 243
    },
    "colab_type": "code",
    "id": "Ap-aFq37I-s1",
    "outputId": "5ac20df2-94c1-49b4-bf43-575cdb6bc07d"
   },
   "outputs": [
    {
     "data": {
      "text/plain": [
       "transaction_id                 0\n",
       "transactions_type              0\n",
       "transactions_currency          0\n",
       "amount_usd                     0\n",
       "transactions_state             0\n",
       "ea_cardholderpresence    1170594\n",
       "ea_merchant_mcc          1158658\n",
       "ea_merchant_city         1158794\n",
       "ea_merchant_country      1158979\n",
       "direction                      0\n",
       "user_id                        0\n",
       "created_date                   0\n",
       "dtype: int64"
      ]
     },
     "execution_count": 19,
     "metadata": {
      "tags": []
     },
     "output_type": "execute_result"
    }
   ],
   "source": [
    "# number of missing values in each variable\n",
    "transaction_data.isnull().sum()"
   ]
  },
  {
   "cell_type": "markdown",
   "metadata": {
    "colab_type": "text",
    "id": "x6SgVFzbRpoT"
   },
   "source": [
    "The missing values are mostly located in the merchant information.\n"
   ]
  },
  {
   "cell_type": "markdown",
   "metadata": {
    "colab_type": "text",
    "id": "yio9-ZTZSZao"
   },
   "source": [
    "##### <a name=\"II\">**II - Data preparation**</a>\n",
    "\n",
    "The data we just explored will have to be prepared, in order to create user profiles and their measure of engagement.\n",
    "\n",
    "To do that, we'll have to count first the number of transactions each user does after each notification by 7 days and before it by 7 days, then the average difference between his transactions before and after notifications for each user.\n",
    "\n",
    "Then we will specify a metric for engagement that separates the engaged and the unengaged through that difference.\n"
   ]
  },
  {
   "cell_type": "markdown",
   "metadata": {
    "colab_type": "text",
    "id": "NGV5TbPnZC9d"
   },
   "source": [
    "To start working on that, we would first need to perform a cleanup on the notification data. We are aiming to see whether users perform more transactions after receiving a notification than before it. That would mean that we shouldn't include notifications that are results of a transaction or payment, as they aren't notifications aimed toward making the user more engaged.\n",
    "\n",
    "*PUMPKIN_PAYMENT_NOTIFICATION* and *MADE_MONEY_REQUEST_NOT_SPLIT_BILL* appear to be notifications that are results of user transactions. We will then drop them, in order to not have mixed information about the behaviour after notifications in our engagement scores."
   ]
  },
  {
   "cell_type": "code",
   "execution_count": null,
   "metadata": {
    "colab": {},
    "colab_type": "code",
    "id": "f-ri8pGoRnPR"
   },
   "outputs": [],
   "source": [
    "# Deleting notifications that are results of payments/transactions \n",
    "notif_data = notif_data[notif_data['reason'] != 'PUMPKIN_PAYMENT_NOTIFICATION']\n",
    "notif_data = notif_data[notif_data['reason'] != 'MADE_MONEY_REQUEST_NOT_SPLIT_BILL']"
   ]
  },
  {
   "cell_type": "markdown",
   "metadata": {
    "colab_type": "text",
    "id": "cHNF-mgM_FIk"
   },
   "source": [
    "We also wish to explore and take out the notifications that intersect in periods of time. \n",
    "\n",
    "If a second notification happens a day or two after the first notification for the same user, the results of both notifications would not be accurate because of the mixup. That is the reason we would filter all these notifications and drop them out of the notification dataset.\n",
    "\n",
    "We will then as follow first find the notifications that intersect in time periods (7 days before each notification and 7 days after it)."
   ]
  },
  {
   "cell_type": "code",
   "execution_count": null,
   "metadata": {
    "colab": {},
    "colab_type": "code",
    "id": "kr9xm49YFggn"
   },
   "outputs": [],
   "source": [
    "# Performing an inner join for the notification data with itself, \n",
    "# to filter notifications that intersect in time later on\n",
    "merged_notifs = pd.merge(notif_data,notif_data,how='inner',on='user_id')\n",
    "\n",
    "# Setting up the time periods for each notification where there shouldn't exist another notification \n",
    "# 14 days are added before and after, to factor the time periods of both notifications\n",
    "merged_notifs['before_date'] = (merged_notifs['created_date_x'].values.astype('datetime64[ms]') - np.timedelta64(14,'D'))\n",
    "merged_notifs['after_date'] = (merged_notifs['created_date_x'].values.astype('datetime64[ms]') + np.timedelta64(14,'D'))\n",
    "\n",
    "# We filter the pair of notifications by notification dates, in order to not have the same notification with itself\n",
    "merged_notifs = merged_notifs[merged_notifs['created_date_x']!=merged_notifs['created_date_y']]\n",
    "\n",
    "# Next is filtering the joined pairs to only keep the intersections of \"sent\" notifications\n",
    "merged_notifs = merged_notifs[merged_notifs['status_x']== 'SENT']\n",
    "merged_notifs = merged_notifs[merged_notifs['status_y']== 'SENT']\n",
    "\n",
    "# The next filter is to keep only intersecting pairs of notifications, and drop out the non intersecting ones\n",
    "merged_notifs = merged_notifs[merged_notifs['after_date']>merged_notifs['created_date_y'].values.astype('datetime64[ms]')]\n",
    "merged_notifs = merged_notifs[merged_notifs['before_date']<merged_notifs['created_date_y'].values.astype('datetime64[ms]')]\n",
    "\n",
    "# Then setting the column titles back to their initial values\n",
    "merged_notifs['created_date'] = merged_notifs['created_date_x']\n",
    "merged_notifs['reason'] = merged_notifs['reason_x']\n",
    "merged_notifs['channel'] = merged_notifs['channel_x']\n",
    "merged_notifs['status'] = merged_notifs['status_x']\n",
    "merged_notifs = merged_notifs[['reason','channel','status','user_id','created_date']]\n",
    "\n",
    "# Dropping duplicates and resetting the index of the results\n",
    "merged_notifs = merged_notifs.drop_duplicates().reset_index()[['reason','channel','status','user_id','created_date']]\n"
   ]
  },
  {
   "cell_type": "markdown",
   "metadata": {
    "colab_type": "text",
    "id": "IMYWXSicS57x"
   },
   "source": [
    "We can see below some observations and informations about all intersecting notifications we got, that we will have to drop out to keep the results of our study correct without mixed up information."
   ]
  },
  {
   "cell_type": "code",
   "execution_count": null,
   "metadata": {
    "colab": {
     "base_uri": "https://localhost:8080/",
     "height": 34
    },
    "colab_type": "code",
    "id": "kPv1dTWoTL90",
    "outputId": "7bd878a4-1ddd-43d3-f2e0-8f42b44c6fb8"
   },
   "outputs": [
    {
     "name": "stdout",
     "output_type": "stream",
     "text": [
      "Number of intersecting notifications : 44231 notification\n"
     ]
    }
   ],
   "source": [
    "print(\"Number of intersecting notifications : {:1d} notification\".format(merged_notifs.shape[0]))"
   ]
  },
  {
   "cell_type": "code",
   "execution_count": null,
   "metadata": {
    "colab": {
     "base_uri": "https://localhost:8080/",
     "height": 206
    },
    "colab_type": "code",
    "id": "YWbL14abU3-j",
    "outputId": "1abf3ac2-55c5-4db6-c515-2a6feb8bc02e"
   },
   "outputs": [
    {
     "data": {
      "text/html": [
       "<div>\n",
       "<style scoped>\n",
       "    .dataframe tbody tr th:only-of-type {\n",
       "        vertical-align: middle;\n",
       "    }\n",
       "\n",
       "    .dataframe tbody tr th {\n",
       "        vertical-align: top;\n",
       "    }\n",
       "\n",
       "    .dataframe thead th {\n",
       "        text-align: right;\n",
       "    }\n",
       "</style>\n",
       "<table border=\"1\" class=\"dataframe\">\n",
       "  <thead>\n",
       "    <tr style=\"text-align: right;\">\n",
       "      <th></th>\n",
       "      <th>reason</th>\n",
       "      <th>channel</th>\n",
       "      <th>status</th>\n",
       "      <th>user_id</th>\n",
       "      <th>created_date</th>\n",
       "    </tr>\n",
       "  </thead>\n",
       "  <tbody>\n",
       "    <tr>\n",
       "      <th>0</th>\n",
       "      <td>REENGAGEMENT_ACTIVE_FUNDS</td>\n",
       "      <td>PUSH</td>\n",
       "      <td>SENT</td>\n",
       "      <td>user_7086</td>\n",
       "      <td>2018-12-27 17:59:46.786645</td>\n",
       "    </tr>\n",
       "    <tr>\n",
       "      <th>1</th>\n",
       "      <td>REENGAGEMENT_ACTIVE_FUNDS</td>\n",
       "      <td>PUSH</td>\n",
       "      <td>SENT</td>\n",
       "      <td>user_7086</td>\n",
       "      <td>2018-12-21 18:03:53.943645</td>\n",
       "    </tr>\n",
       "    <tr>\n",
       "      <th>2</th>\n",
       "      <td>REENGAGEMENT_ACTIVE_FUNDS</td>\n",
       "      <td>PUSH</td>\n",
       "      <td>SENT</td>\n",
       "      <td>user_7086</td>\n",
       "      <td>2019-01-23 18:06:10.731645</td>\n",
       "    </tr>\n",
       "    <tr>\n",
       "      <th>3</th>\n",
       "      <td>REENGAGEMENT_ACTIVE_FUNDS</td>\n",
       "      <td>PUSH</td>\n",
       "      <td>SENT</td>\n",
       "      <td>user_7086</td>\n",
       "      <td>2019-01-11 17:59:44.400645</td>\n",
       "    </tr>\n",
       "    <tr>\n",
       "      <th>4</th>\n",
       "      <td>FIFTH_PAYMENT_PROMO</td>\n",
       "      <td>PUSH</td>\n",
       "      <td>SENT</td>\n",
       "      <td>user_7086</td>\n",
       "      <td>2019-01-17 19:42:48.432645</td>\n",
       "    </tr>\n",
       "  </tbody>\n",
       "</table>\n",
       "</div>"
      ],
      "text/plain": [
       "                      reason channel  ...    user_id                created_date\n",
       "0  REENGAGEMENT_ACTIVE_FUNDS    PUSH  ...  user_7086  2018-12-27 17:59:46.786645\n",
       "1  REENGAGEMENT_ACTIVE_FUNDS    PUSH  ...  user_7086  2018-12-21 18:03:53.943645\n",
       "2  REENGAGEMENT_ACTIVE_FUNDS    PUSH  ...  user_7086  2019-01-23 18:06:10.731645\n",
       "3  REENGAGEMENT_ACTIVE_FUNDS    PUSH  ...  user_7086  2019-01-11 17:59:44.400645\n",
       "4        FIFTH_PAYMENT_PROMO    PUSH  ...  user_7086  2019-01-17 19:42:48.432645\n",
       "\n",
       "[5 rows x 5 columns]"
      ]
     },
     "execution_count": 23,
     "metadata": {
      "tags": []
     },
     "output_type": "execute_result"
    }
   ],
   "source": [
    "merged_notifs.head()"
   ]
  },
  {
   "cell_type": "markdown",
   "metadata": {
    "colab_type": "text",
    "id": "vJ0DlhvGVOvV"
   },
   "source": [
    "We will then delete these notifications from our initial notification dataset."
   ]
  },
  {
   "cell_type": "code",
   "execution_count": null,
   "metadata": {
    "colab": {},
    "colab_type": "code",
    "id": "E_O7Pdx-Vou1"
   },
   "outputs": [],
   "source": [
    "# We will perform a left join between the initial notification data (left) and the intersecting notifications (right)\n",
    "merged_notif_null = pd.merge(notif_data,merged_notifs,how='left',on='created_date')\n",
    "\n",
    "# in the resulting dataframe, all data that is an intersection notification will have no missing values \n",
    "# as it would be an intersection between the two earlier dataframes, so we will only keep the notifications that got missing values\n",
    "merged_notif_null = merged_notif_null[merged_notif_null['reason_y'].isnull()].reset_index()\n",
    "\n",
    "# Fixing the column titles \n",
    "merged_notif_null['user_id'] = merged_notif_null['user_id_x']\n",
    "merged_notif_null['reason'] = merged_notif_null['reason_x']\n",
    "merged_notif_null['channel'] = merged_notif_null['channel_x']\n",
    "merged_notif_null['status'] = merged_notif_null['status_x']\n",
    "merged_notif_null = merged_notif_null[['reason','channel','status','user_id','created_date']]\n",
    "\n",
    "# Filtering the notifications we have left, in order to use only the sent notifications\n",
    "sent_notifs = merged_notif_null[merged_notif_null['status'] == \"SENT\"]\n"
   ]
  },
  {
   "cell_type": "markdown",
   "metadata": {
    "colab_type": "text",
    "id": "RmdMW6m4XTmZ"
   },
   "source": [
    "The remaining notifications we'll then be using throughout the following analysis are as follow :"
   ]
  },
  {
   "cell_type": "code",
   "execution_count": null,
   "metadata": {
    "colab": {
     "base_uri": "https://localhost:8080/",
     "height": 34
    },
    "colab_type": "code",
    "id": "b3QmI0KMXMew",
    "outputId": "46145f16-0f4e-4dd7-ddc7-b1f738f67a65"
   },
   "outputs": [
    {
     "name": "stdout",
     "output_type": "stream",
     "text": [
      "Number of final notifications we'll be using : 43077 notification\n"
     ]
    }
   ],
   "source": [
    "print(\"Number of final notifications we'll be using : {:1d} notification\".format(sent_notifs.shape[0]))"
   ]
  },
  {
   "cell_type": "code",
   "execution_count": null,
   "metadata": {
    "colab": {
     "base_uri": "https://localhost:8080/",
     "height": 206
    },
    "colab_type": "code",
    "id": "zOLHR5ljxudC",
    "outputId": "5ebc2b55-5ba3-4bfd-e0af-d699643911f9"
   },
   "outputs": [
    {
     "data": {
      "text/html": [
       "<div>\n",
       "<style scoped>\n",
       "    .dataframe tbody tr th:only-of-type {\n",
       "        vertical-align: middle;\n",
       "    }\n",
       "\n",
       "    .dataframe tbody tr th {\n",
       "        vertical-align: top;\n",
       "    }\n",
       "\n",
       "    .dataframe thead th {\n",
       "        text-align: right;\n",
       "    }\n",
       "</style>\n",
       "<table border=\"1\" class=\"dataframe\">\n",
       "  <thead>\n",
       "    <tr style=\"text-align: right;\">\n",
       "      <th></th>\n",
       "      <th>reason</th>\n",
       "      <th>channel</th>\n",
       "      <th>status</th>\n",
       "      <th>user_id</th>\n",
       "      <th>created_date</th>\n",
       "    </tr>\n",
       "  </thead>\n",
       "  <tbody>\n",
       "    <tr>\n",
       "      <th>0</th>\n",
       "      <td>REENGAGEMENT_ACTIVE_FUNDS</td>\n",
       "      <td>PUSH</td>\n",
       "      <td>SENT</td>\n",
       "      <td>user_7086</td>\n",
       "      <td>2018-12-02 17:58:33.320645</td>\n",
       "    </tr>\n",
       "    <tr>\n",
       "      <th>1</th>\n",
       "      <td>REENGAGEMENT_ACTIVE_FUNDS</td>\n",
       "      <td>PUSH</td>\n",
       "      <td>SENT</td>\n",
       "      <td>user_4151</td>\n",
       "      <td>2018-12-04 02:57:56.425660</td>\n",
       "    </tr>\n",
       "    <tr>\n",
       "      <th>2</th>\n",
       "      <td>REENGAGEMENT_ACTIVE_FUNDS</td>\n",
       "      <td>PUSH</td>\n",
       "      <td>SENT</td>\n",
       "      <td>user_1408</td>\n",
       "      <td>2018-12-11 02:04:46.284683</td>\n",
       "    </tr>\n",
       "    <tr>\n",
       "      <th>3</th>\n",
       "      <td>REENGAGEMENT_ACTIVE_FUNDS</td>\n",
       "      <td>PUSH</td>\n",
       "      <td>SENT</td>\n",
       "      <td>user_6292</td>\n",
       "      <td>2018-12-14 17:09:58.900808</td>\n",
       "    </tr>\n",
       "    <tr>\n",
       "      <th>4</th>\n",
       "      <td>REENGAGEMENT_ACTIVE_FUNDS</td>\n",
       "      <td>PUSH</td>\n",
       "      <td>SENT</td>\n",
       "      <td>user_4098</td>\n",
       "      <td>2018-12-11 12:42:59.718574</td>\n",
       "    </tr>\n",
       "  </tbody>\n",
       "</table>\n",
       "</div>"
      ],
      "text/plain": [
       "                      reason channel  ...    user_id                created_date\n",
       "0  REENGAGEMENT_ACTIVE_FUNDS    PUSH  ...  user_7086  2018-12-02 17:58:33.320645\n",
       "1  REENGAGEMENT_ACTIVE_FUNDS    PUSH  ...  user_4151  2018-12-04 02:57:56.425660\n",
       "2  REENGAGEMENT_ACTIVE_FUNDS    PUSH  ...  user_1408  2018-12-11 02:04:46.284683\n",
       "3  REENGAGEMENT_ACTIVE_FUNDS    PUSH  ...  user_6292  2018-12-14 17:09:58.900808\n",
       "4  REENGAGEMENT_ACTIVE_FUNDS    PUSH  ...  user_4098  2018-12-11 12:42:59.718574\n",
       "\n",
       "[5 rows x 5 columns]"
      ]
     },
     "execution_count": 26,
     "metadata": {
      "tags": []
     },
     "output_type": "execute_result"
    }
   ],
   "source": [
    "sent_notifs.head()"
   ]
  },
  {
   "cell_type": "markdown",
   "metadata": {
    "colab_type": "text",
    "id": "atX_So1qwqHP"
   },
   "source": [
    "We will now count the number of transactions 7 days before each notification, and 7 days after each notification, using the notifications we have filtered."
   ]
  },
  {
   "cell_type": "code",
   "execution_count": null,
   "metadata": {
    "colab": {},
    "colab_type": "code",
    "id": "3s-0xHfAXZHD"
   },
   "outputs": [],
   "source": [
    "# Setting up the dates before and after each notifications, where the count will hold\n",
    "sent_notifs['before_date'] = (sent_notifs['created_date'].values.astype('datetime64[ms]') - np.timedelta64(7,'D'))\n",
    "sent_notifs['after_date'] = (sent_notifs['created_date'].values.astype('datetime64[ms]') + np.timedelta64(7,'D'))\n",
    "\n",
    "# Performing an inner join between the notifications and transactions with the same user_id\n",
    "notif_transaction_join = pd.merge(sent_notifs, transaction_data, how='inner',on='user_id')\n",
    "\n",
    "# Filtering the transactions and notification merged data, to keep only transactions that happened 7 days before or 7 days after a notification\n",
    "notif_transaction_join = notif_transaction_join[(notif_transaction_join.created_date_y.values.astype('datetime64[ms]') > notif_transaction_join.before_date) & (notif_transaction_join.created_date_y.values.astype('datetime64[ms]') < notif_transaction_join.after_date)]\n",
    "\n",
    "# Preparing dates for further operations\n",
    "notif_transaction_join['notification_date'] = (notif_transaction_join['created_date_x'].values.astype('datetime64[ms]'))\n",
    "notif_transaction_join['transaction_date'] = (notif_transaction_join['created_date_y'].values.astype('datetime64[ms]'))"
   ]
  },
  {
   "cell_type": "markdown",
   "metadata": {
    "colab_type": "text",
    "id": "AHhK_uhf1HSo"
   },
   "source": [
    "After creating a table of notifications joined with transactions in the same periods of time, we will define some helper functions that will help us find the number of transactions before and after the notifications."
   ]
  },
  {
   "cell_type": "code",
   "execution_count": null,
   "metadata": {
    "colab": {},
    "colab_type": "code",
    "id": "Vl9bxRV1z_44"
   },
   "outputs": [],
   "source": [
    "# Returns boolean if the transaction happened in the 7 days after the notification\n",
    "def after_f(row):\n",
    "    if row['transaction_date'] >= row['before_date'] and row['transaction_date'] <= row['notification_date']:\n",
    "        val = 0\n",
    "    elif row['transaction_date'] <= row['after_date'] and row['transaction_date'] > row['notification_date']:\n",
    "        val = 1\n",
    "    else:\n",
    "        val = 0\n",
    "    return val\n",
    "\n",
    "# Returns boolean if the transaction happened in the 7 days before the notification\n",
    "def before_f(row):\n",
    "    if row['transaction_date'] >= row['before_date'] and row['transaction_date'] <= row['notification_date']:\n",
    "        val = 1\n",
    "    elif row['transaction_date'] <= row['after_date'] and row['transaction_date'] > row['notification_date']:\n",
    "        val = 0\n",
    "    else:\n",
    "        val = 0\n",
    "    return val\n",
    "\n",
    "# returns the sum of dataframe columns\n",
    "def sum_counts(df, col, new_col,second_col,new_s_col):\n",
    "    df[new_col] = df[col].sum()\n",
    "    df[new_s_col] = df[second_col].sum()\n",
    "    return df"
   ]
  },
  {
   "cell_type": "markdown",
   "metadata": {
    "colab_type": "text",
    "id": "4gCnr1Em_rJC"
   },
   "source": [
    "We then count the number of transactions 7 days before and 7 days after each notification for the same user :"
   ]
  },
  {
   "cell_type": "code",
   "execution_count": null,
   "metadata": {
    "colab": {},
    "colab_type": "code",
    "id": "9UsoSz3S10q4"
   },
   "outputs": [],
   "source": [
    "# Creating columns of booleans for whether a transaction was in the before or after time period of a notification\n",
    "notif_transaction_join['after_bool'] = notif_transaction_join.apply(after_f, axis=1)\n",
    "notif_transaction_join['before_bool'] = notif_transaction_join.apply(before_f, axis=1)\n",
    "\n",
    "# Calculating the total number of transactions before and after in the time period of each notification\n",
    "notif_transaction_join = notif_transaction_join.groupby(['user_id','notification_date']).apply(sum_counts,'after_bool','count_after','before_bool','count_before')\n",
    "\n",
    "# Computing the difference between number of transactions before and after each notification\n",
    "notifications = notif_transaction_join[['user_id','notification_date','reason','channel','count_before','count_after']]\n",
    "notifications['difference'] = (notifications['count_after'] - notifications['count_before'])\n",
    "\n",
    "# Dropping duplicates and reseting the index\n",
    "notifications = notifications.drop_duplicates().reset_index()[['user_id','notification_date','reason','channel','count_before','count_after','difference']]"
   ]
  },
  {
   "cell_type": "markdown",
   "metadata": {
    "colab_type": "text",
    "id": "znPBh7oBuXkd"
   },
   "source": [
    "As a result, we have all notifications that had transactions in their time periods, with the count of those transactions as follow :"
   ]
  },
  {
   "cell_type": "code",
   "execution_count": null,
   "metadata": {
    "colab": {
     "base_uri": "https://localhost:8080/",
     "height": 225
    },
    "colab_type": "code",
    "id": "mlYGHlhkA-0z",
    "outputId": "19c17a00-44ed-480b-9933-83d090aa4328"
   },
   "outputs": [
    {
     "name": "stdout",
     "output_type": "stream",
     "text": [
      "<class 'pandas.core.frame.DataFrame'>\n",
      "RangeIndex: 21941 entries, 0 to 21940\n",
      "Data columns (total 7 columns):\n",
      "user_id              21941 non-null object\n",
      "notification_date    21941 non-null datetime64[ns]\n",
      "reason               21941 non-null object\n",
      "channel              21941 non-null object\n",
      "count_before         21941 non-null int64\n",
      "count_after          21941 non-null int64\n",
      "difference           21941 non-null int64\n",
      "dtypes: datetime64[ns](1), int64(3), object(3)\n",
      "memory usage: 1.2+ MB\n"
     ]
    }
   ],
   "source": [
    "notifications.info()"
   ]
  },
  {
   "cell_type": "markdown",
   "metadata": {
    "colab_type": "text",
    "id": "lkdT06Rsuqn1"
   },
   "source": [
    "We now need to add the notifications that didn't have any transactions in their time periods to our dataframe, with their difference in transactions being 0."
   ]
  },
  {
   "cell_type": "code",
   "execution_count": null,
   "metadata": {
    "colab": {},
    "colab_type": "code",
    "id": "gBoY2uHWbM2c"
   },
   "outputs": [],
   "source": [
    "# Merging all sent notifications with our count of notifications, using a left join\n",
    "temp_notifs = sent_notifs.merge(notifications,how='left',on='user_id')\n",
    "\n",
    "# taking only the rows with missing values in the difference column, which means that they do are not in the intersection of the two dataframes\n",
    "temp_notifs = temp_notifs[temp_notifs['difference'].isnull()][['user_id','created_date','reason_x','channel_x','count_before','count_after','difference']]\n",
    "\n",
    "# We fill all difference NA values with values of 0, as these notifications had no transactions whether before or after the notification date\n",
    "temp_notifs = temp_notifs.fillna(0)\n",
    "\n",
    "# Setting up the data properly\n",
    "temp_notifs['notification_date'] = (temp_notifs['created_date'].values.astype('datetime64[ms]'))\n",
    "temp_notifs['channel'] = temp_notifs['channel_x']\n",
    "temp_notifs['reason'] = temp_notifs['reason_x']\n",
    "\n",
    "# Reseting the index\n",
    "temp_notifs = temp_notifs.reset_index()[['user_id','notification_date','reason','channel','count_before','count_after','difference']]\n",
    "\n",
    "# Concatenating the two dataframes, to have all the sent notifications with their count and difference in transactions\n",
    "notifications = pd.concat([notifications,temp_notifs])\n",
    "\n",
    "# Reseting the index\n",
    "notifications = notifications.reset_index()[['user_id','notification_date','reason','channel','count_before','count_after','difference']]\n"
   ]
  },
  {
   "cell_type": "markdown",
   "metadata": {
    "colab_type": "text",
    "id": "1UdmSCfJv_r5"
   },
   "source": [
    "As a result, we have all the notifications, with the difference between the number of transactions before it and after it by 7 days. "
   ]
  },
  {
   "cell_type": "code",
   "execution_count": null,
   "metadata": {
    "colab": {
     "base_uri": "https://localhost:8080/",
     "height": 34
    },
    "colab_type": "code",
    "id": "q8y0e3IlbNjx",
    "outputId": "01e6ec14-240d-4563-cb9a-edceba432511"
   },
   "outputs": [
    {
     "name": "stdout",
     "output_type": "stream",
     "text": [
      "Number of notifications  : 31546 notification\n"
     ]
    }
   ],
   "source": [
    "print(\"Number of notifications  : {:1d} notification\".format(notifications.shape[0]))"
   ]
  },
  {
   "cell_type": "code",
   "execution_count": null,
   "metadata": {
    "colab": {
     "base_uri": "https://localhost:8080/",
     "height": 206
    },
    "colab_type": "code",
    "id": "qt7GShSlwROL",
    "outputId": "5b73bd73-fb8a-409a-8e9b-669f8eb79859"
   },
   "outputs": [
    {
     "data": {
      "text/html": [
       "<div>\n",
       "<style scoped>\n",
       "    .dataframe tbody tr th:only-of-type {\n",
       "        vertical-align: middle;\n",
       "    }\n",
       "\n",
       "    .dataframe tbody tr th {\n",
       "        vertical-align: top;\n",
       "    }\n",
       "\n",
       "    .dataframe thead th {\n",
       "        text-align: right;\n",
       "    }\n",
       "</style>\n",
       "<table border=\"1\" class=\"dataframe\">\n",
       "  <thead>\n",
       "    <tr style=\"text-align: right;\">\n",
       "      <th></th>\n",
       "      <th>user_id</th>\n",
       "      <th>notification_date</th>\n",
       "      <th>reason</th>\n",
       "      <th>channel</th>\n",
       "      <th>count_before</th>\n",
       "      <th>count_after</th>\n",
       "      <th>difference</th>\n",
       "    </tr>\n",
       "  </thead>\n",
       "  <tbody>\n",
       "    <tr>\n",
       "      <th>0</th>\n",
       "      <td>user_7086</td>\n",
       "      <td>2018-12-02 17:58:33.320</td>\n",
       "      <td>REENGAGEMENT_ACTIVE_FUNDS</td>\n",
       "      <td>PUSH</td>\n",
       "      <td>1.0</td>\n",
       "      <td>2.0</td>\n",
       "      <td>1.0</td>\n",
       "    </tr>\n",
       "    <tr>\n",
       "      <th>1</th>\n",
       "      <td>user_7086</td>\n",
       "      <td>2018-11-17 18:12:38.112</td>\n",
       "      <td>REENGAGEMENT_ACTIVE_FUNDS</td>\n",
       "      <td>PUSH</td>\n",
       "      <td>2.0</td>\n",
       "      <td>1.0</td>\n",
       "      <td>-1.0</td>\n",
       "    </tr>\n",
       "    <tr>\n",
       "      <th>2</th>\n",
       "      <td>user_4151</td>\n",
       "      <td>2018-10-25 02:05:30.995</td>\n",
       "      <td>REENGAGEMENT_ACTIVE_FUNDS</td>\n",
       "      <td>PUSH</td>\n",
       "      <td>0.0</td>\n",
       "      <td>6.0</td>\n",
       "      <td>6.0</td>\n",
       "    </tr>\n",
       "    <tr>\n",
       "      <th>3</th>\n",
       "      <td>user_4151</td>\n",
       "      <td>2019-05-02 22:28:06.935</td>\n",
       "      <td>JOINING_ANNIVERSARY</td>\n",
       "      <td>PUSH</td>\n",
       "      <td>0.0</td>\n",
       "      <td>1.0</td>\n",
       "      <td>1.0</td>\n",
       "    </tr>\n",
       "    <tr>\n",
       "      <th>4</th>\n",
       "      <td>user_1408</td>\n",
       "      <td>2018-11-11 02:03:46.791</td>\n",
       "      <td>REENGAGEMENT_ACTIVE_FUNDS</td>\n",
       "      <td>PUSH</td>\n",
       "      <td>2.0</td>\n",
       "      <td>0.0</td>\n",
       "      <td>-2.0</td>\n",
       "    </tr>\n",
       "  </tbody>\n",
       "</table>\n",
       "</div>"
      ],
      "text/plain": [
       "     user_id       notification_date  ... count_after difference\n",
       "0  user_7086 2018-12-02 17:58:33.320  ...         2.0        1.0\n",
       "1  user_7086 2018-11-17 18:12:38.112  ...         1.0       -1.0\n",
       "2  user_4151 2018-10-25 02:05:30.995  ...         6.0        6.0\n",
       "3  user_4151 2019-05-02 22:28:06.935  ...         1.0        1.0\n",
       "4  user_1408 2018-11-11 02:03:46.791  ...         0.0       -2.0\n",
       "\n",
       "[5 rows x 7 columns]"
      ]
     },
     "execution_count": 33,
     "metadata": {
      "tags": []
     },
     "output_type": "execute_result"
    }
   ],
   "source": [
    "notifications.head()"
   ]
  },
  {
   "cell_type": "markdown",
   "metadata": {
    "colab_type": "text",
    "id": "oHY1i-HLzHKR"
   },
   "source": [
    "We will afterward compute the average difference for each user, as each user might have many notifications. \n",
    "\n",
    "To achieve that, we will define the following helper function :"
   ]
  },
  {
   "cell_type": "code",
   "execution_count": null,
   "metadata": {
    "colab": {},
    "colab_type": "code",
    "id": "LybP3a-zzYQP"
   },
   "outputs": [],
   "source": [
    "def diff_mean(df, col, new_col):\n",
    "    df[new_col] = df[col].mean()\n",
    "    return df"
   ]
  },
  {
   "cell_type": "markdown",
   "metadata": {
    "colab_type": "text",
    "id": "y85hmNV0zZfz"
   },
   "source": [
    "Then we will compute the mean difference :"
   ]
  },
  {
   "cell_type": "code",
   "execution_count": null,
   "metadata": {
    "colab": {},
    "colab_type": "code",
    "id": "yxcrC7-2zdaO"
   },
   "outputs": [],
   "source": [
    "# grouping notifications by user id, and computing their mean\n",
    "notifs = notifications.groupby('user_id').apply(diff_mean,'difference','avg_diff')\n",
    "\n",
    "# droping duplicates and reseting index\n",
    "notifs = notifs[['user_id','avg_diff']].drop_duplicates().reset_index()[['user_id','avg_diff']]"
   ]
  },
  {
   "cell_type": "code",
   "execution_count": null,
   "metadata": {
    "colab": {
     "base_uri": "https://localhost:8080/",
     "height": 34
    },
    "colab_type": "code",
    "id": "brXHeSi21sbr",
    "outputId": "cb71aaa9-7cfd-4e00-cd57-f6cc6d533acc"
   },
   "outputs": [
    {
     "name": "stdout",
     "output_type": "stream",
     "text": [
      "Number of users  : 16855 user\n"
     ]
    }
   ],
   "source": [
    "print(\"Number of users  : {:1d} user\".format(notifs.shape[0]))"
   ]
  },
  {
   "cell_type": "markdown",
   "metadata": {
    "colab_type": "text",
    "id": "XsCSEAakygpZ"
   },
   "source": [
    "We will now work on the user dataset, in order to merge it with the notification dataset. We will first need to deal with the missing values on the user data :"
   ]
  },
  {
   "cell_type": "code",
   "execution_count": null,
   "metadata": {
    "colab": {
     "base_uri": "https://localhost:8080/",
     "height": 243
    },
    "colab_type": "code",
    "id": "ylVQVLmbwfM_",
    "outputId": "78c02129-9d48-4a24-b1c3-9f82792832e9"
   },
   "outputs": [
    {
     "data": {
      "text/plain": [
       "user_id                                        0\n",
       "birth_year                                     0\n",
       "country                                        0\n",
       "city                                           0\n",
       "created_date                                   0\n",
       "user_settings_crypto_unlocked                  0\n",
       "plan                                           0\n",
       "attributes_notifications_marketing_push     6610\n",
       "attributes_notifications_marketing_email    6610\n",
       "num_contacts                                   0\n",
       "num_referrals                                  0\n",
       "num_successful_referrals                       0\n",
       "dtype: int64"
      ]
     },
     "execution_count": 37,
     "metadata": {
      "tags": []
     },
     "output_type": "execute_result"
    }
   ],
   "source": [
    "user_data.isnull().sum()"
   ]
  },
  {
   "cell_type": "markdown",
   "metadata": {
    "colab_type": "text",
    "id": "ATTdGSlJ5iJ_"
   },
   "source": [
    "The variables **attributes_notifications_marketing_push** and **attributes_notifications_marketing_email** have numerous missing values.\n",
    "\n",
    "We will aim to deal with these missing values. These attributes show whether the user accepted to receive notifications. Our approach to deal with them, is to check if a user received a notification before. In the case he did, these missing values would have the value of 1, if not then 0."
   ]
  },
  {
   "cell_type": "code",
   "execution_count": null,
   "metadata": {
    "colab": {},
    "colab_type": "code",
    "id": "0B0-Djx95gfR"
   },
   "outputs": [],
   "source": [
    "# filtering to have only sent notifications\n",
    "n_user = notif_data[notif_data['status'] == 'SENT']\n",
    "\n",
    "# merging user data with notification data using a left join\n",
    "joined = pd.merge(user_data, n_user, how='left',on='user_id')"
   ]
  },
  {
   "cell_type": "markdown",
   "metadata": {
    "colab_type": "text",
    "id": "s5JfYVvGFW6c"
   },
   "source": [
    "We will now define a helper function to count the number of notifications each user received, so that we fill missing values using that information :"
   ]
  },
  {
   "cell_type": "code",
   "execution_count": null,
   "metadata": {
    "colab": {},
    "colab_type": "code",
    "id": "TpwAbrdvEY4w"
   },
   "outputs": [],
   "source": [
    "def count_col(df, col, new_col):\n",
    "    df[new_col] = df[col].count()\n",
    "    return df"
   ]
  },
  {
   "cell_type": "code",
   "execution_count": null,
   "metadata": {
    "colab": {},
    "colab_type": "code",
    "id": "uw1X7d6PFjoV"
   },
   "outputs": [],
   "source": [
    "# grouping merged data by user id and counting the number of notifications each user received\n",
    "grouped = joined.groupby('user_id').apply(count_col,'status','channel_count')\n",
    "\n",
    "# Looping over the user data, to replace missing data with 1 if user received a notification before\n",
    "for index,row in grouped.iterrows() :\n",
    "    if  grouped.at[index,'channel_count']>0 and row['attributes_notifications_marketing_email'] != 0 :\n",
    "        grouped.at[index,'attributes_notifications_marketing_email'] = 1.0\n",
    "    if  grouped.at[index,'channel_count']>0 and row['attributes_notifications_marketing_push'] != 0:\n",
    "        grouped.at[index,'attributes_notifications_marketing_push'] = 1.0\n",
    "\n",
    "\n",
    "# dropping the extremely few NA values left\n",
    "grouped_na = grouped.dropna()\n",
    "\n",
    "# resetting index and dropping duplicates\n",
    "users = grouped_na[['user_id','birth_year','country','city','created_date_x','user_settings_crypto_unlocked','plan','attributes_notifications_marketing_push','attributes_notifications_marketing_email','num_contacts','num_referrals','num_successful_referrals']]\n",
    "users = users.drop_duplicates().reset_index()[['user_id','birth_year','country','city','created_date_x','user_settings_crypto_unlocked','plan','attributes_notifications_marketing_push','attributes_notifications_marketing_email','num_contacts','num_referrals','num_successful_referrals']]"
   ]
  },
  {
   "cell_type": "markdown",
   "metadata": {
    "colab_type": "text",
    "id": "2L_chQQjruYO"
   },
   "source": [
    "We will then set out to merge the user data with the average difference of transactions in notification periods for each user."
   ]
  },
  {
   "cell_type": "code",
   "execution_count": null,
   "metadata": {
    "colab": {},
    "colab_type": "code",
    "id": "Ig2FyDwZHQLv"
   },
   "outputs": [],
   "source": [
    "# an inner join between the data of users, and the aggregated data from notifications, on the user id\n",
    "engagement_temp = pd.merge(users, notifs, how='inner',on='user_id')"
   ]
  },
  {
   "cell_type": "markdown",
   "metadata": {
    "colab_type": "text",
    "id": "YBPbmmFuw29e"
   },
   "source": [
    "Afterward we will merge the data of the devices used by each user, with out current dataset. A first step toward that would be to prepare the devices dataset properly.\n",
    "\n",
    "\n",
    "\n"
   ]
  },
  {
   "cell_type": "code",
   "execution_count": null,
   "metadata": {
    "colab": {
     "base_uri": "https://localhost:8080/",
     "height": 86
    },
    "colab_type": "code",
    "id": "unWFgmqQIS4J",
    "outputId": "26b1544f-7f6c-4d4b-8202-fb5049a7ea33"
   },
   "outputs": [
    {
     "data": {
      "text/plain": [
       "Android    9714\n",
       "Apple      9673\n",
       "Unknown      43\n",
       "Name: brand, dtype: int64"
      ]
     },
     "execution_count": 42,
     "metadata": {
      "tags": []
     },
     "output_type": "execute_result"
    }
   ],
   "source": [
    "devices_data['brand'].value_counts()"
   ]
  },
  {
   "cell_type": "markdown",
   "metadata": {
    "colab_type": "text",
    "id": "XLiTx7mdxccw"
   },
   "source": [
    "As we can notice, the devices used by users are divided between Android devices and Apple devices. A few devices seem to not have been recognized, and have been entered as unknown. A safe deduction we can make is that the devices would be Android devices, or derivatives, as Apple devices would always be recognized."
   ]
  },
  {
   "cell_type": "code",
   "execution_count": null,
   "metadata": {
    "colab": {},
    "colab_type": "code",
    "id": "evRRyhazsg85"
   },
   "outputs": [],
   "source": [
    "# replacing the 'Unknown' data by 'Android'\n",
    "devices_data['brand'] = devices_data['brand'].str.replace(\"Unknown\", \"Android\")"
   ]
  },
  {
   "cell_type": "markdown",
   "metadata": {
    "colab_type": "text",
    "id": "M3C5j5EZyDVF"
   },
   "source": [
    "We would then merge the devices data with our dataset we have been preparing."
   ]
  },
  {
   "cell_type": "code",
   "execution_count": null,
   "metadata": {
    "colab": {},
    "colab_type": "code",
    "id": "ry-oZK2wyA-7"
   },
   "outputs": [],
   "source": [
    "# creating the engagement dataset\n",
    "engagement = pd.merge(engagement_temp, devices_data, how='inner',on='user_id')"
   ]
  },
  {
   "cell_type": "markdown",
   "metadata": {
    "colab_type": "text",
    "id": "wAQuzjHKyVMd"
   },
   "source": [
    "Through this, we have created a dataset that we will be using to set a metric of engagement. A quick exploration of the dataset would show us this : "
   ]
  },
  {
   "cell_type": "code",
   "execution_count": null,
   "metadata": {
    "colab": {
     "base_uri": "https://localhost:8080/",
     "height": 52
    },
    "colab_type": "code",
    "id": "-vQpJLSJyRy1",
    "outputId": "ddac8041-7975-49c5-ae49-f5f8491dd80d"
   },
   "outputs": [
    {
     "name": "stdout",
     "output_type": "stream",
     "text": [
      "Number of user : 16855 user\n",
      "Each user defined by 14 variable\n"
     ]
    }
   ],
   "source": [
    "print(\"Number of user : {:1d} user\\nEach user defined by {:1d} variable\".format(engagement.shape[0],engagement.shape[1]))"
   ]
  },
  {
   "cell_type": "markdown",
   "metadata": {
    "colab_type": "text",
    "id": "oYLdklhFOlBa"
   },
   "source": [
    "Our next step would be to do an exploration on the variables of our dataset, in order to find out all the possible transformations we could make on its variables, to better define engagement metrics."
   ]
  },
  {
   "cell_type": "code",
   "execution_count": null,
   "metadata": {
    "colab": {
     "base_uri": "https://localhost:8080/",
     "height": 313
    },
    "colab_type": "code",
    "id": "Np2nPnN9OgXd",
    "outputId": "e0d2f178-7906-49ea-f5bc-f474f5be3d0b"
   },
   "outputs": [
    {
     "data": {
      "text/html": [
       "<div>\n",
       "<style scoped>\n",
       "    .dataframe tbody tr th:only-of-type {\n",
       "        vertical-align: middle;\n",
       "    }\n",
       "\n",
       "    .dataframe tbody tr th {\n",
       "        vertical-align: top;\n",
       "    }\n",
       "\n",
       "    .dataframe thead th {\n",
       "        text-align: right;\n",
       "    }\n",
       "</style>\n",
       "<table border=\"1\" class=\"dataframe\">\n",
       "  <thead>\n",
       "    <tr style=\"text-align: right;\">\n",
       "      <th></th>\n",
       "      <th>user_id</th>\n",
       "      <th>birth_year</th>\n",
       "      <th>country</th>\n",
       "      <th>city</th>\n",
       "      <th>created_date_x</th>\n",
       "      <th>user_settings_crypto_unlocked</th>\n",
       "      <th>plan</th>\n",
       "      <th>attributes_notifications_marketing_push</th>\n",
       "      <th>attributes_notifications_marketing_email</th>\n",
       "      <th>num_contacts</th>\n",
       "      <th>num_referrals</th>\n",
       "      <th>num_successful_referrals</th>\n",
       "      <th>avg_diff</th>\n",
       "      <th>brand</th>\n",
       "    </tr>\n",
       "  </thead>\n",
       "  <tbody>\n",
       "    <tr>\n",
       "      <th>0</th>\n",
       "      <td>user_0</td>\n",
       "      <td>1989</td>\n",
       "      <td>PL</td>\n",
       "      <td>Gdansk</td>\n",
       "      <td>2018-01-13 05:15:15.599466</td>\n",
       "      <td>1</td>\n",
       "      <td>STANDARD</td>\n",
       "      <td>1.0</td>\n",
       "      <td>1.0</td>\n",
       "      <td>3</td>\n",
       "      <td>0</td>\n",
       "      <td>0</td>\n",
       "      <td>4.333333</td>\n",
       "      <td>Apple</td>\n",
       "    </tr>\n",
       "    <tr>\n",
       "      <th>1</th>\n",
       "      <td>user_1</td>\n",
       "      <td>1975</td>\n",
       "      <td>GB</td>\n",
       "      <td>London</td>\n",
       "      <td>2018-01-29 03:38:46.676876</td>\n",
       "      <td>0</td>\n",
       "      <td>STANDARD</td>\n",
       "      <td>1.0</td>\n",
       "      <td>1.0</td>\n",
       "      <td>21</td>\n",
       "      <td>0</td>\n",
       "      <td>0</td>\n",
       "      <td>5.000000</td>\n",
       "      <td>Apple</td>\n",
       "    </tr>\n",
       "    <tr>\n",
       "      <th>2</th>\n",
       "      <td>user_5</td>\n",
       "      <td>1993</td>\n",
       "      <td>LT</td>\n",
       "      <td>Vilnius</td>\n",
       "      <td>2018-01-04 17:45:03.907804</td>\n",
       "      <td>1</td>\n",
       "      <td>STANDARD</td>\n",
       "      <td>1.0</td>\n",
       "      <td>1.0</td>\n",
       "      <td>0</td>\n",
       "      <td>0</td>\n",
       "      <td>0</td>\n",
       "      <td>0.000000</td>\n",
       "      <td>Apple</td>\n",
       "    </tr>\n",
       "    <tr>\n",
       "      <th>3</th>\n",
       "      <td>user_6</td>\n",
       "      <td>1978</td>\n",
       "      <td>GB</td>\n",
       "      <td>Brighton</td>\n",
       "      <td>2018-01-24 19:04:50.876183</td>\n",
       "      <td>0</td>\n",
       "      <td>STANDARD</td>\n",
       "      <td>1.0</td>\n",
       "      <td>1.0</td>\n",
       "      <td>0</td>\n",
       "      <td>0</td>\n",
       "      <td>0</td>\n",
       "      <td>0.000000</td>\n",
       "      <td>Apple</td>\n",
       "    </tr>\n",
       "    <tr>\n",
       "      <th>4</th>\n",
       "      <td>user_7</td>\n",
       "      <td>1989</td>\n",
       "      <td>RO</td>\n",
       "      <td>Bucharest</td>\n",
       "      <td>2018-01-11 19:11:45.757486</td>\n",
       "      <td>0</td>\n",
       "      <td>STANDARD</td>\n",
       "      <td>1.0</td>\n",
       "      <td>1.0</td>\n",
       "      <td>0</td>\n",
       "      <td>0</td>\n",
       "      <td>0</td>\n",
       "      <td>0.000000</td>\n",
       "      <td>Apple</td>\n",
       "    </tr>\n",
       "  </tbody>\n",
       "</table>\n",
       "</div>"
      ],
      "text/plain": [
       "  user_id  birth_year country  ... num_successful_referrals  avg_diff  brand\n",
       "0  user_0        1989      PL  ...                        0  4.333333  Apple\n",
       "1  user_1        1975      GB  ...                        0  5.000000  Apple\n",
       "2  user_5        1993      LT  ...                        0  0.000000  Apple\n",
       "3  user_6        1978      GB  ...                        0  0.000000  Apple\n",
       "4  user_7        1989      RO  ...                        0  0.000000  Apple\n",
       "\n",
       "[5 rows x 14 columns]"
      ]
     },
     "execution_count": 46,
     "metadata": {
      "tags": []
     },
     "output_type": "execute_result"
    }
   ],
   "source": [
    "engagement.head()"
   ]
  },
  {
   "cell_type": "code",
   "execution_count": null,
   "metadata": {
    "colab": {
     "base_uri": "https://localhost:8080/",
     "height": 34
    },
    "colab_type": "code",
    "id": "intu19RpO7bD",
    "outputId": "f29e5aa8-e00f-42cf-e4fb-40b7f464c27a"
   },
   "outputs": [
    {
     "name": "stdout",
     "output_type": "stream",
     "text": [
      "Number of different cities in dataset : 5475 city\n"
     ]
    }
   ],
   "source": [
    "print(\"Number of different cities in dataset : {:1d} city\".format(len(engagement['city'].unique())))"
   ]
  },
  {
   "cell_type": "markdown",
   "metadata": {
    "colab_type": "text",
    "id": "doqW388GSPsm"
   },
   "source": [
    "The number of city categories in our dataset appears to be very high, while the countries would have the same amount of information with much less categories, which would help us generalize our analysis and future models better. Thus, we will drop the city variable."
   ]
  },
  {
   "cell_type": "code",
   "execution_count": null,
   "metadata": {
    "colab": {},
    "colab_type": "code",
    "id": "Q3iYoyXJQnxd"
   },
   "outputs": [],
   "source": [
    "# Dropping the city variable from the dataset\n",
    "engagement = engagement.drop('city',axis=1)"
   ]
  },
  {
   "cell_type": "markdown",
   "metadata": {
    "colab_type": "text",
    "id": "1F-5qLajTv0u"
   },
   "source": [
    "We will now analyze the relationship of the **num_contacts** variables with the average difference."
   ]
  },
  {
   "cell_type": "code",
   "execution_count": null,
   "metadata": {
    "colab": {
     "base_uri": "https://localhost:8080/",
     "height": 354
    },
    "colab_type": "code",
    "id": "r8Alb8SKTCkS",
    "outputId": "ac44ec60-4a2a-42a6-8477-8bcfe08094b6"
   },
   "outputs": [
    {
     "data": {
      "text/plain": [
       "<matplotlib.axes._subplots.AxesSubplot at 0x7f98d48052b0>"
      ]
     },
     "execution_count": 49,
     "metadata": {
      "tags": []
     },
     "output_type": "execute_result"
    },
    {
     "data": {
      "image/png": "[encoded data removed]",
      "text/plain": [
       "<Figure size 864x360 with 1 Axes>"
      ]
     },
     "metadata": {
      "tags": []
     },
     "output_type": "display_data"
    }
   ],
   "source": [
    "engagement.plot(x='num_contacts',y='avg_diff',kind='scatter',figsize=(12,5))"
   ]
  },
  {
   "cell_type": "markdown",
   "metadata": {
    "colab_type": "text",
    "id": "l0JKbClbVXar"
   },
   "source": [
    "There appears to be no relationship between the two variables. We will then drop the **num_contacts** variable."
   ]
  },
  {
   "cell_type": "code",
   "execution_count": null,
   "metadata": {
    "colab": {},
    "colab_type": "code",
    "id": "LFcYxrYwUNvJ"
   },
   "outputs": [],
   "source": [
    "# Dropping the city variable from the dataset\n",
    "engagement = engagement.drop('num_contacts',axis=1)"
   ]
  },
  {
   "cell_type": "markdown",
   "metadata": {
    "colab_type": "text",
    "id": "xbgJ21hCWVD3"
   },
   "source": [
    "We will next have a look at our dataset :"
   ]
  },
  {
   "cell_type": "code",
   "execution_count": null,
   "metadata": {
    "colab": {
     "base_uri": "https://localhost:8080/",
     "height": 320
    },
    "colab_type": "code",
    "id": "FY21Hzx-VlhU",
    "outputId": "49f53b62-30fa-4ee6-d646-3aee68f112ba"
   },
   "outputs": [
    {
     "data": {
      "text/html": [
       "<div>\n",
       "<style scoped>\n",
       "    .dataframe tbody tr th:only-of-type {\n",
       "        vertical-align: middle;\n",
       "    }\n",
       "\n",
       "    .dataframe tbody tr th {\n",
       "        vertical-align: top;\n",
       "    }\n",
       "\n",
       "    .dataframe thead th {\n",
       "        text-align: right;\n",
       "    }\n",
       "</style>\n",
       "<table border=\"1\" class=\"dataframe\">\n",
       "  <thead>\n",
       "    <tr style=\"text-align: right;\">\n",
       "      <th></th>\n",
       "      <th>birth_year</th>\n",
       "      <th>user_settings_crypto_unlocked</th>\n",
       "      <th>attributes_notifications_marketing_push</th>\n",
       "      <th>attributes_notifications_marketing_email</th>\n",
       "      <th>num_referrals</th>\n",
       "      <th>num_successful_referrals</th>\n",
       "      <th>avg_diff</th>\n",
       "    </tr>\n",
       "  </thead>\n",
       "  <tbody>\n",
       "    <tr>\n",
       "      <th>count</th>\n",
       "      <td>16855.000000</td>\n",
       "      <td>16855.000000</td>\n",
       "      <td>16855.000000</td>\n",
       "      <td>16855.000000</td>\n",
       "      <td>16855.0</td>\n",
       "      <td>16855.0</td>\n",
       "      <td>16855.000000</td>\n",
       "    </tr>\n",
       "    <tr>\n",
       "      <th>mean</th>\n",
       "      <td>1983.596084</td>\n",
       "      <td>0.185998</td>\n",
       "      <td>0.979650</td>\n",
       "      <td>0.946069</td>\n",
       "      <td>0.0</td>\n",
       "      <td>0.0</td>\n",
       "      <td>0.861822</td>\n",
       "    </tr>\n",
       "    <tr>\n",
       "      <th>std</th>\n",
       "      <td>11.351729</td>\n",
       "      <td>0.389117</td>\n",
       "      <td>0.141199</td>\n",
       "      <td>0.225887</td>\n",
       "      <td>0.0</td>\n",
       "      <td>0.0</td>\n",
       "      <td>5.170807</td>\n",
       "    </tr>\n",
       "    <tr>\n",
       "      <th>min</th>\n",
       "      <td>1929.000000</td>\n",
       "      <td>0.000000</td>\n",
       "      <td>0.000000</td>\n",
       "      <td>0.000000</td>\n",
       "      <td>0.0</td>\n",
       "      <td>0.0</td>\n",
       "      <td>-57.000000</td>\n",
       "    </tr>\n",
       "    <tr>\n",
       "      <th>25%</th>\n",
       "      <td>1977.000000</td>\n",
       "      <td>0.000000</td>\n",
       "      <td>1.000000</td>\n",
       "      <td>1.000000</td>\n",
       "      <td>0.0</td>\n",
       "      <td>0.0</td>\n",
       "      <td>-0.500000</td>\n",
       "    </tr>\n",
       "    <tr>\n",
       "      <th>50%</th>\n",
       "      <td>1986.000000</td>\n",
       "      <td>0.000000</td>\n",
       "      <td>1.000000</td>\n",
       "      <td>1.000000</td>\n",
       "      <td>0.0</td>\n",
       "      <td>0.0</td>\n",
       "      <td>0.000000</td>\n",
       "    </tr>\n",
       "    <tr>\n",
       "      <th>75%</th>\n",
       "      <td>1992.000000</td>\n",
       "      <td>0.000000</td>\n",
       "      <td>1.000000</td>\n",
       "      <td>1.000000</td>\n",
       "      <td>0.0</td>\n",
       "      <td>0.0</td>\n",
       "      <td>2.000000</td>\n",
       "    </tr>\n",
       "    <tr>\n",
       "      <th>max</th>\n",
       "      <td>2001.000000</td>\n",
       "      <td>1.000000</td>\n",
       "      <td>1.000000</td>\n",
       "      <td>1.000000</td>\n",
       "      <td>0.0</td>\n",
       "      <td>0.0</td>\n",
       "      <td>74.000000</td>\n",
       "    </tr>\n",
       "  </tbody>\n",
       "</table>\n",
       "</div>"
      ],
      "text/plain": [
       "         birth_year  ...      avg_diff\n",
       "count  16855.000000  ...  16855.000000\n",
       "mean    1983.596084  ...      0.861822\n",
       "std       11.351729  ...      5.170807\n",
       "min     1929.000000  ...    -57.000000\n",
       "25%     1977.000000  ...     -0.500000\n",
       "50%     1986.000000  ...      0.000000\n",
       "75%     1992.000000  ...      2.000000\n",
       "max     2001.000000  ...     74.000000\n",
       "\n",
       "[8 rows x 7 columns]"
      ]
     },
     "execution_count": 51,
     "metadata": {
      "tags": []
     },
     "output_type": "execute_result"
    }
   ],
   "source": [
    "engagement.describe()"
   ]
  },
  {
   "cell_type": "markdown",
   "metadata": {
    "colab_type": "text",
    "id": "zCLfSFHwWnDZ"
   },
   "source": [
    "It clearly appears that the **num_referrals** and **num_successful_referrals** keep having a value of zero in all the dataset. That means they have no effect on the average difference, and so they will also be dropped."
   ]
  },
  {
   "cell_type": "code",
   "execution_count": null,
   "metadata": {
    "colab": {},
    "colab_type": "code",
    "id": "-Csv9_nQWiXr"
   },
   "outputs": [],
   "source": [
    "# dropping irrelevant data\n",
    "engagement = engagement.drop('num_referrals',axis=1)\n",
    "engagement = engagement.drop('num_successful_referrals',axis=1)"
   ]
  },
  {
   "cell_type": "markdown",
   "metadata": {
    "colab_type": "text",
    "id": "gPQoRYXeI0kh"
   },
   "source": [
    "Next, we would be working on the **birth_year** variable, to transform it into categories of age groups. After we have explored the distributions of ages in the beginning, we'll begin by defining a helping function, that divides age groups into the following : '18 - 27', '27 - 31', '31 - 36', '36 - 45', '53 +'"
   ]
  },
  {
   "cell_type": "code",
   "execution_count": null,
   "metadata": {
    "colab": {},
    "colab_type": "code",
    "id": "I-CaGYGOIX9z"
   },
   "outputs": [],
   "source": [
    "# converting birth years to categories of ages\n",
    "def birth_to_cat(row):\n",
    "  age = 2020 - row['birth_year']\n",
    "  if age >= 18 and age < 27 :\n",
    "    val = '18 - 27'\n",
    "  elif age >= 27 and age < 31 :\n",
    "    val = '27 - 31'\n",
    "  elif age >= 31 and age < 36 :\n",
    "    val = '31 - 36'\n",
    "  elif age >= 36 and age < 45 :\n",
    "    val = '36 - 45'\n",
    "  elif age >= 45 and age < 53 :\n",
    "    val = '45 - 53'\n",
    "  else:\n",
    "    val = '53 +'\n",
    "  return val"
   ]
  },
  {
   "cell_type": "markdown",
   "metadata": {
    "colab_type": "text",
    "id": "wa_whWPlJbwi"
   },
   "source": [
    "We will then transform the birth_years into age groups and categories :"
   ]
  },
  {
   "cell_type": "code",
   "execution_count": null,
   "metadata": {
    "colab": {},
    "colab_type": "code",
    "id": "A2Geh9XzJiro"
   },
   "outputs": [],
   "source": [
    "# creating age groups\n",
    "engagement['age'] = engagement.apply(birth_to_cat,axis=1)"
   ]
  },
  {
   "cell_type": "markdown",
   "metadata": {
    "colab_type": "text",
    "id": "YeeIKoRRROLG"
   },
   "source": [
    "Our next step would be working on the **created_date** of each user of our dataset, which means his joining date to Revolut. We aim to convert it into categories of ancientness as a Revolut Bank user. We will begin by importing a necessary library and changing the type of the variable :"
   ]
  },
  {
   "cell_type": "code",
   "execution_count": null,
   "metadata": {
    "colab": {},
    "colab_type": "code",
    "id": "wB6HXsoPRshf"
   },
   "outputs": [],
   "source": [
    "# importing datetime for date manipulations\n",
    "import datetime\n",
    "\n",
    "# creating a joining date column with a Day type \n",
    "engagement['joining_date'] = (engagement['created_date_x'].values.astype('datetime64[D]') )"
   ]
  },
  {
   "cell_type": "markdown",
   "metadata": {
    "colab_type": "text",
    "id": "d-valcUFS_FL"
   },
   "source": [
    "We then define helper functions to find the ancientness :"
   ]
  },
  {
   "cell_type": "code",
   "execution_count": null,
   "metadata": {
    "colab": {},
    "colab_type": "code",
    "id": "rCLC0_07Jl_b"
   },
   "outputs": [],
   "source": [
    "# transforming joining date to ancientness by days\n",
    "def ancientness(row):\n",
    "    val = np.datetime64(datetime.datetime.now()).astype('datetime64[D]') - np.datetime64(row['joining_date']).astype('datetime64[D]')\n",
    "    return val\n",
    "\n",
    "# converting the ancientness by days to categories of ancientness by months\n",
    "def months_ancientness(row):\n",
    "  months = int(row['int_ancient'] / 30)\n",
    "  if months >= 12 and months < 14 :\n",
    "    val = '12-14'\n",
    "  elif months >= 14 and months < 16:\n",
    "    val = '14-16'\n",
    "  elif months >= 16 and months < 18:\n",
    "    val = '16-18'\n",
    "  elif months >= 18 and months < 20:\n",
    "    val = '18-20'\n",
    "  elif months >= 20 and months < 22:\n",
    "    val = '20-22'\n",
    "  elif months >= 22 and months < 24:\n",
    "    val = '22-24'\n",
    "  elif months >= 24:\n",
    "    val = '24+'\n",
    "  return val"
   ]
  },
  {
   "cell_type": "markdown",
   "metadata": {
    "colab_type": "text",
    "id": "Qq-OVr9VTuwG"
   },
   "source": [
    "We create afterward categories of ancientness, by periods of two months :"
   ]
  },
  {
   "cell_type": "code",
   "execution_count": null,
   "metadata": {
    "colab": {},
    "colab_type": "code",
    "id": "c7Xun8coTJx7"
   },
   "outputs": [],
   "source": [
    "# finding ancientness of each user in terms of days\n",
    "engagement['ancientness'] = engagement.apply(ancientness, axis=1)\n",
    "\n",
    "# converting the ancientness to int (days)\n",
    "engagement['int_ancient'] = engagement['ancientness'].astype(int) / (3600*24*1000000000)\n",
    "\n",
    "# setting up categories of ancientness by months\n",
    "engagement['ancientness'] = engagement.apply(months_ancientness,axis=1)\n",
    "\n",
    "# leaving only relevant columns\n",
    "engagement = engagement[['user_id','country','age','user_settings_crypto_unlocked','plan','attributes_notifications_marketing_push','attributes_notifications_marketing_email','brand','ancientness','avg_diff']]"
   ]
  },
  {
   "cell_type": "markdown",
   "metadata": {
    "colab_type": "text",
    "id": "03mWert7Wt6q"
   },
   "source": [
    "The distribution of the ancientness categories appears to be evenly distributed as follow :"
   ]
  },
  {
   "cell_type": "code",
   "execution_count": null,
   "metadata": {
    "colab": {
     "base_uri": "https://localhost:8080/",
     "height": 139
    },
    "colab_type": "code",
    "id": "nugERPNTW2hp",
    "outputId": "140682f2-c623-4fe8-9ad6-8f139efbdd1e"
   },
   "outputs": [
    {
     "data": {
      "text/plain": [
       "16-18    3034\n",
       "18-20    3011\n",
       "14-16    2970\n",
       "24+      2840\n",
       "20-22    2783\n",
       "22-24    2217\n",
       "Name: ancientness, dtype: int64"
      ]
     },
     "execution_count": 58,
     "metadata": {
      "tags": []
     },
     "output_type": "execute_result"
    }
   ],
   "source": [
    "# the number of occurences of the values of ancientness\n",
    "engagement['ancientness'].value_counts()"
   ]
  },
  {
   "cell_type": "markdown",
   "metadata": {
    "colab_type": "text",
    "id": "eDjsCP0IVFMb"
   },
   "source": [
    "A peak at out resulting dataset show us the first five observations :"
   ]
  },
  {
   "cell_type": "code",
   "execution_count": null,
   "metadata": {
    "colab": {
     "base_uri": "https://localhost:8080/",
     "height": 400
    },
    "colab_type": "code",
    "id": "E3Yu7CgtVDc9",
    "outputId": "4b75e5b0-a479-477b-c9a2-ad9ee593a2bf"
   },
   "outputs": [
    {
     "data": {
      "text/html": [
       "<div>\n",
       "<style scoped>\n",
       "    .dataframe tbody tr th:only-of-type {\n",
       "        vertical-align: middle;\n",
       "    }\n",
       "\n",
       "    .dataframe tbody tr th {\n",
       "        vertical-align: top;\n",
       "    }\n",
       "\n",
       "    .dataframe thead th {\n",
       "        text-align: right;\n",
       "    }\n",
       "</style>\n",
       "<table border=\"1\" class=\"dataframe\">\n",
       "  <thead>\n",
       "    <tr style=\"text-align: right;\">\n",
       "      <th></th>\n",
       "      <th>user_id</th>\n",
       "      <th>country</th>\n",
       "      <th>age</th>\n",
       "      <th>user_settings_crypto_unlocked</th>\n",
       "      <th>plan</th>\n",
       "      <th>attributes_notifications_marketing_push</th>\n",
       "      <th>attributes_notifications_marketing_email</th>\n",
       "      <th>brand</th>\n",
       "      <th>ancientness</th>\n",
       "      <th>avg_diff</th>\n",
       "    </tr>\n",
       "  </thead>\n",
       "  <tbody>\n",
       "    <tr>\n",
       "      <th>0</th>\n",
       "      <td>user_0</td>\n",
       "      <td>PL</td>\n",
       "      <td>31 - 36</td>\n",
       "      <td>1</td>\n",
       "      <td>STANDARD</td>\n",
       "      <td>1.0</td>\n",
       "      <td>1.0</td>\n",
       "      <td>Apple</td>\n",
       "      <td>24+</td>\n",
       "      <td>4.333333</td>\n",
       "    </tr>\n",
       "    <tr>\n",
       "      <th>1</th>\n",
       "      <td>user_1</td>\n",
       "      <td>GB</td>\n",
       "      <td>45 - 53</td>\n",
       "      <td>0</td>\n",
       "      <td>STANDARD</td>\n",
       "      <td>1.0</td>\n",
       "      <td>1.0</td>\n",
       "      <td>Apple</td>\n",
       "      <td>24+</td>\n",
       "      <td>5.000000</td>\n",
       "    </tr>\n",
       "    <tr>\n",
       "      <th>2</th>\n",
       "      <td>user_5</td>\n",
       "      <td>LT</td>\n",
       "      <td>27 - 31</td>\n",
       "      <td>1</td>\n",
       "      <td>STANDARD</td>\n",
       "      <td>1.0</td>\n",
       "      <td>1.0</td>\n",
       "      <td>Apple</td>\n",
       "      <td>24+</td>\n",
       "      <td>0.000000</td>\n",
       "    </tr>\n",
       "    <tr>\n",
       "      <th>3</th>\n",
       "      <td>user_6</td>\n",
       "      <td>GB</td>\n",
       "      <td>36 - 45</td>\n",
       "      <td>0</td>\n",
       "      <td>STANDARD</td>\n",
       "      <td>1.0</td>\n",
       "      <td>1.0</td>\n",
       "      <td>Apple</td>\n",
       "      <td>24+</td>\n",
       "      <td>0.000000</td>\n",
       "    </tr>\n",
       "    <tr>\n",
       "      <th>4</th>\n",
       "      <td>user_7</td>\n",
       "      <td>RO</td>\n",
       "      <td>31 - 36</td>\n",
       "      <td>0</td>\n",
       "      <td>STANDARD</td>\n",
       "      <td>1.0</td>\n",
       "      <td>1.0</td>\n",
       "      <td>Apple</td>\n",
       "      <td>24+</td>\n",
       "      <td>0.000000</td>\n",
       "    </tr>\n",
       "  </tbody>\n",
       "</table>\n",
       "</div>"
      ],
      "text/plain": [
       "  user_id country      age  ...  brand ancientness  avg_diff\n",
       "0  user_0      PL  31 - 36  ...  Apple         24+  4.333333\n",
       "1  user_1      GB  45 - 53  ...  Apple         24+  5.000000\n",
       "2  user_5      LT  27 - 31  ...  Apple         24+  0.000000\n",
       "3  user_6      GB  36 - 45  ...  Apple         24+  0.000000\n",
       "4  user_7      RO  31 - 36  ...  Apple         24+  0.000000\n",
       "\n",
       "[5 rows x 10 columns]"
      ]
     },
     "execution_count": 59,
     "metadata": {
      "tags": []
     },
     "output_type": "execute_result"
    }
   ],
   "source": [
    "engagement.head()"
   ]
  },
  {
   "cell_type": "markdown",
   "metadata": {
    "colab_type": "text",
    "id": "2bwTCGhr0yzY"
   },
   "source": [
    "We will be saving the dataset, to be using it in other parts."
   ]
  },
  {
   "cell_type": "code",
   "execution_count": null,
   "metadata": {
    "colab": {},
    "colab_type": "code",
    "id": "541MK0lt0izU"
   },
   "outputs": [],
   "source": [
    "# saving dataset as a csv\n",
    "engagement.to_csv('data/rev-engagement.csv')"
   ]
  },
  {
   "cell_type": "markdown",
   "metadata": {
    "colab_type": "text",
    "id": "vsZ8Vw4S3kup"
   },
   "source": [
    "\n",
    "\n",
    "---\n",
    "##### <a name=\"III\">**III - Data Analysis**</a>\n",
    "We will analyze the variables and their correlation with the average difference in transactions in time periods of notifications, with an univariate and bivariate analysis, to find out whether our engagement metric can be extrapolated from it."
   ]
  },
  {
   "cell_type": "markdown",
   "metadata": {
    "colab_type": "text",
    "id": "g4_fr6m9OQ5R"
   },
   "source": [
    "We will start by importing our previously prepared engagement dataset"
   ]
  },
  {
   "cell_type": "code",
   "execution_count": null,
   "metadata": {
    "colab": {},
    "colab_type": "code",
    "id": "_RVH02J7EtgW"
   },
   "outputs": [],
   "source": [
    "# reading previously prepared engagement data\n",
    "engagement = pd.read_csv('data/rev-engagement.csv').drop('Unnamed: 0',axis=1)"
   ]
  },
  {
   "cell_type": "markdown",
   "metadata": {
    "colab_type": "text",
    "id": "WwobvTtyckqJ"
   },
   "source": [
    "We will begind to explore the relationships of the variables with the average difference. We would first define a helper function to help up compute the mean average difference for every category of our variables : "
   ]
  },
  {
   "cell_type": "code",
   "execution_count": null,
   "metadata": {
    "colab": {},
    "colab_type": "code",
    "id": "PNJkuZQbA9mX"
   },
   "outputs": [],
   "source": [
    "# compute the mean of a column\n",
    "def mean_col(df, col, new_col):\n",
    "    df[new_col] = df[col].mean()\n",
    "    return df"
   ]
  },
  {
   "cell_type": "markdown",
   "metadata": {
    "colab_type": "text",
    "id": "EFPXITBbc5em"
   },
   "source": [
    "Afterward, we'll explore how the different countries affect the mean difference in transactions :"
   ]
  },
  {
   "cell_type": "code",
   "execution_count": null,
   "metadata": {
    "colab": {
     "base_uri": "https://localhost:8080/",
     "height": 356
    },
    "colab_type": "code",
    "id": "Q9laeHAmWoME",
    "outputId": "9a877321-b789-497d-bf46-b94f08dc28bb"
   },
   "outputs": [
    {
     "data": {
      "text/plain": [
       "<matplotlib.axes._subplots.AxesSubplot at 0x7f98dda93550>"
      ]
     },
     "execution_count": 63,
     "metadata": {
      "tags": []
     },
     "output_type": "execute_result"
    },
    {
     "data": {
      "image/png": "[encoded data removed]",
      "text/plain": [
       "<Figure size 1080x360 with 1 Axes>"
      ]
     },
     "metadata": {
      "tags": []
     },
     "output_type": "display_data"
    }
   ],
   "source": [
    "# computing the mean difference for all the countries\n",
    "countries = engagement.groupby('country').apply(mean_col,'avg_diff','mean_diff')[['country','mean_diff']].copy().drop_duplicates()\n",
    "\n",
    "# a bar plot of the mean difference in each country\n",
    "countries.plot.bar(x='country',y='mean_diff',figsize=(15,5),grid=True)"
   ]
  },
  {
   "cell_type": "markdown",
   "metadata": {
    "colab_type": "text",
    "id": "_oAXd26XdXd7"
   },
   "source": [
    "We observe that all countries have a superior mean difference to zero, but only a few of them have an average of one more transaction after each notification (mean difference superior to 1), which means some countries got a far superior engagement than other countries."
   ]
  },
  {
   "cell_type": "markdown",
   "metadata": {
    "colab_type": "text",
    "id": "GmDH_WHSdtYj"
   },
   "source": [
    "An exploration of the age variable shows the following :"
   ]
  },
  {
   "cell_type": "code",
   "execution_count": null,
   "metadata": {
    "colab": {
     "base_uri": "https://localhost:8080/",
     "height": 377
    },
    "colab_type": "code",
    "id": "0GgJgaI3dPyd",
    "outputId": "dec25c85-a270-46be-cfa9-14e569dbaf8e"
   },
   "outputs": [
    {
     "data": {
      "text/plain": [
       "<matplotlib.axes._subplots.AxesSubplot at 0x7f98d2e8b160>"
      ]
     },
     "execution_count": 64,
     "metadata": {
      "tags": []
     },
     "output_type": "execute_result"
    },
    {
     "data": {
      "image/png": "[encoded data removed]",
      "text/plain": [
       "<Figure size 1080x360 with 1 Axes>"
      ]
     },
     "metadata": {
      "tags": []
     },
     "output_type": "display_data"
    }
   ],
   "source": [
    "# plotting the mean difference by age\n",
    "engagement.groupby('age').apply(mean_col,'avg_diff','mean_diff')[['age','mean_diff']].copy().drop_duplicates().plot.bar(x='age',y='mean_diff',figsize=(15,5),grid=True)"
   ]
  },
  {
   "cell_type": "markdown",
   "metadata": {
    "colab_type": "text",
    "id": "SAJUTjtGeHaI"
   },
   "source": [
    "While we observe that none of the age groups have a mean difference superior to one additional transaction after a notification, we also observe that the elderly are much less engaged than other age groups, while the most engaged users are the ones between 27 and 36 years. It also appears that no age group got a negative mean difference (less transactions after a notification)."
   ]
  },
  {
   "cell_type": "markdown",
   "metadata": {
    "colab_type": "text",
    "id": "vf7zmdV1fDyo"
   },
   "source": [
    "The following exploration would be with the crypto_unlocked variable, that shows whether the user unlocked the crypto on his account :"
   ]
  },
  {
   "cell_type": "code",
   "execution_count": null,
   "metadata": {
    "colab": {
     "base_uri": "https://localhost:8080/",
     "height": 402
    },
    "colab_type": "code",
    "id": "hDF4q1K8eB2X",
    "outputId": "dac66f50-cc40-4e46-f385-ca5239b86348"
   },
   "outputs": [
    {
     "data": {
      "text/plain": [
       "<matplotlib.axes._subplots.AxesSubplot at 0x7f98d2e80908>"
      ]
     },
     "execution_count": 65,
     "metadata": {
      "tags": []
     },
     "output_type": "execute_result"
    },
    {
     "data": {
      "image/png": "[encoded data removed]",
      "text/plain": [
       "<Figure size 1080x432 with 1 Axes>"
      ]
     },
     "metadata": {
      "tags": []
     },
     "output_type": "display_data"
    }
   ],
   "source": [
    "# plotting the crypto unlocking\n",
    "engagement.groupby('user_settings_crypto_unlocked').apply(mean_col,'avg_diff','mean_diff')[['user_settings_crypto_unlocked','mean_diff']].copy().drop_duplicates().plot.bar(x='user_settings_crypto_unlocked',y='mean_diff',figsize=(15,6),grid=True)"
   ]
  },
  {
   "cell_type": "markdown",
   "metadata": {
    "colab_type": "text",
    "id": "r9ih6sAkfeLr"
   },
   "source": [
    "We can clearly see that users that have unlocked crypto-money on their accounts have much more transactions after each notification they receive."
   ]
  },
  {
   "cell_type": "markdown",
   "metadata": {
    "colab_type": "text",
    "id": "fW6Fe2nbfxr4"
   },
   "source": [
    "The following analysis would be about the device brands used by users, with their correlation with the mean difference in transactions."
   ]
  },
  {
   "cell_type": "code",
   "execution_count": null,
   "metadata": {
    "colab": {
     "base_uri": "https://localhost:8080/",
     "height": 488
    },
    "colab_type": "code",
    "id": "XAcK9SxIfcbs",
    "outputId": "628ebaad-ad6e-414a-8c4a-5ef588faa990"
   },
   "outputs": [
    {
     "data": {
      "text/plain": [
       "<matplotlib.axes._subplots.AxesSubplot at 0x7f98e001eb00>"
      ]
     },
     "execution_count": 66,
     "metadata": {
      "tags": []
     },
     "output_type": "execute_result"
    },
    {
     "data": {
      "image/png": "[encoded data removed]",
      "text/plain": [
       "<Figure size 1080x504 with 1 Axes>"
      ]
     },
     "metadata": {
      "tags": []
     },
     "output_type": "display_data"
    }
   ],
   "source": [
    "# plotting the brands\n",
    "engagement.groupby('brand').apply(mean_col,'avg_diff','mean_diff')[['brand','mean_diff']].copy().drop_duplicates().plot.bar(x='brand',y='mean_diff',figsize=(15,7),grid=True)"
   ]
  },
  {
   "cell_type": "markdown",
   "metadata": {
    "colab_type": "text",
    "id": "T1wNWi1tgNwV"
   },
   "source": [
    "We can observe that while Apple user have slightly more transactions after each notification than Android users, the difference is subtle, and they both have less than one transaction on average after each notification."
   ]
  },
  {
   "cell_type": "markdown",
   "metadata": {
    "colab_type": "text",
    "id": "cgJk8VNxgrr6"
   },
   "source": [
    "The next analysis would be about the suscription plan of each user, and its effect on the number of transactions after each notifications :"
   ]
  },
  {
   "cell_type": "code",
   "execution_count": null,
   "metadata": {
    "colab": {
     "base_uri": "https://localhost:8080/",
     "height": 533
    },
    "colab_type": "code",
    "id": "j4k4hq8RgCgI",
    "outputId": "a661eb01-99eb-49e4-c46f-1e7ebdff93b6"
   },
   "outputs": [
    {
     "data": {
      "text/plain": [
       "<matplotlib.axes._subplots.AxesSubplot at 0x7f98e11098d0>"
      ]
     },
     "execution_count": 67,
     "metadata": {
      "tags": []
     },
     "output_type": "execute_result"
    },
    {
     "data": {
      "image/png": "[encoded data removed]",
      "text/plain": [
       "<Figure size 1080x504 with 1 Axes>"
      ]
     },
     "metadata": {
      "tags": []
     },
     "output_type": "display_data"
    }
   ],
   "source": [
    "# plotting the user suscription plan\n",
    "engagement.groupby('plan').apply(mean_col,'avg_diff','mean_diff')[['plan','mean_diff']].copy().drop_duplicates().plot.bar(x='plan',y='mean_diff',figsize=(15,7),grid=True)"
   ]
  },
  {
   "cell_type": "markdown",
   "metadata": {
    "colab_type": "text",
    "id": "Y4WvDMzEhDnn"
   },
   "source": [
    "We can clearly see that the plan has a significant effect on the average difference in transactions after notifications, as the **PREMIUM_FREE** offer shows that users with that plan are much sucesptible to have transactions after notifications, while other plans show more engagement from the users, especially on the **PREMIUM_OFFER** plan."
   ]
  },
  {
   "cell_type": "markdown",
   "metadata": {
    "colab_type": "text",
    "id": "OcaCGOgchnu-"
   },
   "source": [
    "We will next analyze the effect of the ancientness of the user on his difference in transactions after notifications :"
   ]
  },
  {
   "cell_type": "code",
   "execution_count": null,
   "metadata": {
    "colab": {
     "base_uri": "https://localhost:8080/",
     "height": 478
    },
    "colab_type": "code",
    "id": "xbpgXT_sg8Jt",
    "outputId": "a3069132-b850-4c1c-d9fb-6863f0ca5dd4"
   },
   "outputs": [
    {
     "data": {
      "text/plain": [
       "<matplotlib.axes._subplots.AxesSubplot at 0x7f98d6d45f60>"
      ]
     },
     "execution_count": 68,
     "metadata": {
      "tags": []
     },
     "output_type": "execute_result"
    },
    {
     "data": {
      "image/png": "[encoded data removed]",
      "text/plain": [
       "<Figure size 1080x504 with 1 Axes>"
      ]
     },
     "metadata": {
      "tags": []
     },
     "output_type": "display_data"
    }
   ],
   "source": [
    "# plotting the user ancientness\n",
    "engagement.groupby('ancientness').apply(mean_col,'avg_diff','mean_diff')[['ancientness','mean_diff']].copy().drop_duplicates().plot.bar(x='ancientness',y='mean_diff',figsize=(15,7),grid=True)"
   ]
  },
  {
   "cell_type": "markdown",
   "metadata": {
    "colab_type": "text",
    "id": "8LhEtNMkiLNn"
   },
   "source": [
    "We observe an increase in the number of transactions after notifications, for users with an ancientness between 22 and 18 months, that begins to go down sharply if the ancientness is less 16 months, which shows the significant effect of the ancientness on our variable."
   ]
  },
  {
   "cell_type": "markdown",
   "metadata": {
    "colab_type": "text",
    "id": "FJXLe4qBixhX"
   },
   "source": [
    "Our next analysis would be effect of the notification variables : "
   ]
  },
  {
   "cell_type": "code",
   "execution_count": null,
   "metadata": {
    "colab": {
     "base_uri": "https://localhost:8080/",
     "height": 466
    },
    "colab_type": "code",
    "id": "yrBnzpOzh6cv",
    "outputId": "a9217337-9d40-4935-ecaf-dcd376883fe8"
   },
   "outputs": [
    {
     "data": {
      "text/plain": [
       "<matplotlib.axes._subplots.AxesSubplot at 0x7f98e1119668>"
      ]
     },
     "execution_count": 69,
     "metadata": {
      "tags": []
     },
     "output_type": "execute_result"
    },
    {
     "data": {
      "image/png": "[encoded data removed]",
      "text/plain": [
       "<Figure size 1080x504 with 1 Axes>"
      ]
     },
     "metadata": {
      "tags": []
     },
     "output_type": "display_data"
    }
   ],
   "source": [
    "engagement.groupby('attributes_notifications_marketing_push').apply(mean_col,'avg_diff','mean_diff')[['attributes_notifications_marketing_push','mean_diff']].copy().drop_duplicates().plot.bar(x='attributes_notifications_marketing_push',y='mean_diff',figsize=(15,7),grid=True)"
   ]
  },
  {
   "cell_type": "code",
   "execution_count": null,
   "metadata": {
    "colab": {
     "base_uri": "https://localhost:8080/",
     "height": 466
    },
    "colab_type": "code",
    "id": "8gyfOIm7i6Rf",
    "outputId": "4b9f26b7-22db-498b-e0a8-a1c6a234ebb8"
   },
   "outputs": [
    {
     "data": {
      "text/plain": [
       "<matplotlib.axes._subplots.AxesSubplot at 0x7f98e35a88d0>"
      ]
     },
     "execution_count": 70,
     "metadata": {
      "tags": []
     },
     "output_type": "execute_result"
    },
    {
     "data": {
      "image/png": "[encoded data removed]",
      "text/plain": [
       "<Figure size 1080x504 with 1 Axes>"
      ]
     },
     "metadata": {
      "tags": []
     },
     "output_type": "display_data"
    }
   ],
   "source": [
    "engagement.groupby('attributes_notifications_marketing_email').apply(mean_col,'avg_diff','mean_diff')[['attributes_notifications_marketing_email','mean_diff']].copy().drop_duplicates().plot.bar(x='attributes_notifications_marketing_email',y='mean_diff',figsize=(15,7),grid=True)"
   ]
  },
  {
   "cell_type": "markdown",
   "metadata": {
    "colab_type": "text",
    "id": "zEBpLqFxi_Yc"
   },
   "source": [
    "Surprisingly, it appears that users who have not enabled notifications on their accounts, are much more suceptible to have transactions after a notification than the users who activated the notifications."
   ]
  },
  {
   "cell_type": "markdown",
   "metadata": {
    "colab_type": "text",
    "id": "KmTvCLLUje9L"
   },
   "source": [
    "After exploring the effect of the variables on the mean difference in transactions, we will now analyze the bivariate effect of the variables on it.\n",
    "\n",
    "We would begin with analysis on the effect of the countries and age groups on our variable :"
   ]
  },
  {
   "cell_type": "code",
   "execution_count": null,
   "metadata": {
    "colab": {
     "base_uri": "https://localhost:8080/",
     "height": 573
    },
    "colab_type": "code",
    "id": "u77cicmmi9de",
    "outputId": "3827091f-ab42-450d-99f7-c75ecb153f4c"
   },
   "outputs": [
    {
     "data": {
      "text/plain": [
       "<matplotlib.axes._subplots.AxesSubplot at 0x7f98e35257b8>"
      ]
     },
     "execution_count": 71,
     "metadata": {
      "tags": []
     },
     "output_type": "execute_result"
    },
    {
     "data": {
      "image/png": "[encoded data removed]",
      "text/plain": [
       "<Figure size 1440x648 with 1 Axes>"
      ]
     },
     "metadata": {
      "tags": []
     },
     "output_type": "display_data"
    }
   ],
   "source": [
    "# creating a cross table with the values of the average difference, depending on the country and age\n",
    "age_countries_ct = pd.crosstab(engagement.country,engagement.age,values=engagement['avg_diff'],margins=False,aggfunc='mean')\n",
    "\n",
    "# Setting up the data formats\n",
    "countries_final = engagement[['country']].merge(age_countries_ct,how='inner',on='country').drop_duplicates().fillna(0)\n",
    "\n",
    "# ploting the effect of age and countries on the mean difference\n",
    "countries_final.plot.bar(x='country',y=['18 - 27', '27 - 31', '31 - 36', '36 - 45', '45 - 53', '53 +'],figsize=(20,9),grid=True)"
   ]
  },
  {
   "cell_type": "markdown",
   "metadata": {
    "colab_type": "text",
    "id": "2TJ_bethwQRI"
   },
   "source": [
    "A few countries (on the left) appear to have some uniformity in the mean difference throughout their distribution of ages, while some in the right have big differences in engagement, with sharp increases or decreases depending on the country and the age group. The effect of the age and country appear significant on our variable."
   ]
  },
  {
   "cell_type": "markdown",
   "metadata": {
    "colab_type": "text",
    "id": "6BsnwmNexFMZ"
   },
   "source": [
    "The next analysis would be about the effect of crypto activation and countries on the mean difference :"
   ]
  },
  {
   "cell_type": "code",
   "execution_count": null,
   "metadata": {
    "colab": {
     "base_uri": "https://localhost:8080/",
     "height": 573
    },
    "colab_type": "code",
    "id": "sKyEyV10oGw2",
    "outputId": "830b3f3a-4d0f-46df-82fb-9dcf8769bedf"
   },
   "outputs": [
    {
     "data": {
      "text/plain": [
       "<matplotlib.axes._subplots.AxesSubplot at 0x7f98e34f9b38>"
      ]
     },
     "execution_count": 72,
     "metadata": {
      "tags": []
     },
     "output_type": "execute_result"
    },
    {
     "data": {
      "image/png": "[encoded data removed]",
      "text/plain": [
       "<Figure size 1440x648 with 1 Axes>"
      ]
     },
     "metadata": {
      "tags": []
     },
     "output_type": "display_data"
    }
   ],
   "source": [
    "# creating a cross table with the values of the average difference, depending on the country and crypto activation\n",
    "country_crypto_ct = pd.crosstab(engagement.country,engagement.user_settings_crypto_unlocked,values=engagement['avg_diff'],margins=False,aggfunc='mean')\n",
    "\n",
    "# Setting up the data formats\n",
    "countries_crypto = engagement[['country']].merge(country_crypto_ct,how='inner',on='country').drop_duplicates().fillna(0).reset_index()\n",
    "\n",
    "# plotting the effect of countries and crypto on the mean difference\n",
    "countries_crypto.plot.bar(x='country',y=[0,1],figsize=(20,9),grid=True)"
   ]
  },
  {
   "cell_type": "markdown",
   "metadata": {
    "colab_type": "text",
    "id": "9Cx-sfD-xoyY"
   },
   "source": [
    "It appears clearly that in all countries, users who have activated crypto-money on their accounts make much more transactions after a notifications than the one who didn't, with only a few exceptions."
   ]
  },
  {
   "cell_type": "markdown",
   "metadata": {
    "colab_type": "text",
    "id": "kQRlNEHhyDls"
   },
   "source": [
    "The next analysis would be about the effect of the plan suscription of the user and his ancientness, on the mean difference :"
   ]
  },
  {
   "cell_type": "code",
   "execution_count": null,
   "metadata": {
    "colab": {
     "base_uri": "https://localhost:8080/",
     "height": 587
    },
    "colab_type": "code",
    "id": "2jXtLodIxjXn",
    "outputId": "b3a90a17-352f-4713-9e19-3b429e45ff58"
   },
   "outputs": [
    {
     "data": {
      "text/plain": [
       "<matplotlib.axes._subplots.AxesSubplot at 0x7f98e30c0048>"
      ]
     },
     "execution_count": 73,
     "metadata": {
      "tags": []
     },
     "output_type": "execute_result"
    },
    {
     "data": {
      "image/png": "[encoded data removed]",
      "text/plain": [
       "<Figure size 1440x648 with 1 Axes>"
      ]
     },
     "metadata": {
      "tags": []
     },
     "output_type": "display_data"
    }
   ],
   "source": [
    "# creating a cross table with the values of the average difference, depending on the ancientness and suscription plan\n",
    "ancient_plan_ct = pd.crosstab(engagement.ancientness,engagement.plan,values=engagement['avg_diff'],margins=False,aggfunc='mean')\n",
    "\n",
    "# setting up the data\n",
    "ancient_plan = engagement[['ancientness']].merge(ancient_plan_ct,how='inner',on='ancientness').drop_duplicates().reset_index()\n",
    "\n",
    "# plotting ancientness and user plan and their effect on the mean difference in transactions\n",
    "ancient_plan.plot.bar(x='ancientness',y=['METAL','PREMIUM','METAL_FREE','PREMIUM_FREE','PREMIUM_OFFER','STANDARD'],figsize=(20,9),grid=True)"
   ]
  },
  {
   "cell_type": "markdown",
   "metadata": {
    "colab_type": "text",
    "id": "L3dqNPk7zHMJ"
   },
   "source": [
    "The mean difference in transactions appear to be consistently on a decrease in all ancientness categories in the **PREMIUM_FREE** plan, which show its effect on user engagement. The mean difference also  differs quite a bit in each plan, depending on the amount of ancientness."
   ]
  },
  {
   "cell_type": "markdown",
   "metadata": {
    "colab_type": "text",
    "id": "bq7ima1Hzho-"
   },
   "source": [
    "The previous analysis shows the effects of our variables on the mean difference in transactions before and after a notification.\n",
    "\n",
    "In the next part, we would attempt to set an exact metric for user engagement."
   ]
  },
  {
   "cell_type": "markdown",
   "metadata": {
    "colab_type": "text",
    "id": "J135VMy_14U0"
   },
   "source": [
    "##### <a name=\"IV\">**IV - User Engagement Metric**</a>\n",
    "In this phase, we will set up an exact engagement metric, and add it to our dataset for each user."
   ]
  },
  {
   "cell_type": "markdown",
   "metadata": {
    "colab_type": "text",
    "id": "ChElujpX2lrK"
   },
   "source": [
    "We will define the engagement metric using the mean difference in transactions 7 days before a notification and 7 days after a notification, by considering each user that has, on average, less than an additional transaction after the notification than before it, as unengaged.\n",
    "\n",
    "That is in the goals of classifying users depending on their engagement, as the ones that cannot consistently make at least one additional transaction after a notification can be considered as unengaged and in need for engagement procedures."
   ]
  },
  {
   "cell_type": "markdown",
   "metadata": {
    "colab_type": "text",
    "id": "Wd2NHFcF3Juz"
   },
   "source": [
    "We will set up as follow the engagement metric in our dataset.\n",
    "\n",
    "We would begin by defining a threshold of engagement in the mean difference :"
   ]
  },
  {
   "cell_type": "code",
   "execution_count": null,
   "metadata": {
    "colab": {},
    "colab_type": "code",
    "id": "ZTVw2l3Uy8ux"
   },
   "outputs": [],
   "source": [
    "# setting up the engagement threshold\n",
    "engagement_threshold = 1"
   ]
  },
  {
   "cell_type": "markdown",
   "metadata": {
    "colab_type": "text",
    "id": "OLiWgQmj3k9G"
   },
   "source": [
    "Our next step is to create a helper function to encode our mean difference into two categories : engaged (1) and unengaged (0), with one hot encoding :"
   ]
  },
  {
   "cell_type": "code",
   "execution_count": null,
   "metadata": {
    "colab": {},
    "colab_type": "code",
    "id": "DyICYYbMz6NT"
   },
   "outputs": [],
   "source": [
    "# one hot encoding the engagement metric\n",
    "def y_one_hot_encode(row):\n",
    "  if row['avg_diff'] >= engagement_threshold:\n",
    "    val = 1\n",
    "  else:\n",
    "    val = 0\n",
    "  return val"
   ]
  },
  {
   "cell_type": "markdown",
   "metadata": {
    "colab_type": "text",
    "id": "0F-j7rpp34Dk"
   },
   "source": [
    "We will set afterward our engagement metric and add it to our dataset :"
   ]
  },
  {
   "cell_type": "code",
   "execution_count": null,
   "metadata": {
    "colab": {},
    "colab_type": "code",
    "id": "HOIJdEo33yLT"
   },
   "outputs": [],
   "source": [
    "# Adding our engagement metric into the 'y' column\n",
    "engagement['y']= engagement.apply(y_one_hot_encode,axis=1)\n",
    "\n",
    "# dropping out the average difference column\n",
    "engagement = engagement.drop('avg_diff',axis=1)"
   ]
  },
  {
   "cell_type": "markdown",
   "metadata": {
    "colab_type": "text",
    "id": "GjQ7Tydz5Cbe"
   },
   "source": [
    "The next phase would be making simple analytics on the engagement metric."
   ]
  },
  {
   "cell_type": "markdown",
   "metadata": {
    "colab_type": "text",
    "id": "dTKfiL7C5JO5"
   },
   "source": [
    "##### <a name=\"V\">**V - Engagement analysis**</a>\n",
    "In this phase, we will analyze the effect of the various variables on our engagement metric.\n"
   ]
  },
  {
   "cell_type": "markdown",
   "metadata": {
    "colab_type": "text",
    "id": "llPE8Ojl8M0U"
   },
   "source": [
    "As a start, we will define a helper function that will help us create stacked bars and visualizations of our data :"
   ]
  },
  {
   "cell_type": "code",
   "execution_count": null,
   "metadata": {
    "colab": {},
    "colab_type": "code",
    "id": "A3-bOo014wpt"
   },
   "outputs": [],
   "source": [
    "# preparing data for stacked bars format\n",
    "def stack_cols(df, col, new_col,two_new_col):\n",
    "    df[new_col] = df[df['y']==0].shape[0] / df.shape[0]\n",
    "    df[two_new_col] = df[df['y']==1].shape[0] / df.shape[0]\n",
    "    return df"
   ]
  },
  {
   "cell_type": "markdown",
   "metadata": {
    "colab_type": "text",
    "id": "cs0ijib18ZBu"
   },
   "source": [
    "We will now be creating a visualization of the effect of countries on engagement :\n"
   ]
  },
  {
   "cell_type": "code",
   "execution_count": null,
   "metadata": {
    "colab": {
     "base_uri": "https://localhost:8080/",
     "height": 573
    },
    "colab_type": "code",
    "id": "NY6cAB2y79AO",
    "outputId": "a822b8d1-427c-403f-9153-9bcaf90355e8"
   },
   "outputs": [
    {
     "data": {
      "text/plain": [
       "<matplotlib.axes._subplots.AxesSubplot at 0x7f98dda69b38>"
      ]
     },
     "execution_count": 78,
     "metadata": {
      "tags": []
     },
     "output_type": "execute_result"
    },
    {
     "data": {
      "image/png": "[encoded data removed]",
      "text/plain": [
       "<Figure size 1440x648 with 1 Axes>"
      ]
     },
     "metadata": {
      "tags": []
     },
     "output_type": "display_data"
    }
   ],
   "source": [
    "# creating a countries dataset with percentages of engagement\n",
    "countries = engagement.groupby('country').apply(stack_cols,'y','y_0','y_1')[['country','y_1','y_0']].drop_duplicates().reset_index()[['country','y_1','y_0']]\n",
    "\n",
    "# plotting the engagement depending on countries\n",
    "countries.plot.bar(x='country' ,stacked=True,figsize=(20,9),grid=True)"
   ]
  },
  {
   "cell_type": "markdown",
   "metadata": {
    "colab_type": "text",
    "id": "U29gdDhK89Vj"
   },
   "source": [
    "We apparently see that the amount of engaged users (the blue bars) varies greatly depending on the country of the user."
   ]
  },
  {
   "cell_type": "markdown",
   "metadata": {
    "colab_type": "text",
    "id": "W2ugVuzW9QJV"
   },
   "source": [
    "We will now analyze the amount of engaged users depending on the age of the users :"
   ]
  },
  {
   "cell_type": "code",
   "execution_count": null,
   "metadata": {
    "colab": {
     "base_uri": "https://localhost:8080/",
     "height": 593
    },
    "colab_type": "code",
    "id": "8zEKC1tv83YM",
    "outputId": "079fb3d9-3364-47b1-c1f5-c7d61397387f"
   },
   "outputs": [
    {
     "data": {
      "text/plain": [
       "<matplotlib.axes._subplots.AxesSubplot at 0x7f98e2e66240>"
      ]
     },
     "execution_count": 79,
     "metadata": {
      "tags": []
     },
     "output_type": "execute_result"
    },
    {
     "data": {
      "image/png": "[encoded data removed]",
      "text/plain": [
       "<Figure size 1440x648 with 1 Axes>"
      ]
     },
     "metadata": {
      "tags": []
     },
     "output_type": "display_data"
    }
   ],
   "source": [
    "# creating an age group dataset with percentages of engagement\n",
    "ages = engagement.groupby('age').apply(stack_cols,'y','y_0','y_1')[['age','y_1','y_0']].drop_duplicates().reset_index()[['age','y_1','y_0']]\n",
    "\n",
    "# plotting the engagement depending on age groups\n",
    "ages.plot.bar(x='age' ,stacked=True,figsize=(20,9),grid=True)"
   ]
  },
  {
   "cell_type": "markdown",
   "metadata": {
    "colab_type": "text",
    "id": "bUEnrSWs9hbF"
   },
   "source": [
    "We can apparently see that the amount of engaged users varies slightly, depending on the age of the users.\n",
    "\n",
    "Next is an analysis of the device brands used by users :"
   ]
  },
  {
   "cell_type": "code",
   "execution_count": null,
   "metadata": {
    "colab": {
     "base_uri": "https://localhost:8080/",
     "height": 597
    },
    "colab_type": "code",
    "id": "OZmACkUa9cxq",
    "outputId": "481f9e4c-9b9d-4f00-e1b1-8a2a5446905c"
   },
   "outputs": [
    {
     "data": {
      "text/plain": [
       "<matplotlib.axes._subplots.AxesSubplot at 0x7f98e256aba8>"
      ]
     },
     "execution_count": 80,
     "metadata": {
      "tags": []
     },
     "output_type": "execute_result"
    },
    {
     "data": {
      "image/png": "[encoded data removed]",
      "text/plain": [
       "<Figure size 1440x648 with 1 Axes>"
      ]
     },
     "metadata": {
      "tags": []
     },
     "output_type": "display_data"
    }
   ],
   "source": [
    "# creating a brand dataset with percentages of engagement\n",
    "brands = engagement.groupby('brand').apply(stack_cols,'y','y_0','y_1')[['brand','y_1','y_0']].drop_duplicates().reset_index()[['brand','y_1','y_0']]\n",
    "\n",
    "# plotting the engagement depending on brands\n",
    "brands.plot.bar(x='brand' ,stacked=True,figsize=(20,9),grid=True)"
   ]
  },
  {
   "cell_type": "markdown",
   "metadata": {
    "colab_type": "text",
    "id": "7wzCYIF597A_"
   },
   "source": [
    "It appears that engaged users are distributed equally between the device brands of the users.\n",
    "\n",
    "Following this is an analysis of the user engagement depending on the plan of the user :"
   ]
  },
  {
   "cell_type": "code",
   "execution_count": null,
   "metadata": {
    "colab": {
     "base_uri": "https://localhost:8080/",
     "height": 642
    },
    "colab_type": "code",
    "id": "s2UQHgbQ92Nl",
    "outputId": "563f5a74-597c-45fb-f7fd-b6417f9850b6"
   },
   "outputs": [
    {
     "data": {
      "text/plain": [
       "<matplotlib.axes._subplots.AxesSubplot at 0x7f98e251cef0>"
      ]
     },
     "execution_count": 81,
     "metadata": {
      "tags": []
     },
     "output_type": "execute_result"
    },
    {
     "data": {
      "image/png": "[encoded data removed]",
      "text/plain": [
       "<Figure size 1440x648 with 1 Axes>"
      ]
     },
     "metadata": {
      "tags": []
     },
     "output_type": "display_data"
    }
   ],
   "source": [
    "# creating a user plan dataset with percentages of engagement\n",
    "plans = engagement.groupby('plan').apply(stack_cols,'y','y_0','y_1')[['plan','y_1','y_0']].drop_duplicates().reset_index()[['plan','y_1','y_0']]\n",
    "\n",
    "# plotting the engagement depending on user plan\n",
    "plans.plot.bar(x='plan' ,stacked=True,figsize=(20,9),grid=True)"
   ]
  },
  {
   "cell_type": "markdown",
   "metadata": {
    "colab_type": "text",
    "id": "CBR30u0b-QZt"
   },
   "source": [
    "We can here observe sharp increases and decreases in engagement, depending on the plan of the user, with **PREMIUM_FREE** having the least engaged users, and **METAL_FREE** and **PREMIUM_OFFER** having the most engaged users.\n",
    "\n",
    "The next analysis would be the amount of engaged users depending on their ancientness :"
   ]
  },
  {
   "cell_type": "code",
   "execution_count": null,
   "metadata": {
    "colab": {
     "base_uri": "https://localhost:8080/",
     "height": 587
    },
    "colab_type": "code",
    "id": "9xR6sD1M-JZB",
    "outputId": "6ae5e0bc-8d33-4d39-bdb7-4a5ab84f2fae"
   },
   "outputs": [
    {
     "data": {
      "text/plain": [
       "<matplotlib.axes._subplots.AxesSubplot at 0x7f98e253c358>"
      ]
     },
     "execution_count": 82,
     "metadata": {
      "tags": []
     },
     "output_type": "execute_result"
    },
    {
     "data": {
      "image/png": "[encoded data removed]",
      "text/plain": [
       "<Figure size 1440x648 with 1 Axes>"
      ]
     },
     "metadata": {
      "tags": []
     },
     "output_type": "display_data"
    }
   ],
   "source": [
    "# creating an ancientness dataset with percentages of engagement\n",
    "ancientness = engagement.groupby('ancientness').apply(stack_cols,'y','y_0','y_1')[['ancientness','y_1','y_0']].drop_duplicates().reset_index()[['ancientness','y_1','y_0']]\n",
    "\n",
    "# plotting the engagement depending on ancientness\n",
    "ancientness.plot.bar(x='ancientness' ,stacked=True,figsize=(20,9),grid=True)"
   ]
  },
  {
   "cell_type": "markdown",
   "metadata": {
    "colab_type": "text",
    "id": "XJT2MlyD_VXX"
   },
   "source": [
    "The user engagement varies slightly depending on his ancientness, with the most engaged users being those having between 18 and 22 month of ancientness. \n",
    "\n",
    "Our next analysis is the effect of activating notifications on the user engagement :"
   ]
  },
  {
   "cell_type": "code",
   "execution_count": null,
   "metadata": {
    "colab": {
     "base_uri": "https://localhost:8080/",
     "height": 575
    },
    "colab_type": "code",
    "id": "ngLgCXwI_FiC",
    "outputId": "952dd1ab-d890-4022-e47f-bc3503724882"
   },
   "outputs": [
    {
     "data": {
      "text/plain": [
       "<matplotlib.axes._subplots.AxesSubplot at 0x7f98e2421ba8>"
      ]
     },
     "execution_count": 83,
     "metadata": {
      "tags": []
     },
     "output_type": "execute_result"
    },
    {
     "data": {
      "image/png": "[encoded data removed]",
      "text/plain": [
       "<Figure size 1440x648 with 1 Axes>"
      ]
     },
     "metadata": {
      "tags": []
     },
     "output_type": "display_data"
    }
   ],
   "source": [
    "# creating a notification dataset with percentages of engagement\n",
    "push = engagement.groupby('attributes_notifications_marketing_push').apply(stack_cols,'y','y_0','y_1')[['attributes_notifications_marketing_push','y_1','y_0']].drop_duplicates().reset_index()[['attributes_notifications_marketing_push','y_1','y_0']]\n",
    "\n",
    "# plotting the engagement depending on notifications\n",
    "push.plot.bar(x='attributes_notifications_marketing_push' ,stacked=True,figsize=(20,9),grid=True)"
   ]
  },
  {
   "cell_type": "code",
   "execution_count": null,
   "metadata": {
    "colab": {
     "base_uri": "https://localhost:8080/",
     "height": 575
    },
    "colab_type": "code",
    "id": "iRzT619A_t1t",
    "outputId": "3ec13d9a-2a68-4517-c1aa-d0effe7c2feb"
   },
   "outputs": [
    {
     "data": {
      "text/plain": [
       "<matplotlib.axes._subplots.AxesSubplot at 0x7f98e2399278>"
      ]
     },
     "execution_count": 84,
     "metadata": {
      "tags": []
     },
     "output_type": "execute_result"
    },
    {
     "data": {
      "image/png": "[encoded data removed]",
      "text/plain": [
       "<Figure size 1440x648 with 1 Axes>"
      ]
     },
     "metadata": {
      "tags": []
     },
     "output_type": "display_data"
    }
   ],
   "source": [
    "# creating a notification dataset with percentages of engagement\n",
    "email = engagement.groupby('attributes_notifications_marketing_email').apply(stack_cols,'y','y_0','y_1')[['attributes_notifications_marketing_email','y_1','y_0']].drop_duplicates().reset_index()[['attributes_notifications_marketing_email','y_1','y_0']]\n",
    "\n",
    "# plotting the engagement depending on notifications\n",
    "email.plot.bar(x='attributes_notifications_marketing_email' ,stacked=True,figsize=(20,9),grid=True)"
   ]
  },
  {
   "cell_type": "markdown",
   "metadata": {
    "colab_type": "text",
    "id": "cYX3tnlr_1rc"
   },
   "source": [
    "There appears to be a slight effect of notifications on user engagement.\n",
    "\n",
    "The next analysis would be about the effect of crypto activation on user engagement :"
   ]
  },
  {
   "cell_type": "code",
   "execution_count": null,
   "metadata": {
    "colab": {
     "base_uri": "https://localhost:8080/",
     "height": 565
    },
    "colab_type": "code",
    "id": "3pXpHlLAD3I9",
    "outputId": "b2b82c00-57d9-4f63-86ce-904770871e9d"
   },
   "outputs": [
    {
     "data": {
      "text/plain": [
       "<matplotlib.axes._subplots.AxesSubplot at 0x7f98e231b2e8>"
      ]
     },
     "execution_count": 85,
     "metadata": {
      "tags": []
     },
     "output_type": "execute_result"
    },
    {
     "data": {
      "image/png": "[encoded data removed]",
      "text/plain": [
       "<Figure size 1440x648 with 1 Axes>"
      ]
     },
     "metadata": {
      "tags": []
     },
     "output_type": "display_data"
    }
   ],
   "source": [
    "# creating a crypto dataset with percentages of engagement\n",
    "crypto = engagement.groupby('user_settings_crypto_unlocked').apply(stack_cols,'y','y_0','y_1')[['user_settings_crypto_unlocked','y_1','y_0']].drop_duplicates().reset_index()[['user_settings_crypto_unlocked','y_1','y_0']]\n",
    "\n",
    "# plotting the engagement depending on crypto activation\n",
    "crypto.plot.bar(x='user_settings_crypto_unlocked' ,stacked=True,figsize=(20,9),grid=True)"
   ]
  },
  {
   "cell_type": "markdown",
   "metadata": {
    "colab_type": "text",
    "id": "E45YwW9uARpF"
   },
   "source": [
    "We can see that users that unlocked crypto are much more likely to be engaged.\n",
    "\n",
    "After this study, it is observable that our engagement metric enables us to classify our users depending on their amount of engagement."
   ]
  },
  {
   "cell_type": "markdown",
   "metadata": {
    "colab_type": "text",
    "id": "BT2JDsEzAvo8"
   },
   "source": [
    "\n",
    "---\n",
    "#### <a name=\"3\">**Part 3 :** *Build an engagement classification model*</a>"
   ]
  },
  {
   "cell_type": "markdown",
   "metadata": {
    "colab_type": "text",
    "id": "i0p8-pFTELEY"
   },
   "source": [
    "We will begin by preparing data for usage in models, and then we will try various machine learning  models to find the most effective and practical one for our classification goals."
   ]
  },
  {
   "cell_type": "markdown",
   "metadata": {
    "colab_type": "text",
    "id": "IaewJT9RBNNM"
   },
   "source": [
    "##### <a name=\"data\">**I - Data preparation**</a>\n",
    "\n",
    "We will begin to prepare our data for usage in a classification model."
   ]
  },
  {
   "cell_type": "markdown",
   "metadata": {
    "colab_type": "text",
    "id": "bf2JxVn6BasN"
   },
   "source": [
    "The dataset we'll be using is the engagement dataset we have prepared through the precedent question. A quick peak through it shows the following :"
   ]
  },
  {
   "cell_type": "code",
   "execution_count": null,
   "metadata": {
    "colab": {
     "base_uri": "https://localhost:8080/",
     "height": 400
    },
    "colab_type": "code",
    "id": "pnr3___x_ya1",
    "outputId": "1a922a77-4baf-43b9-df4e-7b653e34b320"
   },
   "outputs": [
    {
     "data": {
      "text/html": [
       "<div>\n",
       "<style scoped>\n",
       "    .dataframe tbody tr th:only-of-type {\n",
       "        vertical-align: middle;\n",
       "    }\n",
       "\n",
       "    .dataframe tbody tr th {\n",
       "        vertical-align: top;\n",
       "    }\n",
       "\n",
       "    .dataframe thead th {\n",
       "        text-align: right;\n",
       "    }\n",
       "</style>\n",
       "<table border=\"1\" class=\"dataframe\">\n",
       "  <thead>\n",
       "    <tr style=\"text-align: right;\">\n",
       "      <th></th>\n",
       "      <th>user_id</th>\n",
       "      <th>country</th>\n",
       "      <th>age</th>\n",
       "      <th>user_settings_crypto_unlocked</th>\n",
       "      <th>plan</th>\n",
       "      <th>attributes_notifications_marketing_push</th>\n",
       "      <th>attributes_notifications_marketing_email</th>\n",
       "      <th>brand</th>\n",
       "      <th>ancientness</th>\n",
       "      <th>y</th>\n",
       "    </tr>\n",
       "  </thead>\n",
       "  <tbody>\n",
       "    <tr>\n",
       "      <th>0</th>\n",
       "      <td>user_0</td>\n",
       "      <td>PL</td>\n",
       "      <td>31 - 36</td>\n",
       "      <td>1</td>\n",
       "      <td>STANDARD</td>\n",
       "      <td>1.0</td>\n",
       "      <td>1.0</td>\n",
       "      <td>Apple</td>\n",
       "      <td>24+</td>\n",
       "      <td>1</td>\n",
       "    </tr>\n",
       "    <tr>\n",
       "      <th>1</th>\n",
       "      <td>user_1</td>\n",
       "      <td>GB</td>\n",
       "      <td>45 - 53</td>\n",
       "      <td>0</td>\n",
       "      <td>STANDARD</td>\n",
       "      <td>1.0</td>\n",
       "      <td>1.0</td>\n",
       "      <td>Apple</td>\n",
       "      <td>24+</td>\n",
       "      <td>1</td>\n",
       "    </tr>\n",
       "    <tr>\n",
       "      <th>2</th>\n",
       "      <td>user_5</td>\n",
       "      <td>LT</td>\n",
       "      <td>27 - 31</td>\n",
       "      <td>1</td>\n",
       "      <td>STANDARD</td>\n",
       "      <td>1.0</td>\n",
       "      <td>1.0</td>\n",
       "      <td>Apple</td>\n",
       "      <td>24+</td>\n",
       "      <td>0</td>\n",
       "    </tr>\n",
       "    <tr>\n",
       "      <th>3</th>\n",
       "      <td>user_6</td>\n",
       "      <td>GB</td>\n",
       "      <td>36 - 45</td>\n",
       "      <td>0</td>\n",
       "      <td>STANDARD</td>\n",
       "      <td>1.0</td>\n",
       "      <td>1.0</td>\n",
       "      <td>Apple</td>\n",
       "      <td>24+</td>\n",
       "      <td>0</td>\n",
       "    </tr>\n",
       "    <tr>\n",
       "      <th>4</th>\n",
       "      <td>user_7</td>\n",
       "      <td>RO</td>\n",
       "      <td>31 - 36</td>\n",
       "      <td>0</td>\n",
       "      <td>STANDARD</td>\n",
       "      <td>1.0</td>\n",
       "      <td>1.0</td>\n",
       "      <td>Apple</td>\n",
       "      <td>24+</td>\n",
       "      <td>0</td>\n",
       "    </tr>\n",
       "  </tbody>\n",
       "</table>\n",
       "</div>"
      ],
      "text/plain": [
       "  user_id country      age  ...  brand ancientness  y\n",
       "0  user_0      PL  31 - 36  ...  Apple         24+  1\n",
       "1  user_1      GB  45 - 53  ...  Apple         24+  1\n",
       "2  user_5      LT  27 - 31  ...  Apple         24+  0\n",
       "3  user_6      GB  36 - 45  ...  Apple         24+  0\n",
       "4  user_7      RO  31 - 36  ...  Apple         24+  0\n",
       "\n",
       "[5 rows x 10 columns]"
      ]
     },
     "execution_count": 86,
     "metadata": {
      "tags": []
     },
     "output_type": "execute_result"
    }
   ],
   "source": [
    "engagement.head()"
   ]
  },
  {
   "cell_type": "markdown",
   "metadata": {
    "colab_type": "text",
    "id": "FtQF1q3ZBttS"
   },
   "source": [
    "We will begin by studying the correlations between variables :"
   ]
  },
  {
   "cell_type": "code",
   "execution_count": null,
   "metadata": {
    "colab": {
     "base_uri": "https://localhost:8080/",
     "height": 195
    },
    "colab_type": "code",
    "id": "zj_SWoLHACmk",
    "outputId": "561e1633-2ac0-4fbb-9fd9-2d91219c22ae"
   },
   "outputs": [
    {
     "data": {
      "text/html": [
       "<div>\n",
       "<style scoped>\n",
       "    .dataframe tbody tr th:only-of-type {\n",
       "        vertical-align: middle;\n",
       "    }\n",
       "\n",
       "    .dataframe tbody tr th {\n",
       "        vertical-align: top;\n",
       "    }\n",
       "\n",
       "    .dataframe thead th {\n",
       "        text-align: right;\n",
       "    }\n",
       "</style>\n",
       "<table border=\"1\" class=\"dataframe\">\n",
       "  <thead>\n",
       "    <tr style=\"text-align: right;\">\n",
       "      <th></th>\n",
       "      <th>user_settings_crypto_unlocked</th>\n",
       "      <th>attributes_notifications_marketing_push</th>\n",
       "      <th>attributes_notifications_marketing_email</th>\n",
       "      <th>y</th>\n",
       "    </tr>\n",
       "  </thead>\n",
       "  <tbody>\n",
       "    <tr>\n",
       "      <th>user_settings_crypto_unlocked</th>\n",
       "      <td>1.000000</td>\n",
       "      <td>-0.029376</td>\n",
       "      <td>-0.012777</td>\n",
       "      <td>0.068067</td>\n",
       "    </tr>\n",
       "    <tr>\n",
       "      <th>attributes_notifications_marketing_push</th>\n",
       "      <td>-0.029376</td>\n",
       "      <td>1.000000</td>\n",
       "      <td>0.471580</td>\n",
       "      <td>-0.008361</td>\n",
       "    </tr>\n",
       "    <tr>\n",
       "      <th>attributes_notifications_marketing_email</th>\n",
       "      <td>-0.012777</td>\n",
       "      <td>0.471580</td>\n",
       "      <td>1.000000</td>\n",
       "      <td>0.007806</td>\n",
       "    </tr>\n",
       "    <tr>\n",
       "      <th>y</th>\n",
       "      <td>0.068067</td>\n",
       "      <td>-0.008361</td>\n",
       "      <td>0.007806</td>\n",
       "      <td>1.000000</td>\n",
       "    </tr>\n",
       "  </tbody>\n",
       "</table>\n",
       "</div>"
      ],
      "text/plain": [
       "                                          user_settings_crypto_unlocked  ...         y\n",
       "user_settings_crypto_unlocked                                  1.000000  ...  0.068067\n",
       "attributes_notifications_marketing_push                       -0.029376  ... -0.008361\n",
       "attributes_notifications_marketing_email                      -0.012777  ...  0.007806\n",
       "y                                                              0.068067  ...  1.000000\n",
       "\n",
       "[4 rows x 4 columns]"
      ]
     },
     "execution_count": 87,
     "metadata": {
      "tags": []
     },
     "output_type": "execute_result"
    }
   ],
   "source": [
    "# pearson correlations between variables\n",
    "engagement.corr(method='pearson')"
   ]
  },
  {
   "cell_type": "markdown",
   "metadata": {
    "colab_type": "text",
    "id": "5tCf7MVsB8Kw"
   },
   "source": [
    "There appears to be a high correlation between **attributes_notifications_marketing_push** and **attributes_notifications_marketing_email**. In order to avoid the overfitting of our model, we will be dropping **attributes_notifications_marketing_email** variable as follows :"
   ]
  },
  {
   "cell_type": "code",
   "execution_count": null,
   "metadata": {
    "colab": {},
    "colab_type": "code",
    "id": "bsW5P1BCB6PR"
   },
   "outputs": [],
   "source": [
    "# dropping notification_email variable\n",
    "engagement = engagement.drop('attributes_notifications_marketing_email',axis=1)"
   ]
  },
  {
   "cell_type": "markdown",
   "metadata": {
    "colab_type": "text",
    "id": "m8rNb56TDeZX"
   },
   "source": [
    "Next, we will start one hot encoding our variables in order to make them ready for usage in our coming model. \n",
    "\n",
    "We would start with one hot encoding all our variables :"
   ]
  },
  {
   "cell_type": "code",
   "execution_count": null,
   "metadata": {
    "colab": {},
    "colab_type": "code",
    "id": "rK-zYVpcBzFh"
   },
   "outputs": [],
   "source": [
    "# One hot encoding categorical varialbles\n",
    "one_hot_country = pd.get_dummies(engagement['country'])\n",
    "one_hot_ancientness = pd.get_dummies(engagement['ancientness'])\n",
    "one_hot_brand = pd.get_dummies(engagement['brand'])\n",
    "one_hot_age = pd.get_dummies(engagement['age'])\n",
    "one_hot_plan = pd.get_dummies(engagement['plan'])"
   ]
  },
  {
   "cell_type": "markdown",
   "metadata": {
    "colab_type": "text",
    "id": "_Pzd1GYyEs3L"
   },
   "source": [
    "Then drop their initial columns on our dataset :"
   ]
  },
  {
   "cell_type": "code",
   "execution_count": null,
   "metadata": {
    "colab": {},
    "colab_type": "code",
    "id": "A739RgOSDCcg"
   },
   "outputs": [],
   "source": [
    "# dropping categorical variables from engagement dataset\n",
    "engagement = engagement.drop('country', axis=1)\n",
    "engagement = engagement.drop('ancientness', axis=1)\n",
    "engagement = engagement.drop('brand', axis=1)\n",
    "engagement = engagement.drop('age', axis=1)\n",
    "engagement = engagement.drop('plan', axis=1)\n"
   ]
  },
  {
   "cell_type": "markdown",
   "metadata": {
    "colab_type": "text",
    "id": "_bjS45iuE9Fx"
   },
   "source": [
    "Afterward, we would join our one hot encoded variables with our engagement dataset :"
   ]
  },
  {
   "cell_type": "code",
   "execution_count": null,
   "metadata": {
    "colab": {},
    "colab_type": "code",
    "id": "uwoFc30CE7X9"
   },
   "outputs": [],
   "source": [
    "# Adding one hot encoded categorical variables\n",
    "engagement = engagement.join(one_hot_country)\n",
    "engagement = engagement.join(one_hot_ancientness)\n",
    "engagement = engagement.join(one_hot_brand)\n",
    "engagement = engagement.join(one_hot_age)\n",
    "engagement = engagement.join(one_hot_plan)"
   ]
  },
  {
   "cell_type": "markdown",
   "metadata": {
    "colab_type": "text",
    "id": "xy-SNocdFW_8"
   },
   "source": [
    "A peak at our dataset shows us the following :"
   ]
  },
  {
   "cell_type": "code",
   "execution_count": null,
   "metadata": {
    "colab": {
     "base_uri": "https://localhost:8080/",
     "height": 52
    },
    "colab_type": "code",
    "id": "AirE3wYVFy3A",
    "outputId": "bd53eebd-a6b7-4def-fb1f-f13513863f54"
   },
   "outputs": [
    {
     "name": "stdout",
     "output_type": "stream",
     "text": [
      "Number of users : 16855 user\n",
      "Each user defined by 58 variable\n"
     ]
    }
   ],
   "source": [
    "print(\"Number of users : {:1d} user\\nEach user defined by {:1d} variable\".format(engagement.shape[0],engagement.shape[1]))"
   ]
  },
  {
   "cell_type": "code",
   "execution_count": null,
   "metadata": {
    "colab": {
     "base_uri": "https://localhost:8080/",
     "height": 261
    },
    "colab_type": "code",
    "id": "lxjSZjgjFQMw",
    "outputId": "e3c9bd75-20e8-4592-9a22-c242259c4095"
   },
   "outputs": [
    {
     "data": {
      "text/html": [
       "<div>\n",
       "<style scoped>\n",
       "    .dataframe tbody tr th:only-of-type {\n",
       "        vertical-align: middle;\n",
       "    }\n",
       "\n",
       "    .dataframe tbody tr th {\n",
       "        vertical-align: top;\n",
       "    }\n",
       "\n",
       "    .dataframe thead th {\n",
       "        text-align: right;\n",
       "    }\n",
       "</style>\n",
       "<table border=\"1\" class=\"dataframe\">\n",
       "  <thead>\n",
       "    <tr style=\"text-align: right;\">\n",
       "      <th></th>\n",
       "      <th>user_id</th>\n",
       "      <th>user_settings_crypto_unlocked</th>\n",
       "      <th>attributes_notifications_marketing_push</th>\n",
       "      <th>y</th>\n",
       "      <th>AT</th>\n",
       "      <th>BE</th>\n",
       "      <th>BG</th>\n",
       "      <th>CH</th>\n",
       "      <th>CY</th>\n",
       "      <th>CZ</th>\n",
       "      <th>DE</th>\n",
       "      <th>DK</th>\n",
       "      <th>EE</th>\n",
       "      <th>ES</th>\n",
       "      <th>FI</th>\n",
       "      <th>FR</th>\n",
       "      <th>GB</th>\n",
       "      <th>GI</th>\n",
       "      <th>GR</th>\n",
       "      <th>HR</th>\n",
       "      <th>HU</th>\n",
       "      <th>IE</th>\n",
       "      <th>IS</th>\n",
       "      <th>IT</th>\n",
       "      <th>JE</th>\n",
       "      <th>LI</th>\n",
       "      <th>LT</th>\n",
       "      <th>LU</th>\n",
       "      <th>LV</th>\n",
       "      <th>MT</th>\n",
       "      <th>NL</th>\n",
       "      <th>NO</th>\n",
       "      <th>PL</th>\n",
       "      <th>PT</th>\n",
       "      <th>RO</th>\n",
       "      <th>SE</th>\n",
       "      <th>SI</th>\n",
       "      <th>SK</th>\n",
       "      <th>14-16</th>\n",
       "      <th>16-18</th>\n",
       "      <th>18-20</th>\n",
       "      <th>20-22</th>\n",
       "      <th>22-24</th>\n",
       "      <th>24+</th>\n",
       "      <th>Android</th>\n",
       "      <th>Apple</th>\n",
       "      <th>18 - 27</th>\n",
       "      <th>27 - 31</th>\n",
       "      <th>31 - 36</th>\n",
       "      <th>36 - 45</th>\n",
       "      <th>45 - 53</th>\n",
       "      <th>53 +</th>\n",
       "      <th>METAL</th>\n",
       "      <th>METAL_FREE</th>\n",
       "      <th>PREMIUM</th>\n",
       "      <th>PREMIUM_FREE</th>\n",
       "      <th>PREMIUM_OFFER</th>\n",
       "      <th>STANDARD</th>\n",
       "    </tr>\n",
       "  </thead>\n",
       "  <tbody>\n",
       "    <tr>\n",
       "      <th>0</th>\n",
       "      <td>user_0</td>\n",
       "      <td>1</td>\n",
       "      <td>1.0</td>\n",
       "      <td>1</td>\n",
       "      <td>0</td>\n",
       "      <td>0</td>\n",
       "      <td>0</td>\n",
       "      <td>0</td>\n",
       "      <td>0</td>\n",
       "      <td>0</td>\n",
       "      <td>0</td>\n",
       "      <td>0</td>\n",
       "      <td>0</td>\n",
       "      <td>0</td>\n",
       "      <td>0</td>\n",
       "      <td>0</td>\n",
       "      <td>0</td>\n",
       "      <td>0</td>\n",
       "      <td>0</td>\n",
       "      <td>0</td>\n",
       "      <td>0</td>\n",
       "      <td>0</td>\n",
       "      <td>0</td>\n",
       "      <td>0</td>\n",
       "      <td>0</td>\n",
       "      <td>0</td>\n",
       "      <td>0</td>\n",
       "      <td>0</td>\n",
       "      <td>0</td>\n",
       "      <td>0</td>\n",
       "      <td>0</td>\n",
       "      <td>0</td>\n",
       "      <td>1</td>\n",
       "      <td>0</td>\n",
       "      <td>0</td>\n",
       "      <td>0</td>\n",
       "      <td>0</td>\n",
       "      <td>0</td>\n",
       "      <td>0</td>\n",
       "      <td>0</td>\n",
       "      <td>0</td>\n",
       "      <td>0</td>\n",
       "      <td>0</td>\n",
       "      <td>1</td>\n",
       "      <td>0</td>\n",
       "      <td>1</td>\n",
       "      <td>0</td>\n",
       "      <td>0</td>\n",
       "      <td>1</td>\n",
       "      <td>0</td>\n",
       "      <td>0</td>\n",
       "      <td>0</td>\n",
       "      <td>0</td>\n",
       "      <td>0</td>\n",
       "      <td>0</td>\n",
       "      <td>0</td>\n",
       "      <td>0</td>\n",
       "      <td>1</td>\n",
       "    </tr>\n",
       "    <tr>\n",
       "      <th>1</th>\n",
       "      <td>user_1</td>\n",
       "      <td>0</td>\n",
       "      <td>1.0</td>\n",
       "      <td>1</td>\n",
       "      <td>0</td>\n",
       "      <td>0</td>\n",
       "      <td>0</td>\n",
       "      <td>0</td>\n",
       "      <td>0</td>\n",
       "      <td>0</td>\n",
       "      <td>0</td>\n",
       "      <td>0</td>\n",
       "      <td>0</td>\n",
       "      <td>0</td>\n",
       "      <td>0</td>\n",
       "      <td>0</td>\n",
       "      <td>1</td>\n",
       "      <td>0</td>\n",
       "      <td>0</td>\n",
       "      <td>0</td>\n",
       "      <td>0</td>\n",
       "      <td>0</td>\n",
       "      <td>0</td>\n",
       "      <td>0</td>\n",
       "      <td>0</td>\n",
       "      <td>0</td>\n",
       "      <td>0</td>\n",
       "      <td>0</td>\n",
       "      <td>0</td>\n",
       "      <td>0</td>\n",
       "      <td>0</td>\n",
       "      <td>0</td>\n",
       "      <td>0</td>\n",
       "      <td>0</td>\n",
       "      <td>0</td>\n",
       "      <td>0</td>\n",
       "      <td>0</td>\n",
       "      <td>0</td>\n",
       "      <td>0</td>\n",
       "      <td>0</td>\n",
       "      <td>0</td>\n",
       "      <td>0</td>\n",
       "      <td>0</td>\n",
       "      <td>1</td>\n",
       "      <td>0</td>\n",
       "      <td>1</td>\n",
       "      <td>0</td>\n",
       "      <td>0</td>\n",
       "      <td>0</td>\n",
       "      <td>0</td>\n",
       "      <td>1</td>\n",
       "      <td>0</td>\n",
       "      <td>0</td>\n",
       "      <td>0</td>\n",
       "      <td>0</td>\n",
       "      <td>0</td>\n",
       "      <td>0</td>\n",
       "      <td>1</td>\n",
       "    </tr>\n",
       "    <tr>\n",
       "      <th>2</th>\n",
       "      <td>user_5</td>\n",
       "      <td>1</td>\n",
       "      <td>1.0</td>\n",
       "      <td>0</td>\n",
       "      <td>0</td>\n",
       "      <td>0</td>\n",
       "      <td>0</td>\n",
       "      <td>0</td>\n",
       "      <td>0</td>\n",
       "      <td>0</td>\n",
       "      <td>0</td>\n",
       "      <td>0</td>\n",
       "      <td>0</td>\n",
       "      <td>0</td>\n",
       "      <td>0</td>\n",
       "      <td>0</td>\n",
       "      <td>0</td>\n",
       "      <td>0</td>\n",
       "      <td>0</td>\n",
       "      <td>0</td>\n",
       "      <td>0</td>\n",
       "      <td>0</td>\n",
       "      <td>0</td>\n",
       "      <td>0</td>\n",
       "      <td>0</td>\n",
       "      <td>0</td>\n",
       "      <td>1</td>\n",
       "      <td>0</td>\n",
       "      <td>0</td>\n",
       "      <td>0</td>\n",
       "      <td>0</td>\n",
       "      <td>0</td>\n",
       "      <td>0</td>\n",
       "      <td>0</td>\n",
       "      <td>0</td>\n",
       "      <td>0</td>\n",
       "      <td>0</td>\n",
       "      <td>0</td>\n",
       "      <td>0</td>\n",
       "      <td>0</td>\n",
       "      <td>0</td>\n",
       "      <td>0</td>\n",
       "      <td>0</td>\n",
       "      <td>1</td>\n",
       "      <td>0</td>\n",
       "      <td>1</td>\n",
       "      <td>0</td>\n",
       "      <td>1</td>\n",
       "      <td>0</td>\n",
       "      <td>0</td>\n",
       "      <td>0</td>\n",
       "      <td>0</td>\n",
       "      <td>0</td>\n",
       "      <td>0</td>\n",
       "      <td>0</td>\n",
       "      <td>0</td>\n",
       "      <td>0</td>\n",
       "      <td>1</td>\n",
       "    </tr>\n",
       "    <tr>\n",
       "      <th>3</th>\n",
       "      <td>user_6</td>\n",
       "      <td>0</td>\n",
       "      <td>1.0</td>\n",
       "      <td>0</td>\n",
       "      <td>0</td>\n",
       "      <td>0</td>\n",
       "      <td>0</td>\n",
       "      <td>0</td>\n",
       "      <td>0</td>\n",
       "      <td>0</td>\n",
       "      <td>0</td>\n",
       "      <td>0</td>\n",
       "      <td>0</td>\n",
       "      <td>0</td>\n",
       "      <td>0</td>\n",
       "      <td>0</td>\n",
       "      <td>1</td>\n",
       "      <td>0</td>\n",
       "      <td>0</td>\n",
       "      <td>0</td>\n",
       "      <td>0</td>\n",
       "      <td>0</td>\n",
       "      <td>0</td>\n",
       "      <td>0</td>\n",
       "      <td>0</td>\n",
       "      <td>0</td>\n",
       "      <td>0</td>\n",
       "      <td>0</td>\n",
       "      <td>0</td>\n",
       "      <td>0</td>\n",
       "      <td>0</td>\n",
       "      <td>0</td>\n",
       "      <td>0</td>\n",
       "      <td>0</td>\n",
       "      <td>0</td>\n",
       "      <td>0</td>\n",
       "      <td>0</td>\n",
       "      <td>0</td>\n",
       "      <td>0</td>\n",
       "      <td>0</td>\n",
       "      <td>0</td>\n",
       "      <td>0</td>\n",
       "      <td>0</td>\n",
       "      <td>1</td>\n",
       "      <td>0</td>\n",
       "      <td>1</td>\n",
       "      <td>0</td>\n",
       "      <td>0</td>\n",
       "      <td>0</td>\n",
       "      <td>1</td>\n",
       "      <td>0</td>\n",
       "      <td>0</td>\n",
       "      <td>0</td>\n",
       "      <td>0</td>\n",
       "      <td>0</td>\n",
       "      <td>0</td>\n",
       "      <td>0</td>\n",
       "      <td>1</td>\n",
       "    </tr>\n",
       "    <tr>\n",
       "      <th>4</th>\n",
       "      <td>user_7</td>\n",
       "      <td>0</td>\n",
       "      <td>1.0</td>\n",
       "      <td>0</td>\n",
       "      <td>0</td>\n",
       "      <td>0</td>\n",
       "      <td>0</td>\n",
       "      <td>0</td>\n",
       "      <td>0</td>\n",
       "      <td>0</td>\n",
       "      <td>0</td>\n",
       "      <td>0</td>\n",
       "      <td>0</td>\n",
       "      <td>0</td>\n",
       "      <td>0</td>\n",
       "      <td>0</td>\n",
       "      <td>0</td>\n",
       "      <td>0</td>\n",
       "      <td>0</td>\n",
       "      <td>0</td>\n",
       "      <td>0</td>\n",
       "      <td>0</td>\n",
       "      <td>0</td>\n",
       "      <td>0</td>\n",
       "      <td>0</td>\n",
       "      <td>0</td>\n",
       "      <td>0</td>\n",
       "      <td>0</td>\n",
       "      <td>0</td>\n",
       "      <td>0</td>\n",
       "      <td>0</td>\n",
       "      <td>0</td>\n",
       "      <td>0</td>\n",
       "      <td>0</td>\n",
       "      <td>1</td>\n",
       "      <td>0</td>\n",
       "      <td>0</td>\n",
       "      <td>0</td>\n",
       "      <td>0</td>\n",
       "      <td>0</td>\n",
       "      <td>0</td>\n",
       "      <td>0</td>\n",
       "      <td>0</td>\n",
       "      <td>1</td>\n",
       "      <td>0</td>\n",
       "      <td>1</td>\n",
       "      <td>0</td>\n",
       "      <td>0</td>\n",
       "      <td>1</td>\n",
       "      <td>0</td>\n",
       "      <td>0</td>\n",
       "      <td>0</td>\n",
       "      <td>0</td>\n",
       "      <td>0</td>\n",
       "      <td>0</td>\n",
       "      <td>0</td>\n",
       "      <td>0</td>\n",
       "      <td>1</td>\n",
       "    </tr>\n",
       "  </tbody>\n",
       "</table>\n",
       "</div>"
      ],
      "text/plain": [
       "  user_id  user_settings_crypto_unlocked  ...  PREMIUM_OFFER  STANDARD\n",
       "0  user_0                              1  ...              0         1\n",
       "1  user_1                              0  ...              0         1\n",
       "2  user_5                              1  ...              0         1\n",
       "3  user_6                              0  ...              0         1\n",
       "4  user_7                              0  ...              0         1\n",
       "\n",
       "[5 rows x 58 columns]"
      ]
     },
     "execution_count": 93,
     "metadata": {
      "tags": []
     },
     "output_type": "execute_result"
    }
   ],
   "source": [
    "engagement.head()"
   ]
  },
  {
   "cell_type": "markdown",
   "metadata": {
    "colab_type": "text",
    "id": "0IYio4yKCqJg"
   },
   "source": [
    "We will save the resulting model, for usage in the machine learning part."
   ]
  },
  {
   "cell_type": "code",
   "execution_count": null,
   "metadata": {
    "colab": {},
    "colab_type": "code",
    "id": "w7dj_-IKCtsW"
   },
   "outputs": [],
   "source": [
    "engagement.to_csv('data/rev-ml.csv')"
   ]
  },
  {
   "cell_type": "markdown",
   "metadata": {
    "colab_type": "text",
    "id": "SXx2uGwDGCLx"
   },
   "source": [
    "The next phase would be about preparing models for engagement classification."
   ]
  },
  {
   "cell_type": "markdown",
   "metadata": {
    "colab_type": "text",
    "id": "2ueZHZYUGNaw"
   },
   "source": [
    "##### <a name=\"ml\">**II - Classification Model**</a>\n",
    "We would be building in this phase various classification models, to test their effectiveness and precision in this task, and choose the most optimal one for our concerns. We will be experimenting with Logistic regression, Support Vector machines, K-nearest neighbors and random forests.\n",
    "\n"
   ]
  },
  {
   "cell_type": "markdown",
   "metadata": {
    "colab_type": "text",
    "id": "mxqSxVV2kfgw"
   },
   "source": [
    "First we would import our machine learning prepared dataset, and import some necessary libraries :"
   ]
  },
  {
   "cell_type": "code",
   "execution_count": null,
   "metadata": {
    "colab": {},
    "colab_type": "code",
    "id": "lT7Q1usBC1oD"
   },
   "outputs": [],
   "source": [
    "# Importing libraries\n",
    "from sklearn import metrics\n",
    "from sklearn.model_selection import train_test_split\n",
    "from sklearn.linear_model import LogisticRegression\n",
    "from sklearn.metrics import confusion_matrix\n",
    "from sklearn.metrics import classification_report\n",
    "from sklearn import svm\n",
    "from sklearn import neighbors\n",
    "from sklearn.ensemble import RandomForestClassifier\n",
    "\n",
    "# Importing the prepared machine learning dataset\n",
    "engagement = pd.read_csv('data/rev-ml.csv').drop('Unnamed: 0',axis=1)"
   ]
  },
  {
   "cell_type": "markdown",
   "metadata": {
    "colab_type": "text",
    "id": "d0y_ruPiGihe"
   },
   "source": [
    "Then we will separate our variables into two separate dataframes :"
   ]
  },
  {
   "cell_type": "code",
   "execution_count": null,
   "metadata": {
    "colab": {},
    "colab_type": "code",
    "id": "GaPnc5UDGBh5"
   },
   "outputs": [],
   "source": [
    "# creating y, the ground value variable\n",
    "y = engagement['y']\n",
    "\n",
    "# preparing the dependant variables\n",
    "X = engagement.drop('y', axis=1)\n",
    "X = X.drop('user_id',axis=1)"
   ]
  },
  {
   "cell_type": "markdown",
   "metadata": {
    "colab_type": "text",
    "id": "UxX3knMb9MEl"
   },
   "source": [
    "An exploration of our 'y' variable shows :"
   ]
  },
  {
   "cell_type": "code",
   "execution_count": null,
   "metadata": {
    "colab": {
     "base_uri": "https://localhost:8080/",
     "height": 69
    },
    "colab_type": "code",
    "id": "57N0MhdN9RGN",
    "outputId": "81173156-18ee-4e0f-cf6b-f31058c3a53e"
   },
   "outputs": [
    {
     "data": {
      "text/plain": [
       "0    10450\n",
       "1     6405\n",
       "Name: y, dtype: int64"
      ]
     },
     "execution_count": 97,
     "metadata": {
      "tags": []
     },
     "output_type": "execute_result"
    }
   ],
   "source": [
    "y.value_counts()"
   ]
  },
  {
   "cell_type": "markdown",
   "metadata": {
    "colab_type": "text",
    "id": "8Uh6tcSp9UPv"
   },
   "source": [
    "The unengaged users are much more numerous than engaged ones, which creates a slight unbalance in our dataset, that we would need to factor in our models."
   ]
  },
  {
   "cell_type": "markdown",
   "metadata": {
    "colab_type": "text",
    "id": "YNf-1HZuG5Qx"
   },
   "source": [
    "Then we would split data for training and testing separately (70% training, 30% test), so that are our model can be generalized and used on new data."
   ]
  },
  {
   "cell_type": "code",
   "execution_count": null,
   "metadata": {
    "colab": {},
    "colab_type": "code",
    "id": "XckGFoydFR6U"
   },
   "outputs": [],
   "source": [
    "# Splitting test and training data\n",
    "X_train, X_test, y_train, y_test = train_test_split(X, y, test_size=0.3, random_state=6)"
   ]
  },
  {
   "cell_type": "markdown",
   "metadata": {
    "colab_type": "text",
    "id": "jk_wxBJRj7fG"
   },
   "source": [
    "###### <a name=\"a\">*Logistic Regression*</a>"
   ]
  },
  {
   "cell_type": "markdown",
   "metadata": {
    "colab_type": "text",
    "id": "t-F995N3HTas"
   },
   "source": [
    "We will begin with implementing a logistic regression on our data. Logistic regression is a statistical model that in its basic form uses a logistic function to model a binary dependent variable. \n",
    "\n"
   ]
  },
  {
   "cell_type": "markdown",
   "metadata": {
    "colab_type": "text",
    "id": "M7zhY6vj-cP1"
   },
   "source": [
    "We will create our model, and train it using our training data :"
   ]
  },
  {
   "cell_type": "code",
   "execution_count": null,
   "metadata": {
    "colab": {
     "base_uri": "https://localhost:8080/",
     "height": 104
    },
    "colab_type": "code",
    "id": "p1jZIpxjGzbB",
    "outputId": "edcc49cb-877f-48c1-c0ea-d3800c372841"
   },
   "outputs": [
    {
     "data": {
      "text/plain": [
       "LogisticRegression(C=1.0, class_weight={0: 0.9, 1: 1.35}, dual=False,\n",
       "                   fit_intercept=True, intercept_scaling=1, l1_ratio=None,\n",
       "                   max_iter=1000, multi_class='auto', n_jobs=None, penalty='l2',\n",
       "                   random_state=6, solver='lbfgs', tol=0.0001, verbose=0,\n",
       "                   warm_start=False)"
      ]
     },
     "execution_count": 99,
     "metadata": {
      "tags": []
     },
     "output_type": "execute_result"
    }
   ],
   "source": [
    "# creating the model, with weights for the unbalanced dataset\n",
    "logreg = LogisticRegression(max_iter=1000,random_state=6,class_weight={1:1.35,0:0.9})\n",
    "\n",
    "# training the model\n",
    "logreg.fit(X_train, y_train)"
   ]
  },
  {
   "cell_type": "markdown",
   "metadata": {
    "colab_type": "text",
    "id": "UkdCw2hB-hVE"
   },
   "source": [
    "We will next be testing its accuracy on the test data we split earlier :"
   ]
  },
  {
   "cell_type": "code",
   "execution_count": null,
   "metadata": {
    "colab": {
     "base_uri": "https://localhost:8080/",
     "height": 34
    },
    "colab_type": "code",
    "id": "z2rmNl-JHCXp",
    "outputId": "217f3af3-4cc0-497d-a587-0b6e70f2191c"
   },
   "outputs": [
    {
     "name": "stdout",
     "output_type": "stream",
     "text": [
      "Accuracy of logistic regression classifier on test set: 0.58\n"
     ]
    }
   ],
   "source": [
    "# Making predictions on test data\n",
    "y_pred = logreg.predict(X_test)\n",
    "\n",
    "# printing accuracy of predictions\n",
    "print('Accuracy of logistic regression classifier on test set: {:.2f}'.format(logreg.score(X_test, y_test)))"
   ]
  },
  {
   "cell_type": "markdown",
   "metadata": {
    "colab_type": "text",
    "id": "i1FUR5UU-pG4"
   },
   "source": [
    "The accuracy of our model on our data is 58%. The label counts appear to be unbalanced, with unengaged users being much more than engaged users, so accuracy isn't a very reliable metric in this situation. For that reason, we will create a confusion matrix to analyze the results."
   ]
  },
  {
   "cell_type": "code",
   "execution_count": null,
   "metadata": {
    "colab": {
     "base_uri": "https://localhost:8080/",
     "height": 52
    },
    "colab_type": "code",
    "id": "RYaiYKR6Hm1G",
    "outputId": "6985e76a-57e0-4dd4-d598-de01b9f5f590"
   },
   "outputs": [
    {
     "name": "stdout",
     "output_type": "stream",
     "text": [
      "[[2194  939]\n",
      " [1188  736]]\n"
     ]
    }
   ],
   "source": [
    "# creating confusion matrix\n",
    "confusion = confusion_matrix(y_test, y_pred)\n",
    "print(confusion)"
   ]
  },
  {
   "cell_type": "markdown",
   "metadata": {
    "colab_type": "text",
    "id": "uPwcptDxADY0"
   },
   "source": [
    "A view of the confusion matrix shows that the model recognizes many values as True negatives, a few as true positives, but with numerous entries on False positives and false negatives.\n",
    "\n",
    "Below appears a classification report, with the recall and precision of each class. As it is apparent, our model got 70% of the existing unengaged users, and had a precision of 65%. It remains lacking in terms of recall and precision for the engaged class, capturing only 38% of the engaged users, with only 44% precision on the class."
   ]
  },
  {
   "cell_type": "code",
   "execution_count": null,
   "metadata": {
    "colab": {
     "base_uri": "https://localhost:8080/",
     "height": 173
    },
    "colab_type": "code",
    "id": "d8Dx1-x8Hp70",
    "outputId": "5e4d1083-0639-4d4f-f724-d17dfc59350e"
   },
   "outputs": [
    {
     "name": "stdout",
     "output_type": "stream",
     "text": [
      "              precision    recall  f1-score   support\n",
      "\n",
      "           0       0.65      0.70      0.67      3133\n",
      "           1       0.44      0.38      0.41      1924\n",
      "\n",
      "    accuracy                           0.58      5057\n",
      "   macro avg       0.54      0.54      0.54      5057\n",
      "weighted avg       0.57      0.58      0.57      5057\n",
      "\n"
     ]
    }
   ],
   "source": [
    "print(classification_report(y_test, y_pred))"
   ]
  },
  {
   "cell_type": "markdown",
   "metadata": {
    "colab_type": "text",
    "id": "S_Y5hjUzkG7i"
   },
   "source": [
    "###### <a name=\"b\">*Support Vector Machine*</a>"
   ]
  },
  {
   "cell_type": "markdown",
   "metadata": {
    "colab_type": "text",
    "id": "EraN2IrsDCLp"
   },
   "source": [
    "We will try next support vector machine for classification. A support vector machine (SVM) is a supervised machine learning model that uses classification algorithms for two-group classification problems.\n",
    "\n",
    "We will begin by creating the model, training it, and making predictions on our test dataset."
   ]
  },
  {
   "cell_type": "code",
   "execution_count": null,
   "metadata": {
    "colab": {
     "base_uri": "https://localhost:8080/",
     "height": 34
    },
    "colab_type": "code",
    "id": "4ISlLZiyDBGw",
    "outputId": "03415bde-a55b-4717-c562-b417f65e8932"
   },
   "outputs": [
    {
     "name": "stdout",
     "output_type": "stream",
     "text": [
      "Accuracy of svm classifier on test set: 0.62\n"
     ]
    }
   ],
   "source": [
    "# creating svm model with an rbf kernel\n",
    "clf = svm.SVC(kernel='rbf')\n",
    "\n",
    "# training the svm model\n",
    "clf.fit(X_train, y_train)\n",
    "\n",
    "# making predictions on the test data with the svm model\n",
    "y_pred = clf.predict(X_test)\n",
    "\n",
    "# priting the accuracy of the svm model\n",
    "print('Accuracy of svm classifier on test set: {:.2f}'.format(clf.score(X_test, y_test)))"
   ]
  },
  {
   "cell_type": "markdown",
   "metadata": {
    "colab_type": "text",
    "id": "WkAkJHkk0ucR"
   },
   "source": [
    "The overall accuracy of our SVM model is 62%. We will now observe the other metrics."
   ]
  },
  {
   "cell_type": "code",
   "execution_count": null,
   "metadata": {
    "colab": {
     "base_uri": "https://localhost:8080/",
     "height": 243
    },
    "colab_type": "code",
    "id": "-qFDQqV_EJMm",
    "outputId": "53b1895a-aa62-4d6f-ca81-a3cf2e770992"
   },
   "outputs": [
    {
     "name": "stdout",
     "output_type": "stream",
     "text": [
      "Confusion matrix for the SVM model on test data :\n",
      "[[3040   93]\n",
      " [1848   76]]\n",
      "SVM Classification report :\n",
      "              precision    recall  f1-score   support\n",
      "\n",
      "           0       0.62      0.97      0.76      3133\n",
      "           1       0.45      0.04      0.07      1924\n",
      "\n",
      "    accuracy                           0.62      5057\n",
      "   macro avg       0.54      0.50      0.42      5057\n",
      "weighted avg       0.56      0.62      0.50      5057\n",
      "\n"
     ]
    }
   ],
   "source": [
    "# creating the confusion matrix of the testing\n",
    "confusion = confusion_matrix(y_test, y_pred)\n",
    "\n",
    "# priting information about the model\n",
    "print(\"Confusion matrix for the SVM model on test data :\")\n",
    "print(confusion)\n",
    "print(\"SVM Classification report :\")\n",
    "print(classification_report(y_test, y_pred))"
   ]
  },
  {
   "cell_type": "markdown",
   "metadata": {
    "colab_type": "text",
    "id": "unRig3gL1DEa"
   },
   "source": [
    "We observe that our model captures 97% of the unnengaged users, and has a precision of detecting them of 62%. Nevertheless, it could only capture 4% of the engaged users, with a precision of 45%, which brought out a high number of false negatives."
   ]
  },
  {
   "cell_type": "markdown",
   "metadata": {
    "colab_type": "text",
    "id": "CXfpUrH2kLrV"
   },
   "source": [
    "###### <a name=\"c\">*K-Nearest Neighbors*</a>"
   ]
  },
  {
   "cell_type": "markdown",
   "metadata": {
    "colab_type": "text",
    "id": "VjOIvGikL01M"
   },
   "source": [
    "We will now work on implementing a K-nearest neighbors model. The KNN model is a supervised machine learning for regression and classifications tasks, that projects observations in a vectorial space, and computes distances between them to find the nearest neighborhood for prediction.\n",
    "\n",
    "We begin by implementing and testing the KNN model on our data"
   ]
  },
  {
   "cell_type": "code",
   "execution_count": null,
   "metadata": {
    "colab": {
     "base_uri": "https://localhost:8080/",
     "height": 34
    },
    "colab_type": "code",
    "id": "Gyq54M41ESo1",
    "outputId": "1e8dea82-9cd9-4a54-da4d-abc9c3235601"
   },
   "outputs": [
    {
     "name": "stdout",
     "output_type": "stream",
     "text": [
      "Accuracy of knn model on test set: 0.58\n"
     ]
    }
   ],
   "source": [
    "# creating the knn model\n",
    "knn = neighbors.KNeighborsClassifier(n_neighbors=9,weights='distance')\n",
    "\n",
    "# training the knn model\n",
    "knn.fit(X_train, y_train)\n",
    "\n",
    "# making predictions on the test data\n",
    "y_pred = knn.predict(X_test)\n",
    "\n",
    "# printing accuracy of the model\n",
    "print('Accuracy of knn model on test set: {:.2f}'.format(knn.score(X_test, y_test)))"
   ]
  },
  {
   "cell_type": "code",
   "execution_count": null,
   "metadata": {
    "colab": {
     "base_uri": "https://localhost:8080/",
     "height": 243
    },
    "colab_type": "code",
    "id": "_AzTA4AYMIUP",
    "outputId": "5c4eb21a-d403-4c44-bf41-101f61bd59c6"
   },
   "outputs": [
    {
     "name": "stdout",
     "output_type": "stream",
     "text": [
      "Confusion matrix for the KNN model on test data :\n",
      "[[2464  669]\n",
      " [1478  446]]\n",
      "KNN Classification report :\n",
      "              precision    recall  f1-score   support\n",
      "\n",
      "           0       0.63      0.79      0.70      3133\n",
      "           1       0.40      0.23      0.29      1924\n",
      "\n",
      "    accuracy                           0.58      5057\n",
      "   macro avg       0.51      0.51      0.50      5057\n",
      "weighted avg       0.54      0.58      0.54      5057\n",
      "\n"
     ]
    }
   ],
   "source": [
    "# generating confusion matrix of the model\n",
    "confusion = confusion_matrix(y_test, y_pred)\n",
    "\n",
    "# printing information about model performance\n",
    "print(\"Confusion matrix for the KNN model on test data :\")\n",
    "print(confusion)\n",
    "print(\"KNN Classification report :\")\n",
    "print(classification_report(y_test, y_pred))"
   ]
  },
  {
   "cell_type": "markdown",
   "metadata": {
    "colab_type": "text",
    "id": "XvXunPPG2hIl"
   },
   "source": [
    "The model captures 79% of the unnengaged users, with a precision of their recognition as unnengaged of 63%. On the other hand, it captures 23% of engaged users in our dataset, with a precision of 40%."
   ]
  },
  {
   "cell_type": "markdown",
   "metadata": {
    "colab_type": "text",
    "id": "jRlbTwfKkP-h"
   },
   "source": [
    "###### <a name=\"d\">*Random Forest* </a>"
   ]
  },
  {
   "cell_type": "markdown",
   "metadata": {
    "colab_type": "text",
    "id": "SZOB8u4KES-K"
   },
   "source": [
    "Our next model is a random forest. Random forests or random decision forests are an ensemble learning method for classification, regression and other tasks that operate by constructing a multitude of decision trees at training time and outputting the class predicted by the majority of the trees at inference time.\n",
    "\n",
    "We begin by implementing the model and testing its accuracy.\n",
    "\n"
   ]
  },
  {
   "cell_type": "code",
   "execution_count": null,
   "metadata": {
    "colab": {
     "base_uri": "https://localhost:8080/",
     "height": 34
    },
    "colab_type": "code",
    "id": "nZZNBnSLSeev",
    "outputId": "7a2f9447-dd0e-453c-c6d9-27c1edf046a8"
   },
   "outputs": [
    {
     "name": "stdout",
     "output_type": "stream",
     "text": [
      "Accuracy of random forest classifier on test set: 0.58\n"
     ]
    }
   ],
   "source": [
    "# Creating the random forest model\n",
    "randomforest = RandomForestClassifier(n_estimators=5)\n",
    "\n",
    "# training the random forest model\n",
    "randomforest.fit(X_train, y_train)\n",
    "\n",
    "# testing the model on testing data\n",
    "y_pred = randomforest.predict(X_test)\n",
    "\n",
    "# printing out accuracy of the model\n",
    "print('Accuracy of random forest classifier on test set: {:.2f}'.format(randomforest.score(X_test, y_test)))"
   ]
  },
  {
   "cell_type": "markdown",
   "metadata": {
    "colab_type": "text",
    "id": "H8ONrcEV476R"
   },
   "source": [
    "We build a confusion matrix for our model to analyze it further :"
   ]
  },
  {
   "cell_type": "code",
   "execution_count": null,
   "metadata": {
    "colab": {
     "base_uri": "https://localhost:8080/",
     "height": 243
    },
    "colab_type": "code",
    "id": "W-CREgsUTSyK",
    "outputId": "f3e77dc9-bf50-4992-fb67-c35e112a0d38"
   },
   "outputs": [
    {
     "name": "stdout",
     "output_type": "stream",
     "text": [
      "Confusion matrix for the Random Forest model on test data :\n",
      "[[2441  692]\n",
      " [1429  495]]\n",
      "Random Forest Classification report :\n",
      "              precision    recall  f1-score   support\n",
      "\n",
      "           0       0.63      0.78      0.70      3133\n",
      "           1       0.42      0.26      0.32      1924\n",
      "\n",
      "    accuracy                           0.58      5057\n",
      "   macro avg       0.52      0.52      0.51      5057\n",
      "weighted avg       0.55      0.58      0.55      5057\n",
      "\n"
     ]
    }
   ],
   "source": [
    "# generating confusion matrix for the model\n",
    "confusion = confusion_matrix(y_test, y_pred)\n",
    "\n",
    "# printing out the model performance data\n",
    "print(\"Confusion matrix for the Random Forest model on test data :\")\n",
    "print(confusion)\n",
    "print(\"Random Forest Classification report :\")\n",
    "print(classification_report(y_test, y_pred))"
   ]
  },
  {
   "cell_type": "markdown",
   "metadata": {
    "colab_type": "text",
    "id": "ky61_0p95FqN"
   },
   "source": [
    "Our model captures 78% of the unnengaged users in the dataset, with a precision of 63%. The recall is though only 26% for engaged users, with precision of 42%."
   ]
  },
  {
   "cell_type": "markdown",
   "metadata": {
    "colab_type": "text",
    "id": "jT8pGNGu5c5A"
   },
   "source": [
    "###### <a name=\"e\">*Final Model choice* </a>"
   ]
  },
  {
   "cell_type": "markdown",
   "metadata": {
    "colab_type": "text",
    "id": "PoBptSlq5hR2"
   },
   "source": [
    "The four machine learning models bring out some slightly differing results. \n",
    "\n",
    "As we're trying to reduce churn, we aim to capture the highest number of unnengaged users in our model. For that, the Support vector machine model appears to be the best one. Nevertheless, we make the hypothesis that reengaging each unnengaged user costs for the company, and that is reason for maximizing precision and recall for engaged users too, to minimize the number of false negatives.\n",
    "\n",
    "The logistic regression model, after adding weights, appear to be the middle ground of both goals, with a good recall and precision for unnengaged users, and a moderate recall and precision for engaged users. That is the reason we'll be choosing that model for our task."
   ]
  },
  {
   "cell_type": "markdown",
   "metadata": {
    "colab_type": "text",
    "id": "3lcFv3Q_jk4_"
   },
   "source": [
    "---\n",
    "#### <a name=\"4\">**Part 4 :** *Churn reduction*</a>\n",
    "We assume that an unengaged user is a churned user, and that we use our chosen model to identify unengaged users and implement business actions to try to convert them to engaged users. "
   ]
  },
  {
   "cell_type": "markdown",
   "metadata": {
    "colab_type": "text",
    "id": "at4SXjjuOkIY"
   },
   "source": [
    "We will conduct some A/B testing to experiment and check the effect of our business action on churn reduction, and then we'll perform a statistical test to gauge whether the reduction was due to chance or our actions.\n",
    "\n",
    "To explain further, we would begin by choosing two statistically significant populations of identified unengaged users, that have similar conditions (crypto, plan, ancientness, etc). We would then peform our business actions on one of the two populations.\n",
    "\n",
    "Our null hypothesis states afterward that any difference between the two populations is due to chance. The negation of the hypothesis would make our business actions having a significant effect on user re-engagement. \n",
    "\n",
    "To achieve that, we will perform a t-test, on the average difference of transactions before and after receiving notifications. If the p-value ends up showing that there is statistical significance and that the change in average difference of amount of transactions is not due to chance, that would validate the effect of our business action."
   ]
  }
 ],
 "metadata": {
  "colab": {
   "collapsed_sections": [
    "dFQtZP7usfl3",
    "yio9-ZTZSZao",
    "vsZ8Vw4S3kup",
    "dTKfiL7C5JO5",
    "IaewJT9RBNNM"
   ],
   "name": "Revolut Deliverable",
   "provenance": []
  },
  "kernelspec": {
   "display_name": "Python 3 (ipykernel)",
   "language": "python",
   "name": "python3"
  },
  "language_info": {
   "codemirror_mode": {
    "name": "ipython",
    "version": 3
   },
   "file_extension": ".py",
   "mimetype": "text/x-python",
   "name": "python",
   "nbconvert_exporter": "python",
   "pygments_lexer": "ipython3",
   "version": "3.10.12"
  }
 },
 "nbformat": 4,
 "nbformat_minor": 1
}
